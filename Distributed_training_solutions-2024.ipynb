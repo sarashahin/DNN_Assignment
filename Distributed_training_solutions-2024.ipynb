{
 "cells": [
  {
   "cell_type": "markdown",
   "metadata": {
    "id": "BAfJCaULD2Yp"
   },
   "source": [
    "# Distributed Training of Neural Network Models\n",
    "\n",
    "\n",
    "Below is the basic implementation of Federated Learning code for 2 clients and a server for one communication round using the MNIST dataset.\n",
    "\n",
    "Your task for this lab is to utilize this code as a benchmark and accomplish  the following objectives:\n",
    "\n",
    "1. Comment each section of the code to understand its functionality.\n",
    "\n",
    "2. Experiment with different neural network architectures, varying the number of layers and activation functions\n",
    "\n",
    "3. Assess the model's performance as the number of clients changes. Utilize 2, 4, 6, 8, and 10 clients, and plot a graph illustrating the model's performance across varying client counts.\n",
    "\n",
    "4. Introduce one dishonest client. For this client, assign some training labels ('y_train') to a specific label, such as '4'. Analyze how the performance ((accuracy, precision, recall, and f-score)) of the global model is affected by the presence of a dishonest client. Find approximately how many labels need to be maliciously altered so that the performance degrades."
   ]
  },
  {
   "cell_type": "code",
   "execution_count": 1,
   "metadata": {},
   "outputs": [],
   "source": [
    "import numpy as np\n",
    "import tensorflow as tf\n",
    "from tensorflow.keras.datasets import mnist\n",
    "from tensorflow.keras.models import Sequential\n",
    "from tensorflow.keras.layers import Dense, Flatten\n",
    "from tensorflow.keras.optimizers import SGD\n",
    "from sklearn.model_selection import train_test_split\n",
    "from keras import backend as K\n",
    "import random"
   ]
  },
  {
   "cell_type": "code",
   "execution_count": 2,
   "metadata": {},
   "outputs": [],
   "source": [
    "# Set seed for Python's built-in random number generator\n",
    "\n",
    "# Set seed for numpy. Put your SID instead of number '42'\n",
    "np.random.seed(2167288) \n",
    "# Set seed for Python's built-in random number generator.  Put your SID instead of number '42'\n",
    "random.seed(2167288)\n",
    "\n",
    "# Set seed for TensorFlow tf.random.set_seed(42)\n",
    "# Put your SID instead of number '42'\n",
    "tf.random.set_seed(2167288)\n",
    "\n",
    "K.clear_session() # Set seed for Keras"
   ]
  },
  {
   "cell_type": "code",
   "execution_count": 3,
   "metadata": {},
   "outputs": [],
   "source": [
    "# Load MNIST dataset\n",
    "(x_train, y_train), (x_test, y_test) = mnist.load_data()"
   ]
  },
  {
   "cell_type": "code",
   "execution_count": 4,
   "metadata": {},
   "outputs": [],
   "source": [
    "# Normalize and reshape data\n",
    "x_train = x_train.astype('float32') / 255.0\n",
    "x_test = x_test.astype('float32') / 255.0\n",
    "x_train = np.expand_dims(x_train, -1)\n",
    "x_test = np.expand_dims(x_test, -1)"
   ]
  },
  {
   "cell_type": "code",
   "execution_count": 5,
   "metadata": {},
   "outputs": [
    {
     "name": "stdout",
     "output_type": "stream",
     "text": [
      "(60000, 28, 28, 1)\n",
      "(10000, 28, 28, 1)\n"
     ]
    }
   ],
   "source": [
    "print(x_train.shape)\n",
    "print(x_test.shape)\n"
   ]
  },
  {
   "cell_type": "code",
   "execution_count": 19,
   "metadata": {},
   "outputs": [],
   "source": [
    "# Define client functions\n",
    "def create_client_model():\n",
    "    model = Sequential([\n",
    "        Flatten(input_shape=(28, 28, 1)),\n",
    "        Dense(128, activation='relu'),\n",
    "        Dense(10, activation='softmax')\n",
    "    ])\n",
    "    model.compile(optimizer='adam', loss='sparse_categorical_crossentropy', metrics=['accuracy'])\n",
    "    return model\n",
    "\n",
    "def train_client_model(model, x_train, y_train, epochs=5):\n",
    "    history = model.fit(x_train, y_train, epochs=epochs, \n",
    "              #verbose=0,\n",
    "             verbose=1)\n",
    "    return model,history"
   ]
  },
  {
   "cell_type": "markdown",
   "metadata": {},
   "source": [
    "## 2 Clients"
   ]
  },
  {
   "cell_type": "code",
   "execution_count": 7,
   "metadata": {},
   "outputs": [],
   "source": [
    "# Split data into two clients\n",
    "x_train_c1, x_train_c2, y_train_c1, y_train_c2 = train_test_split(x_train, y_train, test_size=0.5, \n",
    "                                                                  #random_state=42,\n",
    "                                                  # Put your SID instead of number '42'                \n",
    "                                                                  random_state= 2167288\n",
    "                                                                 )"
   ]
  },
  {
   "cell_type": "code",
   "execution_count": 8,
   "metadata": {},
   "outputs": [
    {
     "name": "stdout",
     "output_type": "stream",
     "text": [
      "(30000, 28, 28, 1)\n",
      "(30000, 28, 28, 1)\n",
      "(30000,)\n",
      "(30000,)\n"
     ]
    }
   ],
   "source": [
    "print(x_train_c1.shape)\n",
    "print(x_train_c2.shape)\n",
    "print(y_train_c1.shape)\n",
    "print(y_train_c2.shape)"
   ]
  },
  {
   "cell_type": "code",
   "execution_count": 20,
   "metadata": {},
   "outputs": [
    {
     "name": "stdout",
     "output_type": "stream",
     "text": [
      "Epoch 1/5\n",
      "938/938 [==============================] - 1s 720us/step - loss: 0.3380 - accuracy: 0.9029\n",
      "Epoch 2/5\n",
      "938/938 [==============================] - 1s 863us/step - loss: 0.1611 - accuracy: 0.9527\n",
      "Epoch 3/5\n",
      "938/938 [==============================] - 1s 668us/step - loss: 0.1141 - accuracy: 0.9652\n",
      "Epoch 4/5\n",
      "938/938 [==============================] - 1s 651us/step - loss: 0.0824 - accuracy: 0.9742\n",
      "Epoch 5/5\n",
      "938/938 [==============================] - 1s 664us/step - loss: 0.0638 - accuracy: 0.9811\n",
      "Epoch 1/5\n",
      "938/938 [==============================] - 1s 723us/step - loss: 0.3361 - accuracy: 0.9048\n",
      "Epoch 2/5\n",
      "938/938 [==============================] - 1s 691us/step - loss: 0.1574 - accuracy: 0.9554\n",
      "Epoch 3/5\n",
      "938/938 [==============================] - 1s 675us/step - loss: 0.1082 - accuracy: 0.9682\n",
      "Epoch 4/5\n",
      "938/938 [==============================] - 1s 648us/step - loss: 0.0791 - accuracy: 0.9767\n",
      "Epoch 5/5\n",
      "938/938 [==============================] - 1s 674us/step - loss: 0.0596 - accuracy: 0.9826\n"
     ]
    }
   ],
   "source": [
    "\n",
    "\n",
    "# Create and train client models\n",
    "client1_model = create_client_model()\n",
    "client2_model = create_client_model()\n",
    "\n",
    "client1_model, history1 = train_client_model(client1_model, x_train_c1, y_train_c1)\n",
    "client2_model, history2 = train_client_model(client2_model, x_train_c2, y_train_c2)"
   ]
  },
  {
   "cell_type": "code",
   "execution_count": 21,
   "metadata": {},
   "outputs": [
    {
     "data": {
      "image/png": "[encoded data removed]",
      "text/plain": [
       "<Figure size 1200x500 with 2 Axes>"
      ]
     },
     "metadata": {},
     "output_type": "display_data"
    }
   ],
   "source": [
    "# Plot training history for Client 2\n",
    "plt.figure(figsize=(12, 5))\n",
    "\n",
    "# Plot accuracy\n",
    "plt.subplot(1, 2, 1)\n",
    "plt.plot(history2.history['accuracy'], label='Accuracy')\n",
    "plt.title('Training Accuracy for Client 2')\n",
    "plt.xlabel('Epoch')\n",
    "plt.ylabel('Accuracy')\n",
    "plt.legend()\n",
    "\n",
    "# Plot loss\n",
    "plt.subplot(1, 2, 2)\n",
    "plt.plot(history2.history['loss'], label='Loss')\n",
    "plt.title('Training Loss for Client 2')\n",
    "plt.xlabel('Epoch')\n",
    "plt.ylabel('Loss')\n",
    "plt.legend()\n",
    "\n",
    "plt.show()\n"
   ]
  },
  {
   "cell_type": "code",
   "execution_count": 22,
   "metadata": {},
   "outputs": [],
   "source": [
    "# Federated averaging\n",
    "\n",
    "def federated_average_weights(weights1, weights2):\n",
    "    new_weights = []\n",
    "    for w1, w2 in zip(weights1, weights2):\n",
    "        new_weights.append((w1 + w2) / 2)\n",
    "    return new_weights"
   ]
  },
  {
   "cell_type": "code",
   "execution_count": 23,
   "metadata": {},
   "outputs": [],
   "source": [
    "# Aggregate models\n",
    "\n",
    "aggregated_weights = federated_average_weights(client1_model.get_weights(), client2_model.get_weights())"
   ]
  },
  {
   "cell_type": "code",
   "execution_count": 24,
   "metadata": {},
   "outputs": [],
   "source": [
    "# Create global model and set weights\n",
    "\n",
    "global_model = create_client_model()\n",
    "global_model.set_weights(aggregated_weights)"
   ]
  },
  {
   "cell_type": "code",
   "execution_count": 25,
   "metadata": {},
   "outputs": [
    {
     "name": "stdout",
     "output_type": "stream",
     "text": [
      "313/313 - 0s - loss: 0.3482 - accuracy: 0.9063 - 251ms/epoch - 802us/step\n",
      "Test accuracy: 0.9063000082969666\n"
     ]
    }
   ],
   "source": [
    "# Evaluate global model\n",
    "\n",
    "test_loss, test_acc = global_model.evaluate(x_test, y_test, verbose=2)\n",
    "print('Test accuracy:', test_acc)"
   ]
  },
  {
   "cell_type": "code",
   "execution_count": 26,
   "metadata": {},
   "outputs": [],
   "source": [
    "test_accuracy = []"
   ]
  },
  {
   "cell_type": "code",
   "execution_count": 27,
   "metadata": {},
   "outputs": [],
   "source": [
    "test_accuracy.append(0.8851000070571899)"
   ]
  },
  {
   "cell_type": "code",
   "execution_count": 28,
   "metadata": {},
   "outputs": [
    {
     "data": {
      "text/plain": [
       "[0.8851000070571899]"
      ]
     },
     "execution_count": 28,
     "metadata": {},
     "output_type": "execute_result"
    }
   ],
   "source": [
    "test_accuracy"
   ]
  },
  {
   "cell_type": "markdown",
   "metadata": {},
   "source": [
    "#### Write your code to calculate precision, recall, and F-score\n"
   ]
  },
  {
   "cell_type": "code",
   "execution_count": 29,
   "metadata": {},
   "outputs": [],
   "source": [
    "from sklearn.metrics import classification_report\n",
    "from sklearn.metrics import accuracy_score, precision_score, recall_score, f1_score"
   ]
  },
  {
   "cell_type": "code",
   "execution_count": 30,
   "metadata": {},
   "outputs": [
    {
     "name": "stdout",
     "output_type": "stream",
     "text": [
      "313/313 [==============================] - 0s 358us/step\n",
      "(10000, 10)\n"
     ]
    }
   ],
   "source": [
    "predictions = global_model.predict(x_test)\n",
    "print(predictions.shape)\n",
    "\n",
    "predictions = list(predictions.argmax(axis=1))"
   ]
  },
  {
   "cell_type": "code",
   "execution_count": 31,
   "metadata": {},
   "outputs": [
    {
     "name": "stdout",
     "output_type": "stream",
     "text": [
      "              precision    recall  f1-score   support\n",
      "\n",
      "           0       0.96      0.96      0.96       980\n",
      "           1       0.98      0.98      0.98      1135\n",
      "           2       0.80      0.97      0.88      1032\n",
      "           3       0.92      0.89      0.90      1010\n",
      "           4       0.94      0.80      0.86       982\n",
      "           5       0.89      0.92      0.91       892\n",
      "           6       0.97      0.94      0.95       958\n",
      "           7       0.77      0.95      0.85      1028\n",
      "           8       0.95      0.85      0.89       974\n",
      "           9       0.96      0.80      0.87      1009\n",
      "\n",
      "    accuracy                           0.91     10000\n",
      "   macro avg       0.91      0.91      0.91     10000\n",
      "weighted avg       0.91      0.91      0.91     10000\n",
      "\n"
     ]
    }
   ],
   "source": [
    "print(classification_report(y_test, predictions))"
   ]
  },
  {
   "cell_type": "code",
   "execution_count": 32,
   "metadata": {},
   "outputs": [
    {
     "name": "stdout",
     "output_type": "stream",
     "text": [
      "Accuracy test set:  0.9063\n",
      "Precision test set:  0.9138997605919176\n",
      "Recall test set:  0.9063\n",
      "F-score test set:  0.9066177292082812\n"
     ]
    }
   ],
   "source": [
    "print(\"Accuracy test set: \", accuracy_score(y_test, predictions))\n",
    "\n",
    "print(\"Precision test set: \", precision_score(y_test, predictions, average = 'weighted' )) \n",
    "print(\"Recall test set: \", recall_score(y_test, predictions, average = 'weighted' ))\n",
    "print(\"F-score test set: \", f1_score(y_test, predictions, average = 'weighted' ))"
   ]
  },
  {
   "cell_type": "code",
   "execution_count": 33,
   "metadata": {},
   "outputs": [],
   "source": [
    "test_precision = []\n",
    "test_recall    = []\n",
    "test_f1_score  = []"
   ]
  },
  {
   "cell_type": "code",
   "execution_count": 34,
   "metadata": {},
   "outputs": [],
   "source": [
    "test_precision.append(0.907323157047967)\n",
    "test_recall.append(0.8851)\n",
    "test_f1_score.append(0.8851514824563385)"
   ]
  },
  {
   "cell_type": "code",
   "execution_count": null,
   "metadata": {},
   "outputs": [],
   "source": []
  },
  {
   "cell_type": "markdown",
   "metadata": {},
   "source": [
    "#### Display confusion matrix between actual and predicted values on the test data.\n"
   ]
  },
  {
   "cell_type": "code",
   "execution_count": 35,
   "metadata": {},
   "outputs": [],
   "source": [
    "from sklearn.metrics import confusion_matrix, ConfusionMatrixDisplay"
   ]
  },
  {
   "cell_type": "code",
   "execution_count": 36,
   "metadata": {},
   "outputs": [
    {
     "data": {
      "image/png": "[encoded data removed]",
      "text/plain": [
       "<Figure size 640x480 with 2 Axes>"
      ]
     },
     "metadata": {},
     "output_type": "display_data"
    }
   ],
   "source": [
    "# display confusion matrix between test output and predicted output\n",
    "\n",
    "cm = confusion_matrix(y_test, predictions) \n",
    "disp = ConfusionMatrixDisplay(confusion_matrix = cm)\n",
    "disp.plot();\n",
    "#plt.show()"
   ]
  },
  {
   "cell_type": "code",
   "execution_count": null,
   "metadata": {},
   "outputs": [],
   "source": []
  },
  {
   "cell_type": "markdown",
   "metadata": {
    "id": "aeKbFr6UHMPx"
   },
   "source": [
    "## Lab Logbook requirement: Document the\n",
    "\n",
    "1. Plot the model's performance for the number of clients ranging from 2, 4, 6, 8, and 10.\n",
    "\n",
    "2. For any specified number of clients, compare the model's performance when one (or more) dishonest clients are present. Plot the performance metrics before and after the presence of dishonest clients."
   ]
  },
  {
   "cell_type": "code",
   "execution_count": null,
   "metadata": {},
   "outputs": [],
   "source": []
  },
  {
   "cell_type": "markdown",
   "metadata": {},
   "source": [
    "## Plot the model's performance for the number of clients ranging from 2, 4, 6, 8, and 10."
   ]
  },
  {
   "cell_type": "markdown",
   "metadata": {},
   "source": [
    "## 4 Clients"
   ]
  },
  {
   "cell_type": "code",
   "execution_count": 37,
   "metadata": {},
   "outputs": [],
   "source": [
    "# Split data into 4 clients"
   ]
  },
  {
   "cell_type": "code",
   "execution_count": 38,
   "metadata": {},
   "outputs": [],
   "source": [
    "Client_1 = (x_train[0:15000], y_train[0:15000])\n",
    "Client_2 = (x_train[15000:30000], y_train[15000:30000])\n",
    "Client_3 = (x_train[30000:45000], y_train[30000:45000])\n",
    "Client_4 = (x_train[45000:], y_train[45000:])"
   ]
  },
  {
   "cell_type": "code",
   "execution_count": 39,
   "metadata": {},
   "outputs": [
    {
     "name": "stdout",
     "output_type": "stream",
     "text": [
      "(15000, 28, 28, 1)\n",
      "(15000, 28, 28, 1)\n",
      "(15000, 28, 28, 1)\n",
      "(15000, 28, 28, 1)\n",
      "(15000,)\n",
      "(15000,)\n",
      "(15000,)\n",
      "(15000,)\n"
     ]
    }
   ],
   "source": [
    "print(Client_1[0].shape)\n",
    "print(Client_2[0].shape)\n",
    "print(Client_3[0].shape)\n",
    "print(Client_4[0].shape)\n",
    "\n",
    "print(Client_1[1].shape)\n",
    "print(Client_2[1].shape)\n",
    "print(Client_3[1].shape)\n",
    "print(Client_4[1].shape)"
   ]
  },
  {
   "cell_type": "code",
   "execution_count": 40,
   "metadata": {},
   "outputs": [
    {
     "name": "stdout",
     "output_type": "stream",
     "text": [
      "Epoch 1/5\n",
      "469/469 [==============================] - 0s 689us/step - loss: 0.4406 - accuracy: 0.8759\n",
      "Epoch 2/5\n",
      "469/469 [==============================] - 0s 688us/step - loss: 0.2066 - accuracy: 0.9423\n",
      "Epoch 3/5\n",
      "469/469 [==============================] - 0s 683us/step - loss: 0.1456 - accuracy: 0.9598\n",
      "Epoch 4/5\n",
      "469/469 [==============================] - 0s 670us/step - loss: 0.1084 - accuracy: 0.9702\n",
      "Epoch 5/5\n",
      "469/469 [==============================] - 0s 660us/step - loss: 0.0816 - accuracy: 0.9769\n",
      "Epoch 1/5\n",
      "469/469 [==============================] - 0s 688us/step - loss: 2.3133 - accuracy: 0.1001\n",
      "Epoch 2/5\n",
      "469/469 [==============================] - 0s 645us/step - loss: 2.2974 - accuracy: 0.1205\n",
      "Epoch 3/5\n",
      "469/469 [==============================] - 0s 704us/step - loss: 2.2886 - accuracy: 0.1325\n",
      "Epoch 4/5\n",
      "469/469 [==============================] - 0s 622us/step - loss: 2.2732 - accuracy: 0.1438\n",
      "Epoch 5/5\n",
      "469/469 [==============================] - 0s 631us/step - loss: 2.2556 - accuracy: 0.1563\n",
      "Epoch 1/5\n",
      "469/469 [==============================] - 0s 740us/step - loss: 2.3153 - accuracy: 0.1036\n",
      "Epoch 2/5\n",
      "469/469 [==============================] - 0s 702us/step - loss: 2.2972 - accuracy: 0.1183\n",
      "Epoch 3/5\n",
      "469/469 [==============================] - 0s 688us/step - loss: 2.2876 - accuracy: 0.1295\n",
      "Epoch 4/5\n",
      "469/469 [==============================] - 0s 698us/step - loss: 2.2718 - accuracy: 0.1419\n",
      "Epoch 5/5\n",
      "469/469 [==============================] - 0s 691us/step - loss: 2.2503 - accuracy: 0.1599\n",
      "Epoch 1/5\n",
      "469/469 [==============================] - 0s 708us/step - loss: 2.3150 - accuracy: 0.1005\n",
      "Epoch 2/5\n",
      "469/469 [==============================] - 0s 640us/step - loss: 2.2972 - accuracy: 0.1183\n",
      "Epoch 3/5\n",
      "469/469 [==============================] - 0s 682us/step - loss: 2.2862 - accuracy: 0.1311\n",
      "Epoch 4/5\n",
      "469/469 [==============================] - 0s 629us/step - loss: 2.2719 - accuracy: 0.1461\n",
      "Epoch 5/5\n",
      "469/469 [==============================] - 0s 630us/step - loss: 2.2495 - accuracy: 0.1613\n"
     ]
    }
   ],
   "source": [
    "# Create and train client models\n",
    "client1_model = create_client_model()\n",
    "client2_model = create_client_model()\n",
    "client3_model = create_client_model()\n",
    "client4_model = create_client_model()\n",
    "\n",
    "client1_model = train_client_model(client1_model, Client_1[0], Client_1[1])\n",
    "client2_model = train_client_model(client2_model, Client_2[0], Client_1[1])\n",
    "client3_model = train_client_model(client3_model, Client_3[0], Client_1[1])\n",
    "client4_model = train_client_model(client4_model, Client_4[0], Client_1[1])"
   ]
  },
  {
   "cell_type": "code",
   "execution_count": 42,
   "metadata": {},
   "outputs": [
    {
     "name": "stdout",
     "output_type": "stream",
     "text": [
      "Epoch 1/5\n",
      "469/469 [==============================] - 0s 728us/step - loss: 0.4342 - accuracy: 0.8783\n",
      "Epoch 2/5\n",
      "469/469 [==============================] - 0s 708us/step - loss: 0.2121 - accuracy: 0.9404\n",
      "Epoch 3/5\n",
      "469/469 [==============================] - 0s 640us/step - loss: 0.1558 - accuracy: 0.9553\n",
      "Epoch 4/5\n",
      "469/469 [==============================] - 0s 655us/step - loss: 0.1186 - accuracy: 0.9673\n",
      "Epoch 5/5\n",
      "469/469 [==============================] - 0s 632us/step - loss: 0.0948 - accuracy: 0.9740\n"
     ]
    },
    {
     "data": {
      "image/png": "[encoded data removed]",
      "text/plain": [
       "<Figure size 1000x400 with 2 Axes>"
      ]
     },
     "metadata": {},
     "output_type": "display_data"
    }
   ],
   "source": [
    "\n",
    "def train_client_model(model, x_train, y_train, epochs=5):\n",
    "    history = model.fit(x_train, y_train, epochs=epochs, verbose=1)\n",
    "    return model, history\n",
    "\n",
    "# Select data for Client 4\n",
    "Client_4 = (x_train[45000:], y_train[45000:])\n",
    "\n",
    "# Create and train client model\n",
    "client4_model = create_client_model()\n",
    "client4_model, history4 = train_client_model(client4_model, Client_4[0], Client_4[1])\n",
    "\n",
    "# Plot the model's performance for Client 4\n",
    "plt.figure(figsize=(10, 4))\n",
    "plt.subplot(1, 2, 1)\n",
    "plt.plot(history4.history['accuracy'], label='Accuracy')\n",
    "plt.title('Client 4 Model Accuracy')\n",
    "plt.xlabel('Epoch')\n",
    "plt.ylabel('Accuracy')\n",
    "plt.legend()\n",
    "\n",
    "plt.subplot(1, 2, 2)\n",
    "plt.plot(history4.history['loss'], label='Loss')\n",
    "plt.title('Client 4 Model Loss')\n",
    "plt.xlabel('Epoch')\n",
    "plt.ylabel('Loss')\n",
    "plt.legend()\n",
    "\n",
    "plt.tight_layout()\n",
    "plt.show()"
   ]
  },
  {
   "cell_type": "code",
   "execution_count": 43,
   "metadata": {},
   "outputs": [],
   "source": [
    "# Federated averaging\n",
    "def federated_average_weights(weights1, weights2, weights3, weights4):\n",
    "    new_weights = []\n",
    "    for w1, w2, w3, w4 in zip(weights1, weights2, weights3, weights4):\n",
    "        new_weights.append((w1 + w2 + w3 + w4) / 4)\n",
    "    return new_weights\n"
   ]
  },
  {
   "cell_type": "code",
   "execution_count": 44,
   "metadata": {},
   "outputs": [
    {
     "ename": "AttributeError",
     "evalue": "'tuple' object has no attribute 'get_weights'",
     "output_type": "error",
     "traceback": [
      "\u001b[0;31m---------------------------------------------------------------------------\u001b[0m",
      "\u001b[0;31mAttributeError\u001b[0m                            Traceback (most recent call last)",
      "Cell \u001b[0;32mIn[44], line 2\u001b[0m\n\u001b[1;32m      1\u001b[0m \u001b[38;5;66;03m# Aggregate models\u001b[39;00m\n\u001b[0;32m----> 2\u001b[0m aggregated_weights \u001b[38;5;241m=\u001b[39m federated_average_weights(client1_model\u001b[38;5;241m.\u001b[39mget_weights(), \n\u001b[1;32m      3\u001b[0m                                                client2_model\u001b[38;5;241m.\u001b[39mget_weights(), \n\u001b[1;32m      4\u001b[0m                                                client3_model\u001b[38;5;241m.\u001b[39mget_weights(),\n\u001b[1;32m      5\u001b[0m                                                client4_model\u001b[38;5;241m.\u001b[39mget_weights())\n\u001b[1;32m      7\u001b[0m \u001b[38;5;66;03m# Create global model and set weights\u001b[39;00m\n\u001b[1;32m      8\u001b[0m global_model \u001b[38;5;241m=\u001b[39m create_client_model()\n",
      "\u001b[0;31mAttributeError\u001b[0m: 'tuple' object has no attribute 'get_weights'"
     ]
    }
   ],
   "source": [
    "# Aggregate models\n",
    "aggregated_weights = federated_average_weights(client1_model.get_weights(), \n",
    "                                               client2_model.get_weights(), \n",
    "                                               client3_model.get_weights(),\n",
    "                                               client4_model.get_weights())\n",
    "\n",
    "# Create global model and set weights\n",
    "global_model = create_client_model()\n",
    "global_model.set_weights(aggregated_weights)"
   ]
  },
  {
   "cell_type": "code",
   "execution_count": 45,
   "metadata": {},
   "outputs": [
    {
     "name": "stdout",
     "output_type": "stream",
     "text": [
      "313/313 - 0s - loss: 0.3482 - accuracy: 0.9063 - 135ms/epoch - 431us/step\n",
      "Test accuracy: 0.9063000082969666\n"
     ]
    }
   ],
   "source": [
    "# Evaluate global model\n",
    "test_loss, test_acc = global_model.evaluate(x_test, y_test, verbose=2)\n",
    "print('Test accuracy:', test_acc)"
   ]
  },
  {
   "cell_type": "code",
   "execution_count": 46,
   "metadata": {},
   "outputs": [
    {
     "name": "stdout",
     "output_type": "stream",
     "text": [
      "313/313 [==============================] - 0s 347us/step\n",
      "(10000, 10)\n"
     ]
    }
   ],
   "source": [
    "predictions = global_model.predict(x_test)\n",
    "print(predictions.shape)\n",
    "\n",
    "predictions = list(predictions.argmax(axis=1))"
   ]
  },
  {
   "cell_type": "code",
   "execution_count": 47,
   "metadata": {},
   "outputs": [
    {
     "name": "stdout",
     "output_type": "stream",
     "text": [
      "Accuracy test set:  0.9063\n",
      "Precision test set:  0.9138997605919176\n",
      "Recall test set:  0.9063\n",
      "F-score test set:  0.9066177292082812\n",
      "              precision    recall  f1-score   support\n",
      "\n",
      "           0       0.96      0.96      0.96       980\n",
      "           1       0.98      0.98      0.98      1135\n",
      "           2       0.80      0.97      0.88      1032\n",
      "           3       0.92      0.89      0.90      1010\n",
      "           4       0.94      0.80      0.86       982\n",
      "           5       0.89      0.92      0.91       892\n",
      "           6       0.97      0.94      0.95       958\n",
      "           7       0.77      0.95      0.85      1028\n",
      "           8       0.95      0.85      0.89       974\n",
      "           9       0.96      0.80      0.87      1009\n",
      "\n",
      "    accuracy                           0.91     10000\n",
      "   macro avg       0.91      0.91      0.91     10000\n",
      "weighted avg       0.91      0.91      0.91     10000\n",
      "\n"
     ]
    }
   ],
   "source": [
    "print(\"Accuracy test set: \", accuracy_score(y_test, predictions))\n",
    "\n",
    "print(\"Precision test set: \", precision_score(y_test, predictions, average = 'weighted' )) \n",
    "print(\"Recall test set: \", recall_score(y_test, predictions, average = 'weighted' ))\n",
    "print(\"F-score test set: \", f1_score(y_test, predictions, average = 'weighted' ))\n",
    "\n",
    "print(classification_report(y_test, predictions))"
   ]
  },
  {
   "cell_type": "code",
   "execution_count": 48,
   "metadata": {},
   "outputs": [],
   "source": [
    "test_accuracy.append(0.28790000081062317)\n",
    "test_precision.append(0.37310911314701634)\n",
    "test_recall.append(0.2879)\n",
    "test_f1_score.append(0.2500357846568731)"
   ]
  },
  {
   "cell_type": "code",
   "execution_count": 49,
   "metadata": {},
   "outputs": [
    {
     "name": "stdout",
     "output_type": "stream",
     "text": [
      "[0.8851000070571899, 0.28790000081062317]\n",
      "[0.907323157047967, 0.37310911314701634]\n",
      "[0.8851, 0.2879]\n",
      "[0.8851514824563385, 0.2500357846568731]\n"
     ]
    }
   ],
   "source": [
    "print(test_accuracy)\n",
    "print(test_precision)\n",
    "print(test_recall)\n",
    "print(test_f1_score)"
   ]
  },
  {
   "cell_type": "code",
   "execution_count": null,
   "metadata": {},
   "outputs": [],
   "source": []
  },
  {
   "cell_type": "markdown",
   "metadata": {},
   "source": [
    "## 6 Clients"
   ]
  },
  {
   "cell_type": "code",
   "execution_count": 50,
   "metadata": {},
   "outputs": [
    {
     "name": "stdout",
     "output_type": "stream",
     "text": [
      "(10000, 28, 28, 1)\n",
      "(10000, 28, 28, 1)\n",
      "(10000, 28, 28, 1)\n",
      "(10000, 28, 28, 1)\n",
      "(10000, 28, 28, 1)\n",
      "(10000, 28, 28, 1)\n",
      "(10000,)\n",
      "(10000,)\n",
      "(10000,)\n",
      "(10000,)\n",
      "(10000,)\n",
      "(10000,)\n"
     ]
    }
   ],
   "source": [
    "Client_1 = (x_train[0:10000], y_train[0:10000])\n",
    "Client_2 = (x_train[10000:20000], y_train[10000:20000])\n",
    "Client_3 = (x_train[20000:30000], y_train[20000:30000])\n",
    "Client_4 = (x_train[30000:40000], y_train[30000:40000])\n",
    "Client_5 = (x_train[40000:50000], y_train[40000:50000])\n",
    "Client_6 = (x_train[50000:], y_train[50000:])\n",
    "\n",
    "print(Client_1[0].shape)\n",
    "print(Client_2[0].shape)\n",
    "print(Client_3[0].shape)\n",
    "print(Client_4[0].shape)\n",
    "print(Client_5[0].shape)\n",
    "print(Client_6[0].shape)\n",
    "\n",
    "print(Client_1[1].shape)\n",
    "print(Client_2[1].shape)\n",
    "print(Client_3[1].shape)\n",
    "print(Client_4[1].shape)\n",
    "print(Client_5[1].shape)\n",
    "print(Client_6[1].shape)"
   ]
  },
  {
   "cell_type": "code",
   "execution_count": 51,
   "metadata": {},
   "outputs": [
    {
     "name": "stdout",
     "output_type": "stream",
     "text": [
      "Epoch 1/5\n",
      "313/313 [==============================] - 0s 686us/step - loss: 0.5274 - accuracy: 0.8561\n",
      "Epoch 2/5\n",
      "313/313 [==============================] - 0s 640us/step - loss: 0.2402 - accuracy: 0.9329\n",
      "Epoch 3/5\n",
      "313/313 [==============================] - 0s 630us/step - loss: 0.1769 - accuracy: 0.9506\n",
      "Epoch 4/5\n",
      "313/313 [==============================] - 0s 662us/step - loss: 0.1338 - accuracy: 0.9632\n",
      "Epoch 5/5\n",
      "313/313 [==============================] - 0s 636us/step - loss: 0.1052 - accuracy: 0.9704\n",
      "Epoch 1/5\n",
      "313/313 [==============================] - 0s 660us/step - loss: 2.3169 - accuracy: 0.1024\n",
      "Epoch 2/5\n",
      "313/313 [==============================] - 0s 671us/step - loss: 2.2931 - accuracy: 0.1252\n",
      "Epoch 3/5\n",
      "313/313 [==============================] - 0s 671us/step - loss: 2.2810 - accuracy: 0.1323\n",
      "Epoch 4/5\n",
      "313/313 [==============================] - 0s 725us/step - loss: 2.2617 - accuracy: 0.1510\n",
      "Epoch 5/5\n",
      "313/313 [==============================] - 0s 645us/step - loss: 2.2348 - accuracy: 0.1701\n",
      "Epoch 1/5\n",
      "313/313 [==============================] - 0s 757us/step - loss: 2.3178 - accuracy: 0.1063\n",
      "Epoch 2/5\n",
      "313/313 [==============================] - 0s 756us/step - loss: 2.2959 - accuracy: 0.1235\n",
      "Epoch 3/5\n",
      "313/313 [==============================] - 0s 748us/step - loss: 2.2844 - accuracy: 0.1325\n",
      "Epoch 4/5\n",
      "313/313 [==============================] - 0s 706us/step - loss: 2.2655 - accuracy: 0.1537\n",
      "Epoch 5/5\n",
      "313/313 [==============================] - 0s 688us/step - loss: 2.2444 - accuracy: 0.1661\n",
      "Epoch 1/5\n",
      "313/313 [==============================] - 0s 717us/step - loss: 2.3214 - accuracy: 0.1003\n",
      "Epoch 2/5\n",
      "313/313 [==============================] - 0s 705us/step - loss: 2.2936 - accuracy: 0.1260\n",
      "Epoch 3/5\n",
      "313/313 [==============================] - 0s 697us/step - loss: 2.2794 - accuracy: 0.1403\n",
      "Epoch 4/5\n",
      "313/313 [==============================] - 0s 698us/step - loss: 2.2576 - accuracy: 0.1599\n",
      "Epoch 5/5\n",
      "313/313 [==============================] - 0s 682us/step - loss: 2.2307 - accuracy: 0.1738\n",
      "Epoch 1/5\n",
      "313/313 [==============================] - 0s 827us/step - loss: 0.5380 - accuracy: 0.8471\n",
      "Epoch 2/5\n",
      "313/313 [==============================] - 0s 731us/step - loss: 0.2557 - accuracy: 0.9259\n",
      "Epoch 3/5\n",
      "313/313 [==============================] - 0s 787us/step - loss: 0.1873 - accuracy: 0.9478\n",
      "Epoch 4/5\n",
      "313/313 [==============================] - 0s 720us/step - loss: 0.1445 - accuracy: 0.9600\n",
      "Epoch 5/5\n",
      "313/313 [==============================] - 0s 724us/step - loss: 0.1126 - accuracy: 0.9691\n",
      "Epoch 1/5\n",
      "313/313 [==============================] - 0s 728us/step - loss: 0.4903 - accuracy: 0.8613\n",
      "Epoch 2/5\n",
      "313/313 [==============================] - 0s 700us/step - loss: 0.2242 - accuracy: 0.9358\n",
      "Epoch 3/5\n",
      "313/313 [==============================] - 0s 713us/step - loss: 0.1649 - accuracy: 0.9526\n",
      "Epoch 4/5\n",
      "313/313 [==============================] - 0s 747us/step - loss: 0.1267 - accuracy: 0.9637\n",
      "Epoch 5/5\n",
      "313/313 [==============================] - 0s 705us/step - loss: 0.1012 - accuracy: 0.9719\n"
     ]
    }
   ],
   "source": [
    "# Create and train client models\n",
    "client1_model = create_client_model()\n",
    "client2_model = create_client_model()\n",
    "client3_model = create_client_model()\n",
    "client4_model = create_client_model()\n",
    "client5_model = create_client_model()\n",
    "client6_model = create_client_model()\n",
    "\n",
    "client1_model = train_client_model(client1_model, Client_1[0], Client_1[1])\n",
    "client2_model = train_client_model(client2_model, Client_2[0], Client_1[1])\n",
    "client3_model = train_client_model(client3_model, Client_3[0], Client_1[1])\n",
    "client4_model = train_client_model(client4_model, Client_4[0], Client_1[1])\n",
    "client5_model = train_client_model(client5_model, Client_5[0], Client_5[1])\n",
    "client6_model = train_client_model(client6_model, Client_6[0], Client_6[1])"
   ]
  },
  {
   "cell_type": "code",
   "execution_count": 52,
   "metadata": {},
   "outputs": [
    {
     "name": "stdout",
     "output_type": "stream",
     "text": [
      "Epoch 1/5\n",
      "313/313 [==============================] - 0s 770us/step - loss: 0.5009 - accuracy: 0.8589\n",
      "Epoch 2/5\n",
      "313/313 [==============================] - 0s 682us/step - loss: 0.2319 - accuracy: 0.9332\n",
      "Epoch 3/5\n",
      "313/313 [==============================] - 0s 762us/step - loss: 0.1694 - accuracy: 0.9514\n",
      "Epoch 4/5\n",
      "313/313 [==============================] - 0s 711us/step - loss: 0.1286 - accuracy: 0.9637\n",
      "Epoch 5/5\n",
      "313/313 [==============================] - 0s 645us/step - loss: 0.1002 - accuracy: 0.9729\n"
     ]
    },
    {
     "data": {
      "image/png": "[encoded data removed]",
      "text/plain": [
       "<Figure size 1000x400 with 2 Axes>"
      ]
     },
     "metadata": {},
     "output_type": "display_data"
    }
   ],
   "source": [
    "def train_client_model(model, x_train, y_train, epochs=5):\n",
    "    history = model.fit(x_train, y_train, epochs=epochs, verbose=1)\n",
    "    return model, history\n",
    "\n",
    "# Select data for Client 6\n",
    "Client_6 = (x_train[50000:], y_train[50000:])\n",
    "\n",
    "# Create and train client model\n",
    "client6_model = create_client_model()\n",
    "client6_model, history6 = train_client_model(client6_model, Client_6[0], Client_6[1])\n",
    "\n",
    "# Plot the model's performance for Client 6\n",
    "plt.figure(figsize=(10, 4))\n",
    "plt.subplot(1, 2, 1)\n",
    "plt.plot(history4.history['accuracy'], label='Accuracy')\n",
    "plt.title('Client 6 Model Accuracy')\n",
    "plt.xlabel('Epoch')\n",
    "plt.ylabel('Accuracy')\n",
    "plt.legend()\n",
    "\n",
    "plt.subplot(1, 2, 2)\n",
    "plt.plot(history4.history['loss'], label='Loss')\n",
    "plt.title('Client 6 Model Loss')\n",
    "plt.xlabel('Epoch')\n",
    "plt.ylabel('Loss')\n",
    "plt.legend()\n",
    "\n",
    "plt.tight_layout()\n",
    "plt.show()"
   ]
  },
  {
   "cell_type": "code",
   "execution_count": 53,
   "metadata": {},
   "outputs": [
    {
     "ename": "AttributeError",
     "evalue": "'tuple' object has no attribute 'get_weights'",
     "output_type": "error",
     "traceback": [
      "\u001b[0;31m---------------------------------------------------------------------------\u001b[0m",
      "\u001b[0;31mAttributeError\u001b[0m                            Traceback (most recent call last)",
      "Cell \u001b[0;32mIn[53], line 10\u001b[0m\n\u001b[1;32m      6\u001b[0m     \u001b[38;5;28;01mreturn\u001b[39;00m new_weights\n\u001b[1;32m      9\u001b[0m \u001b[38;5;66;03m# Aggregate models\u001b[39;00m\n\u001b[0;32m---> 10\u001b[0m aggregated_weights \u001b[38;5;241m=\u001b[39m federated_average_weights(client1_model\u001b[38;5;241m.\u001b[39mget_weights(), \n\u001b[1;32m     11\u001b[0m                                                client2_model\u001b[38;5;241m.\u001b[39mget_weights(), \n\u001b[1;32m     12\u001b[0m                                                client3_model\u001b[38;5;241m.\u001b[39mget_weights(),\n\u001b[1;32m     13\u001b[0m                                                client4_model\u001b[38;5;241m.\u001b[39mget_weights(),\n\u001b[1;32m     14\u001b[0m                                                client5_model\u001b[38;5;241m.\u001b[39mget_weights(),\n\u001b[1;32m     15\u001b[0m                                                client6_model\u001b[38;5;241m.\u001b[39mget_weights())\n\u001b[1;32m     17\u001b[0m \u001b[38;5;66;03m# Create global model and set weights\u001b[39;00m\n\u001b[1;32m     18\u001b[0m global_model \u001b[38;5;241m=\u001b[39m create_client_model()\n",
      "\u001b[0;31mAttributeError\u001b[0m: 'tuple' object has no attribute 'get_weights'"
     ]
    }
   ],
   "source": [
    "# Federated averaging\n",
    "def federated_average_weights(weights1, weights2, weights3, weights4, weights5, weights6):\n",
    "    new_weights = []\n",
    "    for w1, w2, w3, w4, w5, w6 in zip(weights1, weights2, weights3, weights4, weights5, weights6):\n",
    "        new_weights.append((w1 + w2 + w3 + w4 + w5 + w6) / 6)\n",
    "    return new_weights\n",
    "\n",
    "\n",
    "# Aggregate models\n",
    "aggregated_weights = federated_average_weights(client1_model.get_weights(), \n",
    "                                               client2_model.get_weights(), \n",
    "                                               client3_model.get_weights(),\n",
    "                                               client4_model.get_weights(),\n",
    "                                               client5_model.get_weights(),\n",
    "                                               client6_model.get_weights())\n",
    "\n",
    "# Create global model and set weights\n",
    "global_model = create_client_model()\n",
    "global_model.set_weights(aggregated_weights)"
   ]
  },
  {
   "cell_type": "code",
   "execution_count": 54,
   "metadata": {},
   "outputs": [
    {
     "name": "stdout",
     "output_type": "stream",
     "text": [
      "313/313 - 0s - loss: 0.3482 - accuracy: 0.9063 - 189ms/epoch - 604us/step\n",
      "Test accuracy: 0.9063000082969666\n",
      "313/313 [==============================] - 0s 351us/step\n",
      "(10000, 10)\n",
      "Accuracy test set:  0.9063\n",
      "Precision test set:  0.9138997605919176\n",
      "Recall test set:  0.9063\n",
      "F-score test set:  0.9066177292082812\n",
      "              precision    recall  f1-score   support\n",
      "\n",
      "           0       0.96      0.96      0.96       980\n",
      "           1       0.98      0.98      0.98      1135\n",
      "           2       0.80      0.97      0.88      1032\n",
      "           3       0.92      0.89      0.90      1010\n",
      "           4       0.94      0.80      0.86       982\n",
      "           5       0.89      0.92      0.91       892\n",
      "           6       0.97      0.94      0.95       958\n",
      "           7       0.77      0.95      0.85      1028\n",
      "           8       0.95      0.85      0.89       974\n",
      "           9       0.96      0.80      0.87      1009\n",
      "\n",
      "    accuracy                           0.91     10000\n",
      "   macro avg       0.91      0.91      0.91     10000\n",
      "weighted avg       0.91      0.91      0.91     10000\n",
      "\n"
     ]
    }
   ],
   "source": [
    "# Evaluate global model\n",
    "test_loss, test_acc = global_model.evaluate(x_test, y_test, verbose=2)\n",
    "print('Test accuracy:', test_acc)\n",
    "\n",
    "predictions = global_model.predict(x_test)\n",
    "print(predictions.shape)\n",
    "\n",
    "predictions = list(predictions.argmax(axis=1))\n",
    "\n",
    "print(\"Accuracy test set: \", accuracy_score(y_test, predictions))\n",
    "\n",
    "print(\"Precision test set: \", precision_score(y_test, predictions, average = 'weighted' )) \n",
    "print(\"Recall test set: \", recall_score(y_test, predictions, average = 'weighted' ))\n",
    "print(\"F-score test set: \", f1_score(y_test, predictions, average = 'weighted' ))\n",
    "\n",
    "print(classification_report(y_test, predictions))"
   ]
  },
  {
   "cell_type": "code",
   "execution_count": 56,
   "metadata": {},
   "outputs": [
    {
     "name": "stdout",
     "output_type": "stream",
     "text": [
      "[0.8851000070571899, 0.28790000081062317, 0.7271999716758728, 0.7271999716758728]\n",
      "[0.907323157047967, 0.37310911314701634, 0.7834205071021751, 0.7834205071021751]\n",
      "[0.8851, 0.2879, 0.7272, 0.7272]\n",
      "[0.8851514824563385, 0.2500357846568731, 0.7308748558259915, 0.7308748558259915]\n"
     ]
    }
   ],
   "source": [
    "test_accuracy.append(0.7271999716758728)\n",
    "test_precision.append(0.7834205071021751)\n",
    "test_recall.append(0.7272)\n",
    "test_f1_score.append(0.7308748558259915)\n",
    "\n",
    "print(test_accuracy)\n",
    "print(test_precision)\n",
    "print(test_recall)\n",
    "print(test_f1_score)"
   ]
  },
  {
   "cell_type": "code",
   "execution_count": null,
   "metadata": {},
   "outputs": [],
   "source": []
  },
  {
   "cell_type": "markdown",
   "metadata": {},
   "source": [
    "## 8 Clients"
   ]
  },
  {
   "cell_type": "code",
   "execution_count": 57,
   "metadata": {},
   "outputs": [
    {
     "name": "stdout",
     "output_type": "stream",
     "text": [
      "(7500, 28, 28, 1)\n",
      "(7500, 28, 28, 1)\n",
      "(7500, 28, 28, 1)\n",
      "(7500, 28, 28, 1)\n",
      "(7500, 28, 28, 1)\n",
      "(7500, 28, 28, 1)\n",
      "(7500, 28, 28, 1)\n",
      "(7500, 28, 28, 1)\n",
      "(7500,)\n",
      "(7500,)\n",
      "(7500,)\n",
      "(7500,)\n",
      "(7500,)\n",
      "(7500,)\n",
      "(7500,)\n",
      "(7500,)\n",
      "Epoch 1/5\n",
      "235/235 [==============================] - 0s 681us/step - loss: 0.5832 - accuracy: 0.8460\n",
      "Epoch 2/5\n",
      "235/235 [==============================] - 0s 649us/step - loss: 0.2577 - accuracy: 0.9305\n",
      "Epoch 3/5\n",
      "235/235 [==============================] - 0s 639us/step - loss: 0.1905 - accuracy: 0.9453\n",
      "Epoch 4/5\n",
      "235/235 [==============================] - 0s 656us/step - loss: 0.1436 - accuracy: 0.9621\n",
      "Epoch 5/5\n",
      "235/235 [==============================] - 0s 656us/step - loss: 0.1164 - accuracy: 0.9685\n",
      "Epoch 1/5\n",
      "235/235 [==============================] - 0s 695us/step - loss: 2.3288 - accuracy: 0.1020\n",
      "Epoch 2/5\n",
      "235/235 [==============================] - 0s 723us/step - loss: 2.2891 - accuracy: 0.1332\n",
      "Epoch 3/5\n",
      "235/235 [==============================] - 0s 733us/step - loss: 2.2704 - accuracy: 0.1453\n",
      "Epoch 4/5\n",
      "235/235 [==============================] - 0s 751us/step - loss: 2.2426 - accuracy: 0.1681\n",
      "Epoch 5/5\n",
      "235/235 [==============================] - 0s 774us/step - loss: 2.2108 - accuracy: 0.1872\n",
      "Epoch 1/5\n",
      "235/235 [==============================] - 0s 808us/step - loss: 2.3222 - accuracy: 0.1045\n",
      "Epoch 2/5\n",
      "235/235 [==============================] - 0s 622us/step - loss: 2.2868 - accuracy: 0.1336\n",
      "Epoch 3/5\n",
      "235/235 [==============================] - 0s 613us/step - loss: 2.2640 - accuracy: 0.1561\n",
      "Epoch 4/5\n",
      "235/235 [==============================] - 0s 620us/step - loss: 2.2336 - accuracy: 0.1717\n",
      "Epoch 5/5\n",
      "235/235 [==============================] - 0s 622us/step - loss: 2.2057 - accuracy: 0.1837\n",
      "Epoch 1/5\n",
      "235/235 [==============================] - 0s 658us/step - loss: 2.3273 - accuracy: 0.1056\n",
      "Epoch 2/5\n",
      "235/235 [==============================] - 0s 761us/step - loss: 2.2894 - accuracy: 0.1305\n",
      "Epoch 3/5\n",
      "235/235 [==============================] - 0s 622us/step - loss: 2.2675 - accuracy: 0.1511\n",
      "Epoch 4/5\n",
      "235/235 [==============================] - 0s 747us/step - loss: 2.2399 - accuracy: 0.1651\n",
      "Epoch 5/5\n",
      "235/235 [==============================] - 0s 652us/step - loss: 2.2027 - accuracy: 0.1939\n",
      "Epoch 1/5\n",
      "235/235 [==============================] - 0s 697us/step - loss: 0.6048 - accuracy: 0.8328\n",
      "Epoch 2/5\n",
      "235/235 [==============================] - 0s 678us/step - loss: 0.2712 - accuracy: 0.9243\n",
      "Epoch 3/5\n",
      "235/235 [==============================] - 0s 728us/step - loss: 0.2029 - accuracy: 0.9428\n",
      "Epoch 4/5\n",
      "235/235 [==============================] - 0s 688us/step - loss: 0.1611 - accuracy: 0.9557\n",
      "Epoch 5/5\n",
      "235/235 [==============================] - 0s 640us/step - loss: 0.1283 - accuracy: 0.9629\n",
      "Epoch 1/5\n",
      "235/235 [==============================] - 0s 701us/step - loss: 0.6013 - accuracy: 0.8312\n",
      "Epoch 2/5\n",
      "235/235 [==============================] - 0s 658us/step - loss: 0.2693 - accuracy: 0.9228\n",
      "Epoch 3/5\n",
      "235/235 [==============================] - 0s 667us/step - loss: 0.1997 - accuracy: 0.9427\n",
      "Epoch 4/5\n",
      "235/235 [==============================] - 0s 692us/step - loss: 0.1541 - accuracy: 0.9563\n",
      "Epoch 5/5\n",
      "235/235 [==============================] - 0s 689us/step - loss: 0.1212 - accuracy: 0.9672\n",
      "Epoch 1/5\n",
      "235/235 [==============================] - 0s 802us/step - loss: 0.6061 - accuracy: 0.8313\n",
      "Epoch 2/5\n",
      "235/235 [==============================] - 0s 747us/step - loss: 0.2850 - accuracy: 0.9208\n",
      "Epoch 3/5\n",
      "235/235 [==============================] - 0s 756us/step - loss: 0.2112 - accuracy: 0.9408\n",
      "Epoch 4/5\n",
      "235/235 [==============================] - 0s 696us/step - loss: 0.1663 - accuracy: 0.9537\n",
      "Epoch 5/5\n",
      "235/235 [==============================] - 0s 646us/step - loss: 0.1284 - accuracy: 0.9664\n",
      "Epoch 1/5\n",
      "235/235 [==============================] - 0s 738us/step - loss: 0.5218 - accuracy: 0.8547\n",
      "Epoch 2/5\n",
      "235/235 [==============================] - 0s 665us/step - loss: 0.2341 - accuracy: 0.9333\n",
      "Epoch 3/5\n",
      "235/235 [==============================] - 0s 784us/step - loss: 0.1763 - accuracy: 0.9484\n",
      "Epoch 4/5\n",
      "235/235 [==============================] - 0s 687us/step - loss: 0.1318 - accuracy: 0.9625\n",
      "Epoch 5/5\n",
      "235/235 [==============================] - 0s 650us/step - loss: 0.1048 - accuracy: 0.9715\n"
     ]
    }
   ],
   "source": [
    "Client_1 = (x_train[0:7500], y_train[0:7500])\n",
    "Client_2 = (x_train[7500:15000], y_train[7500:15000])\n",
    "Client_3 = (x_train[15000:22500], y_train[15000:22500])\n",
    "Client_4 = (x_train[22500:30000], y_train[22500:30000])\n",
    "Client_5 = (x_train[30000:37500], y_train[30000:37500])\n",
    "Client_6 = (x_train[37500:45000], y_train[37500:45000])\n",
    "Client_7 = (x_train[45000:52500], y_train[45000:52500])\n",
    "Client_8 = (x_train[52500:], y_train[52500:])\n",
    "\n",
    "print(Client_1[0].shape)\n",
    "print(Client_2[0].shape)\n",
    "print(Client_3[0].shape)\n",
    "print(Client_4[0].shape)\n",
    "print(Client_5[0].shape)\n",
    "print(Client_6[0].shape)\n",
    "print(Client_7[0].shape)\n",
    "print(Client_8[0].shape)\n",
    "\n",
    "print(Client_1[1].shape)\n",
    "print(Client_2[1].shape)\n",
    "print(Client_3[1].shape)\n",
    "print(Client_4[1].shape)\n",
    "print(Client_5[1].shape)\n",
    "print(Client_6[1].shape)\n",
    "print(Client_7[1].shape)\n",
    "print(Client_8[1].shape)\n",
    "\n",
    "# Create and train client models\n",
    "client1_model = create_client_model()\n",
    "client2_model = create_client_model()\n",
    "client3_model = create_client_model()\n",
    "client4_model = create_client_model()\n",
    "client5_model = create_client_model()\n",
    "client6_model = create_client_model()\n",
    "client7_model = create_client_model()\n",
    "client8_model = create_client_model()\n",
    "\n",
    "client1_model = train_client_model(client1_model, Client_1[0], Client_1[1])\n",
    "client2_model = train_client_model(client2_model, Client_2[0], Client_1[1])\n",
    "client3_model = train_client_model(client3_model, Client_3[0], Client_1[1])\n",
    "client4_model = train_client_model(client4_model, Client_4[0], Client_1[1])\n",
    "client5_model = train_client_model(client5_model, Client_5[0], Client_5[1])\n",
    "client6_model = train_client_model(client6_model, Client_6[0], Client_6[1])\n",
    "client7_model = train_client_model(client7_model, Client_7[0], Client_7[1])\n",
    "client8_model = train_client_model(client8_model, Client_8[0], Client_8[1])"
   ]
  },
  {
   "cell_type": "code",
   "execution_count": 59,
   "metadata": {},
   "outputs": [
    {
     "name": "stdout",
     "output_type": "stream",
     "text": [
      "Epoch 1/5\n",
      "235/235 [==============================] - 0s 732us/step - loss: 0.5394 - accuracy: 0.8511\n",
      "Epoch 2/5\n",
      "235/235 [==============================] - 0s 718us/step - loss: 0.2371 - accuracy: 0.9347\n",
      "Epoch 3/5\n",
      "235/235 [==============================] - 0s 715us/step - loss: 0.1779 - accuracy: 0.9492\n",
      "Epoch 4/5\n",
      "235/235 [==============================] - 0s 718us/step - loss: 0.1316 - accuracy: 0.9631\n",
      "Epoch 5/5\n",
      "235/235 [==============================] - 0s 725us/step - loss: 0.1029 - accuracy: 0.9723\n"
     ]
    },
    {
     "data": {
      "image/png": "[encoded data removed]",
      "text/plain": [
       "<Figure size 1000x400 with 2 Axes>"
      ]
     },
     "metadata": {},
     "output_type": "display_data"
    }
   ],
   "source": [
    "def train_client_model(model, x_train, y_train, epochs=5):\n",
    "    history = model.fit(x_train, y_train, epochs=epochs, verbose=1)\n",
    "    return model, history\n",
    "\n",
    "# Select data for Client 8\n",
    "Client_8 = (x_train[52500:], y_train[52500:])\n",
    "\n",
    "# Create and train client model\n",
    "client8_model = create_client_model()\n",
    "client8_model, history8 = train_client_model(client8_model, Client_8[0], Client_8[1])\n",
    "\n",
    "# Plot the model's performance for Client 8\n",
    "plt.figure(figsize=(10, 4))\n",
    "plt.subplot(1, 2, 1)\n",
    "plt.plot(history4.history['accuracy'], label='Accuracy')\n",
    "plt.title('Client 8 Model Accuracy')\n",
    "plt.xlabel('Epoch')\n",
    "plt.ylabel('Accuracy')\n",
    "plt.legend()\n",
    "\n",
    "plt.subplot(1, 2, 2)\n",
    "plt.plot(history4.history['loss'], label='Loss')\n",
    "plt.title('Client 8 Model Loss')\n",
    "plt.xlabel('Epoch')\n",
    "plt.ylabel('Loss')\n",
    "plt.legend()\n",
    "\n",
    "plt.tight_layout()\n",
    "plt.show()"
   ]
  },
  {
   "cell_type": "code",
   "execution_count": 42,
   "metadata": {},
   "outputs": [],
   "source": [
    "# Federated averaging\n",
    "def federated_average_weights(weights1, weights2, weights3, weights4, \n",
    "                              weights5, weights6, weights7, weights8):\n",
    "    new_weights = []\n",
    "    for w1, w2, w3, w4, w5, w6, w7, w8 in zip(weights1, weights2, weights3, weights4, \n",
    "                                              weights5, weights6, weights7, weights8):\n",
    "        new_weights.append((w1 + w2 + w3 + w4 + w5 + w6 + w7 +w8) / 8)\n",
    "    return new_weights\n",
    "\n",
    "\n",
    "# Aggregate models\n",
    "aggregated_weights = federated_average_weights(client1_model.get_weights(), \n",
    "                                               client2_model.get_weights(), \n",
    "                                               client3_model.get_weights(),\n",
    "                                               client4_model.get_weights(),\n",
    "                                               client5_model.get_weights(),\n",
    "                                               client6_model.get_weights(),\n",
    "                                               client7_model.get_weights(),\n",
    "                                               client8_model.get_weights())\n",
    "\n",
    "# Create global model and set weights\n",
    "global_model = create_client_model()\n",
    "global_model.set_weights(aggregated_weights)"
   ]
  },
  {
   "cell_type": "code",
   "execution_count": 43,
   "metadata": {},
   "outputs": [
    {
     "name": "stdout",
     "output_type": "stream",
     "text": [
      "313/313 - 0s - loss: 1.8108 - accuracy: 0.6028 - 481ms/epoch - 2ms/step\n",
      "Test accuracy: 0.6028000116348267\n",
      "313/313 [==============================] - 0s 1ms/step\n",
      "(10000, 10)\n",
      "Accuracy test set:  0.6028\n",
      "Precision test set:  0.7986126719530607\n",
      "Recall test set:  0.6028\n",
      "F-score test set:  0.5536289939655649\n",
      "              precision    recall  f1-score   support\n",
      "\n",
      "           0       1.00      0.07      0.12       980\n",
      "           1       0.99      0.87      0.93      1135\n",
      "           2       0.66      0.83      0.73      1032\n",
      "           3       0.80      0.79      0.80      1010\n",
      "           4       0.83      0.85      0.84       982\n",
      "           5       0.26      0.92      0.41       892\n",
      "           6       0.97      0.63      0.76       958\n",
      "           7       0.54      0.94      0.68      1028\n",
      "           8       0.99      0.09      0.17       974\n",
      "           9       0.89      0.01      0.02      1009\n",
      "\n",
      "    accuracy                           0.60     10000\n",
      "   macro avg       0.79      0.60      0.55     10000\n",
      "weighted avg       0.80      0.60      0.55     10000\n",
      "\n"
     ]
    }
   ],
   "source": [
    "# Evaluate global model\n",
    "test_loss, test_acc = global_model.evaluate(x_test, y_test, verbose=2)\n",
    "print('Test accuracy:', test_acc)\n",
    "\n",
    "predictions = global_model.predict(x_test)\n",
    "print(predictions.shape)\n",
    "\n",
    "predictions = list(predictions.argmax(axis=1))\n",
    "\n",
    "print(\"Accuracy test set: \", accuracy_score(y_test, predictions))\n",
    "\n",
    "print(\"Precision test set: \", precision_score(y_test, predictions, average = 'weighted' )) \n",
    "print(\"Recall test set: \", recall_score(y_test, predictions, average = 'weighted' ))\n",
    "print(\"F-score test set: \", f1_score(y_test, predictions, average = 'weighted' ))\n",
    "\n",
    "print(classification_report(y_test, predictions))"
   ]
  },
  {
   "cell_type": "code",
   "execution_count": 44,
   "metadata": {},
   "outputs": [
    {
     "name": "stdout",
     "output_type": "stream",
     "text": [
      "[0.8851000070571899, 0.28790000081062317, 0.7271999716758728, 0.6028000116348267]\n",
      "[0.907323157047967, 0.37310911314701634, 0.7834205071021751, 0.7986126719530607]\n",
      "[0.8851, 0.2879, 0.7272, 0.6028]\n",
      "[0.8851514824563385, 0.2500357846568731, 0.7308748558259915, 0.5536289939655649]\n"
     ]
    }
   ],
   "source": [
    "test_accuracy.append(0.6028000116348267)\n",
    "test_precision.append(0.7986126719530607)\n",
    "test_recall.append(0.6028)\n",
    "test_f1_score.append(0.5536289939655649)\n",
    "\n",
    "print(test_accuracy)\n",
    "print(test_precision)\n",
    "print(test_recall)\n",
    "print(test_f1_score)"
   ]
  },
  {
   "cell_type": "code",
   "execution_count": null,
   "metadata": {},
   "outputs": [],
   "source": []
  },
  {
   "cell_type": "markdown",
   "metadata": {},
   "source": [
    "## 10 Clients"
   ]
  },
  {
   "cell_type": "code",
   "execution_count": 45,
   "metadata": {},
   "outputs": [
    {
     "name": "stdout",
     "output_type": "stream",
     "text": [
      "(6000, 28, 28, 1)\n",
      "(6000, 28, 28, 1)\n",
      "(6000, 28, 28, 1)\n",
      "(6000, 28, 28, 1)\n",
      "(6000, 28, 28, 1)\n",
      "(6000, 28, 28, 1)\n",
      "(6000, 28, 28, 1)\n",
      "(6000, 28, 28, 1)\n",
      "(6000, 28, 28, 1)\n",
      "(6000, 28, 28, 1)\n",
      "(6000,)\n",
      "(6000,)\n",
      "(6000,)\n",
      "(6000,)\n",
      "(6000,)\n",
      "(6000,)\n",
      "(6000,)\n",
      "(6000,)\n",
      "(6000,)\n",
      "(6000,)\n",
      "Epoch 1/5\n",
      "188/188 [==============================] - 1s 2ms/step - loss: 0.6118 - accuracy: 0.8352\n",
      "Epoch 2/5\n",
      "188/188 [==============================] - 0s 2ms/step - loss: 0.2773 - accuracy: 0.9223\n",
      "Epoch 3/5\n",
      "188/188 [==============================] - 0s 2ms/step - loss: 0.2037 - accuracy: 0.9450\n",
      "Epoch 4/5\n",
      "188/188 [==============================] - 0s 2ms/step - loss: 0.1588 - accuracy: 0.9558\n",
      "Epoch 5/5\n",
      "188/188 [==============================] - 0s 2ms/step - loss: 0.1237 - accuracy: 0.9663\n",
      "Epoch 1/5\n",
      "188/188 [==============================] - 1s 2ms/step - loss: 2.3302 - accuracy: 0.0973\n",
      "Epoch 2/5\n",
      "188/188 [==============================] - 0s 2ms/step - loss: 2.2839 - accuracy: 0.1335\n",
      "Epoch 3/5\n",
      "188/188 [==============================] - 0s 2ms/step - loss: 2.2607 - accuracy: 0.1470\n",
      "Epoch 4/5\n",
      "188/188 [==============================] - 0s 2ms/step - loss: 2.2290 - accuracy: 0.1755\n",
      "Epoch 5/5\n",
      "188/188 [==============================] - 0s 2ms/step - loss: 2.1880 - accuracy: 0.2010\n",
      "Epoch 1/5\n",
      "188/188 [==============================] - 1s 2ms/step - loss: 2.3290 - accuracy: 0.1025\n",
      "Epoch 2/5\n",
      "188/188 [==============================] - 0s 2ms/step - loss: 2.2837 - accuracy: 0.1410\n",
      "Epoch 3/5\n",
      "188/188 [==============================] - 0s 1ms/step - loss: 2.2573 - accuracy: 0.1587\n",
      "Epoch 4/5\n",
      "188/188 [==============================] - 0s 2ms/step - loss: 2.2184 - accuracy: 0.1872\n",
      "Epoch 5/5\n",
      "188/188 [==============================] - 0s 2ms/step - loss: 2.1766 - accuracy: 0.2130\n",
      "Epoch 1/5\n",
      "188/188 [==============================] - 1s 2ms/step - loss: 2.3266 - accuracy: 0.0983\n",
      "Epoch 2/5\n",
      "188/188 [==============================] - 0s 2ms/step - loss: 2.2872 - accuracy: 0.1362\n",
      "Epoch 3/5\n",
      "188/188 [==============================] - 0s 2ms/step - loss: 2.2578 - accuracy: 0.1607\n",
      "Epoch 4/5\n",
      "188/188 [==============================] - 0s 2ms/step - loss: 2.2300 - accuracy: 0.1820\n",
      "Epoch 5/5\n",
      "188/188 [==============================] - 0s 2ms/step - loss: 2.1913 - accuracy: 0.2008\n",
      "Epoch 1/5\n",
      "188/188 [==============================] - 1s 2ms/step - loss: 0.6284 - accuracy: 0.8240\n",
      "Epoch 2/5\n",
      "188/188 [==============================] - 0s 2ms/step - loss: 0.2835 - accuracy: 0.9187\n",
      "Epoch 3/5\n",
      "188/188 [==============================] - 0s 2ms/step - loss: 0.2091 - accuracy: 0.9387\n",
      "Epoch 4/5\n",
      "188/188 [==============================] - 0s 2ms/step - loss: 0.1637 - accuracy: 0.9538\n",
      "Epoch 5/5\n",
      "188/188 [==============================] - 0s 2ms/step - loss: 0.1339 - accuracy: 0.9613\n",
      "Epoch 1/5\n",
      "188/188 [==============================] - 1s 2ms/step - loss: 0.6622 - accuracy: 0.8163\n",
      "Epoch 2/5\n",
      "188/188 [==============================] - 0s 2ms/step - loss: 0.2922 - accuracy: 0.9148\n",
      "Epoch 3/5\n",
      "188/188 [==============================] - 0s 2ms/step - loss: 0.2218 - accuracy: 0.9362\n",
      "Epoch 4/5\n",
      "188/188 [==============================] - 0s 2ms/step - loss: 0.1713 - accuracy: 0.9527\n",
      "Epoch 5/5\n",
      "188/188 [==============================] - 0s 2ms/step - loss: 0.1378 - accuracy: 0.9602\n",
      "Epoch 1/5\n",
      "188/188 [==============================] - 1s 2ms/step - loss: 0.6506 - accuracy: 0.8210\n",
      "Epoch 2/5\n",
      "188/188 [==============================] - 0s 2ms/step - loss: 0.2980 - accuracy: 0.9183\n",
      "Epoch 3/5\n",
      "188/188 [==============================] - 0s 2ms/step - loss: 0.2237 - accuracy: 0.9363\n",
      "Epoch 4/5\n",
      "188/188 [==============================] - 0s 2ms/step - loss: 0.1726 - accuracy: 0.9520\n",
      "Epoch 5/5\n",
      "188/188 [==============================] - 0s 2ms/step - loss: 0.1346 - accuracy: 0.9648\n",
      "Epoch 1/5\n",
      "188/188 [==============================] - 1s 2ms/step - loss: 0.6906 - accuracy: 0.8092\n",
      "Epoch 2/5\n",
      "188/188 [==============================] - 0s 2ms/step - loss: 0.3006 - accuracy: 0.9137\n",
      "Epoch 3/5\n",
      "188/188 [==============================] - 0s 2ms/step - loss: 0.2234 - accuracy: 0.9378\n",
      "Epoch 4/5\n",
      "188/188 [==============================] - 0s 2ms/step - loss: 0.1732 - accuracy: 0.9498\n",
      "Epoch 5/5\n",
      "188/188 [==============================] - 0s 2ms/step - loss: 0.1367 - accuracy: 0.9615\n",
      "Epoch 1/5\n",
      "188/188 [==============================] - 1s 2ms/step - loss: 0.6703 - accuracy: 0.8173\n",
      "Epoch 2/5\n",
      "188/188 [==============================] - 0s 2ms/step - loss: 0.2966 - accuracy: 0.9175\n",
      "Epoch 3/5\n",
      "188/188 [==============================] - 0s 2ms/step - loss: 0.2231 - accuracy: 0.9367\n",
      "Epoch 4/5\n",
      "188/188 [==============================] - 0s 2ms/step - loss: 0.1720 - accuracy: 0.9518\n",
      "Epoch 5/5\n",
      "188/188 [==============================] - 0s 2ms/step - loss: 0.1343 - accuracy: 0.9620\n",
      "Epoch 1/5\n",
      "188/188 [==============================] - 1s 2ms/step - loss: 0.5749 - accuracy: 0.8458\n",
      "Epoch 2/5\n",
      "188/188 [==============================] - 0s 2ms/step - loss: 0.2377 - accuracy: 0.9307\n",
      "Epoch 3/5\n",
      "188/188 [==============================] - 0s 2ms/step - loss: 0.1728 - accuracy: 0.9550\n",
      "Epoch 4/5\n",
      "188/188 [==============================] - 0s 2ms/step - loss: 0.1324 - accuracy: 0.9650\n",
      "Epoch 5/5\n",
      "188/188 [==============================] - 0s 2ms/step - loss: 0.1014 - accuracy: 0.9742\n"
     ]
    }
   ],
   "source": [
    "Client_1 = (x_train[0:6000], y_train[0:6000])\n",
    "Client_2 = (x_train[6000:12000], y_train[6000:12000])\n",
    "Client_3 = (x_train[12000:18000], y_train[12000:18000])\n",
    "Client_4 = (x_train[18000:24000], y_train[18000:24000])\n",
    "Client_5 = (x_train[24000:30000], y_train[24000:30000])\n",
    "Client_6 = (x_train[30000:36000], y_train[30000:36000])\n",
    "Client_7 = (x_train[36000:42000], y_train[36000:42000])\n",
    "Client_8 = (x_train[42000:48000], y_train[42000:48000])\n",
    "Client_9 = (x_train[48000:54000], y_train[48000:54000])\n",
    "Client_10 = (x_train[54000:], y_train[54000:])\n",
    "\n",
    "print(Client_1[0].shape)\n",
    "print(Client_2[0].shape)\n",
    "print(Client_3[0].shape)\n",
    "print(Client_4[0].shape)\n",
    "print(Client_5[0].shape)\n",
    "print(Client_6[0].shape)\n",
    "print(Client_7[0].shape)\n",
    "print(Client_8[0].shape)\n",
    "print(Client_9[0].shape)\n",
    "print(Client_10[0].shape)\n",
    "\n",
    "print(Client_1[1].shape)\n",
    "print(Client_2[1].shape)\n",
    "print(Client_3[1].shape)\n",
    "print(Client_4[1].shape)\n",
    "print(Client_5[1].shape)\n",
    "print(Client_6[1].shape)\n",
    "print(Client_7[1].shape)\n",
    "print(Client_8[1].shape)\n",
    "print(Client_9[1].shape)\n",
    "print(Client_10[1].shape)\n",
    "\n",
    "# Create and train client models\n",
    "client1_model = create_client_model()\n",
    "client2_model = create_client_model()\n",
    "client3_model = create_client_model()\n",
    "client4_model = create_client_model()\n",
    "client5_model = create_client_model()\n",
    "client6_model = create_client_model()\n",
    "client7_model = create_client_model()\n",
    "client8_model = create_client_model()\n",
    "client9_model = create_client_model()\n",
    "client10_model = create_client_model()\n",
    "\n",
    "client1_model = train_client_model(client1_model, Client_1[0], Client_1[1])\n",
    "client2_model = train_client_model(client2_model, Client_2[0], Client_1[1])\n",
    "client3_model = train_client_model(client3_model, Client_3[0], Client_1[1])\n",
    "client4_model = train_client_model(client4_model, Client_4[0], Client_1[1])\n",
    "client5_model = train_client_model(client5_model, Client_5[0], Client_5[1])\n",
    "client6_model = train_client_model(client6_model, Client_6[0], Client_6[1])\n",
    "client7_model = train_client_model(client7_model, Client_7[0], Client_7[1])\n",
    "client8_model = train_client_model(client8_model, Client_8[0], Client_8[1])\n",
    "client9_model = train_client_model(client9_model, Client_9[0], Client_9[1])\n",
    "client10_model = train_client_model(client10_model, Client_10[0], Client_10[1])"
   ]
  },
  {
   "cell_type": "code",
   "execution_count": 46,
   "metadata": {},
   "outputs": [],
   "source": [
    "# Federated averaging\n",
    "def federated_average_weights(weights1, weights2, weights3, weights4, weights5,\n",
    "                              weights6, weights7, weights8, weights9, weights10):\n",
    "    new_weights = []\n",
    "    for w1, w2, w3, w4, w5, w6, w7, w8, w9, w10 in zip(weights1, weights2, weights3, weights4, \n",
    "                                                      weights5, weights6, weights7, weights8, \n",
    "                                                      weights9, weights10):\n",
    "        new_weights.append((w1 + w2 + w3 + w4 + w5 + w6 + w7 + w8 + w9 + w10) / 10)\n",
    "    return new_weights\n",
    "\n",
    "\n",
    "# Aggregate models\n",
    "aggregated_weights = federated_average_weights(client1_model.get_weights(), \n",
    "                                               client2_model.get_weights(), \n",
    "                                               client3_model.get_weights(),\n",
    "                                               client4_model.get_weights(),\n",
    "                                               client5_model.get_weights(),\n",
    "                                               client6_model.get_weights(),\n",
    "                                               client7_model.get_weights(),\n",
    "                                               client8_model.get_weights(),\n",
    "                                               client9_model.get_weights(),\n",
    "                                               client10_model.get_weights())\n",
    "\n",
    "# Create global model and set weights\n",
    "global_model = create_client_model()\n",
    "global_model.set_weights(aggregated_weights)"
   ]
  },
  {
   "cell_type": "code",
   "execution_count": 47,
   "metadata": {},
   "outputs": [
    {
     "name": "stdout",
     "output_type": "stream",
     "text": [
      "313/313 - 1s - loss: 1.8502 - accuracy: 0.6429 - 508ms/epoch - 2ms/step\n",
      "Test accuracy: 0.6428999900817871\n",
      "313/313 [==============================] - 0s 1ms/step\n",
      "(10000, 10)\n",
      "Accuracy test set:  0.6429\n",
      "Precision test set:  0.8044962589008876\n",
      "Recall test set:  0.6429\n",
      "F-score test set:  0.6203729491096158\n",
      "              precision    recall  f1-score   support\n",
      "\n",
      "           0       1.00      0.59      0.74       980\n",
      "           1       1.00      0.82      0.90      1135\n",
      "           2       0.68      0.93      0.79      1032\n",
      "           3       0.84      0.12      0.22      1010\n",
      "           4       0.95      0.76      0.85       982\n",
      "           5       0.30      0.95      0.45       892\n",
      "           6       0.91      0.76      0.83       958\n",
      "           7       0.93      0.57      0.70      1028\n",
      "           8       0.89      0.02      0.03       974\n",
      "           9       0.49      0.90      0.63      1009\n",
      "\n",
      "    accuracy                           0.64     10000\n",
      "   macro avg       0.80      0.64      0.61     10000\n",
      "weighted avg       0.80      0.64      0.62     10000\n",
      "\n"
     ]
    }
   ],
   "source": [
    "# Evaluate global model\n",
    "test_loss, test_acc = global_model.evaluate(x_test, y_test, verbose=2)\n",
    "print('Test accuracy:', test_acc)\n",
    "\n",
    "predictions = global_model.predict(x_test)\n",
    "print(predictions.shape)\n",
    "\n",
    "predictions = list(predictions.argmax(axis=1))\n",
    "\n",
    "print(\"Accuracy test set: \", accuracy_score(y_test, predictions))\n",
    "\n",
    "print(\"Precision test set: \", precision_score(y_test, predictions, average = 'weighted' )) \n",
    "print(\"Recall test set: \", recall_score(y_test, predictions, average = 'weighted' ))\n",
    "print(\"F-score test set: \", f1_score(y_test, predictions, average = 'weighted' ))\n",
    "\n",
    "print(classification_report(y_test, predictions))"
   ]
  },
  {
   "cell_type": "code",
   "execution_count": 48,
   "metadata": {},
   "outputs": [
    {
     "name": "stdout",
     "output_type": "stream",
     "text": [
      "[0.8851000070571899, 0.28790000081062317, 0.7271999716758728, 0.6028000116348267, 0.6428999900817871]\n",
      "[0.907323157047967, 0.37310911314701634, 0.7834205071021751, 0.7986126719530607, 0.8044962589008876]\n",
      "[0.8851, 0.2879, 0.7272, 0.6028, 0.6429]\n",
      "[0.8851514824563385, 0.2500357846568731, 0.7308748558259915, 0.5536289939655649, 0.6203729491096158]\n"
     ]
    }
   ],
   "source": [
    "test_accuracy.append(0.6428999900817871)\n",
    "test_precision.append(0.8044962589008876)\n",
    "test_recall.append(0.6429)\n",
    "test_f1_score.append(0.6203729491096158)\n",
    "\n",
    "print(test_accuracy)\n",
    "print(test_precision)\n",
    "print(test_recall)\n",
    "print(test_f1_score)"
   ]
  },
  {
   "cell_type": "code",
   "execution_count": null,
   "metadata": {},
   "outputs": [],
   "source": []
  },
  {
   "cell_type": "markdown",
   "metadata": {},
   "source": [
    "### Plot the model's performance for the number of clients ranging from 2, 4, 6, 8, and 10."
   ]
  },
  {
   "cell_type": "code",
   "execution_count": 49,
   "metadata": {},
   "outputs": [],
   "source": [
    "import pandas as pd"
   ]
  },
  {
   "cell_type": "code",
   "execution_count": 50,
   "metadata": {},
   "outputs": [
    {
     "name": "stdout",
     "output_type": "stream",
     "text": [
      "[[0.8851000070571899, 0.28790000081062317, 0.7271999716758728, 0.6028000116348267, 0.6428999900817871], [0.907323157047967, 0.37310911314701634, 0.7834205071021751, 0.7986126719530607, 0.8044962589008876], [0.8851, 0.2879, 0.7272, 0.6028, 0.6429], [0.8851514824563385, 0.2500357846568731, 0.7308748558259915, 0.5536289939655649, 0.6203729491096158]]\n"
     ]
    },
    {
     "data": {
      "text/html": [
       "<div>\n",
       "<style scoped>\n",
       "    .dataframe tbody tr th:only-of-type {\n",
       "        vertical-align: middle;\n",
       "    }\n",
       "\n",
       "    .dataframe tbody tr th {\n",
       "        vertical-align: top;\n",
       "    }\n",
       "\n",
       "    .dataframe thead th {\n",
       "        text-align: right;\n",
       "    }\n",
       "</style>\n",
       "<table border=\"1\" class=\"dataframe\">\n",
       "  <thead>\n",
       "    <tr style=\"text-align: right;\">\n",
       "      <th></th>\n",
       "      <th>Accuracy</th>\n",
       "      <th>Precision</th>\n",
       "      <th>Recall</th>\n",
       "      <th>F1_Score</th>\n",
       "    </tr>\n",
       "  </thead>\n",
       "  <tbody>\n",
       "    <tr>\n",
       "      <th>2</th>\n",
       "      <td>0.8851</td>\n",
       "      <td>0.907323</td>\n",
       "      <td>0.8851</td>\n",
       "      <td>0.885151</td>\n",
       "    </tr>\n",
       "    <tr>\n",
       "      <th>4</th>\n",
       "      <td>0.2879</td>\n",
       "      <td>0.373109</td>\n",
       "      <td>0.2879</td>\n",
       "      <td>0.250036</td>\n",
       "    </tr>\n",
       "    <tr>\n",
       "      <th>6</th>\n",
       "      <td>0.7272</td>\n",
       "      <td>0.783421</td>\n",
       "      <td>0.7272</td>\n",
       "      <td>0.730875</td>\n",
       "    </tr>\n",
       "    <tr>\n",
       "      <th>8</th>\n",
       "      <td>0.6028</td>\n",
       "      <td>0.798613</td>\n",
       "      <td>0.6028</td>\n",
       "      <td>0.553629</td>\n",
       "    </tr>\n",
       "    <tr>\n",
       "      <th>10</th>\n",
       "      <td>0.6429</td>\n",
       "      <td>0.804496</td>\n",
       "      <td>0.6429</td>\n",
       "      <td>0.620373</td>\n",
       "    </tr>\n",
       "  </tbody>\n",
       "</table>\n",
       "</div>"
      ],
      "text/plain": [
       "    Accuracy  Precision  Recall  F1_Score\n",
       "2     0.8851   0.907323  0.8851  0.885151\n",
       "4     0.2879   0.373109  0.2879  0.250036\n",
       "6     0.7272   0.783421  0.7272  0.730875\n",
       "8     0.6028   0.798613  0.6028  0.553629\n",
       "10    0.6429   0.804496  0.6429  0.620373"
      ]
     },
     "execution_count": 50,
     "metadata": {},
     "output_type": "execute_result"
    }
   ],
   "source": [
    "ErrorMetrics = []\n",
    "ErrorMetrics.append(test_accuracy)\n",
    "ErrorMetrics.append(test_precision)\n",
    "ErrorMetrics.append(test_recall)\n",
    "ErrorMetrics.append(test_f1_score)\n",
    "\n",
    "print(ErrorMetrics)\n",
    "\n",
    "ErrorMetrics_pd = pd.DataFrame(ErrorMetrics)\n",
    "ErrorMetrics_pd.columns = [2,4,6,8,10]\n",
    "ErrorMetrics_pd = ErrorMetrics_pd.T\n",
    "ErrorMetrics_pd.columns = ['Accuracy','Precision','Recall','F1_Score']\n",
    "ErrorMetrics_pd"
   ]
  },
  {
   "cell_type": "code",
   "execution_count": 51,
   "metadata": {},
   "outputs": [
    {
     "data": {
      "text/plain": [
       "<Axes: >"
      ]
     },
     "execution_count": 51,
     "metadata": {},
     "output_type": "execute_result"
    },
    {
     "data": {
      "image/png": "[encoded data removed]",
      "text/plain": [
       "<Figure size 640x480 with 1 Axes>"
      ]
     },
     "metadata": {},
     "output_type": "display_data"
    }
   ],
   "source": [
    "ErrorMetrics_pd.plot.bar(width=0.7, alpha=0.7)"
   ]
  },
  {
   "cell_type": "code",
   "execution_count": null,
   "metadata": {},
   "outputs": [],
   "source": []
  },
  {
   "cell_type": "markdown",
   "metadata": {},
   "source": [
    "### 2.For any specified number of clients, compare the model's performance when one (or more) dishonest clients are present. Plot the performance metrics before and after the presence of dishonest clients."
   ]
  },
  {
   "cell_type": "markdown",
   "metadata": {},
   "source": [
    "#### Take 6 Clients, one of them is assumed dishonest\n",
    "\n"
   ]
  },
  {
   "cell_type": "code",
   "execution_count": 65,
   "metadata": {},
   "outputs": [],
   "source": [
    "# Split data into 6 clients"
   ]
  },
  {
   "cell_type": "code",
   "execution_count": 106,
   "metadata": {},
   "outputs": [],
   "source": [
    "Client_1 = (x_train[0:10000], y_train[0:10000])\n",
    "Client_2 = (x_train[10000:20000], y_train[10000:20000])\n",
    "Client_3 = (x_train[20000:30000], y_train[20000:30000])\n",
    "Client_4 = (x_train[30000:40000], y_train[30000:40000])\n",
    "Client_5 = (x_train[40000:50000], y_train[40000:50000])\n",
    "Client_6 = (x_train[50000:], y_train[50000:])"
   ]
  },
  {
   "cell_type": "code",
   "execution_count": 107,
   "metadata": {},
   "outputs": [
    {
     "data": {
      "text/plain": [
       "10000"
      ]
     },
     "execution_count": 107,
     "metadata": {},
     "output_type": "execute_result"
    }
   ],
   "source": [
    "Client_2[1].size"
   ]
  },
  {
   "cell_type": "code",
   "execution_count": 108,
   "metadata": {},
   "outputs": [
    {
     "data": {
      "text/plain": [
       "array([3, 8, 7, ..., 1, 4, 2], dtype=uint8)"
      ]
     },
     "execution_count": 108,
     "metadata": {},
     "output_type": "execute_result"
    }
   ],
   "source": [
    "Client_2[1]"
   ]
  },
  {
   "cell_type": "code",
   "execution_count": 109,
   "metadata": {},
   "outputs": [],
   "source": [
    "### Client_2 is assumed dishonest and changing the training data. Some labels are set as 4 \n",
    "### Change the first 2000 labels\n",
    "\n",
    "Client_2[1][:2000] = 4"
   ]
  },
  {
   "cell_type": "code",
   "execution_count": 110,
   "metadata": {},
   "outputs": [
    {
     "data": {
      "text/plain": [
       "array([4, 4, 4, ..., 1, 4, 2], dtype=uint8)"
      ]
     },
     "execution_count": 110,
     "metadata": {},
     "output_type": "execute_result"
    }
   ],
   "source": [
    "Client_2[1]"
   ]
  },
  {
   "cell_type": "code",
   "execution_count": 111,
   "metadata": {},
   "outputs": [
    {
     "name": "stdout",
     "output_type": "stream",
     "text": [
      "(10000, 28, 28, 1)\n",
      "(10000, 28, 28, 1)\n",
      "(10000, 28, 28, 1)\n",
      "(10000, 28, 28, 1)\n",
      "(10000, 28, 28, 1)\n",
      "(10000, 28, 28, 1)\n",
      "(10000,)\n",
      "(10000,)\n",
      "(10000,)\n",
      "(10000,)\n",
      "(10000,)\n",
      "(10000,)\n"
     ]
    }
   ],
   "source": [
    "print(Client_1[0].shape)\n",
    "print(Client_2[0].shape)\n",
    "print(Client_3[0].shape)\n",
    "print(Client_4[0].shape)\n",
    "print(Client_5[0].shape)\n",
    "print(Client_6[0].shape)\n",
    "\n",
    "print(Client_1[1].shape)\n",
    "print(Client_2[1].shape)\n",
    "print(Client_3[1].shape)\n",
    "print(Client_4[1].shape)\n",
    "print(Client_5[1].shape)\n",
    "print(Client_6[1].shape)"
   ]
  },
  {
   "cell_type": "code",
   "execution_count": 112,
   "metadata": {},
   "outputs": [
    {
     "name": "stdout",
     "output_type": "stream",
     "text": [
      "Epoch 1/5\n",
      "313/313 [==============================] - 1s 2ms/step - loss: 0.5229 - accuracy: 0.8590\n",
      "Epoch 2/5\n",
      "313/313 [==============================] - 1s 2ms/step - loss: 0.2414 - accuracy: 0.9304\n",
      "Epoch 3/5\n",
      "313/313 [==============================] - 1s 2ms/step - loss: 0.1776 - accuracy: 0.9508\n",
      "Epoch 4/5\n",
      "313/313 [==============================] - 1s 2ms/step - loss: 0.1330 - accuracy: 0.9635\n",
      "Epoch 5/5\n",
      "313/313 [==============================] - 1s 3ms/step - loss: 0.1045 - accuracy: 0.9712\n",
      "Epoch 1/5\n",
      "313/313 [==============================] - 2s 2ms/step - loss: 2.3198 - accuracy: 0.1056\n",
      "Epoch 2/5\n",
      "313/313 [==============================] - 1s 2ms/step - loss: 2.2949 - accuracy: 0.1164\n",
      "Epoch 3/5\n",
      "313/313 [==============================] - 1s 2ms/step - loss: 2.2815 - accuracy: 0.1360\n",
      "Epoch 4/5\n",
      "313/313 [==============================] - 1s 2ms/step - loss: 2.2617 - accuracy: 0.1532\n",
      "Epoch 5/5\n",
      "313/313 [==============================] - 1s 2ms/step - loss: 2.2336 - accuracy: 0.1746\n",
      "Epoch 1/5\n",
      "313/313 [==============================] - 1s 2ms/step - loss: 2.3216 - accuracy: 0.1034\n",
      "Epoch 2/5\n",
      "313/313 [==============================] - 1s 2ms/step - loss: 2.2944 - accuracy: 0.1244\n",
      "Epoch 3/5\n",
      "313/313 [==============================] - 1s 2ms/step - loss: 2.2819 - accuracy: 0.1325\n",
      "Epoch 4/5\n",
      "313/313 [==============================] - 1s 2ms/step - loss: 2.2620 - accuracy: 0.1537\n",
      "Epoch 5/5\n",
      "313/313 [==============================] - 1s 2ms/step - loss: 2.2383 - accuracy: 0.1627\n",
      "Epoch 1/5\n",
      "313/313 [==============================] - 1s 2ms/step - loss: 2.3191 - accuracy: 0.1072\n",
      "Epoch 2/5\n",
      "313/313 [==============================] - 1s 2ms/step - loss: 2.2918 - accuracy: 0.1301\n",
      "Epoch 3/5\n",
      "313/313 [==============================] - 1s 2ms/step - loss: 2.2763 - accuracy: 0.1403\n",
      "Epoch 4/5\n",
      "313/313 [==============================] - 1s 2ms/step - loss: 2.2532 - accuracy: 0.1646\n",
      "Epoch 5/5\n",
      "313/313 [==============================] - 1s 2ms/step - loss: 2.2259 - accuracy: 0.1808\n",
      "Epoch 1/5\n",
      "313/313 [==============================] - 1s 2ms/step - loss: 0.5457 - accuracy: 0.8461\n",
      "Epoch 2/5\n",
      "313/313 [==============================] - 1s 2ms/step - loss: 0.2571 - accuracy: 0.9258\n",
      "Epoch 3/5\n",
      "313/313 [==============================] - 1s 2ms/step - loss: 0.1881 - accuracy: 0.9468\n",
      "Epoch 4/5\n",
      "313/313 [==============================] - 1s 2ms/step - loss: 0.1445 - accuracy: 0.9596\n",
      "Epoch 5/5\n",
      "313/313 [==============================] - 1s 2ms/step - loss: 0.1151 - accuracy: 0.9674\n",
      "Epoch 1/5\n",
      "313/313 [==============================] - 1s 2ms/step - loss: 0.4890 - accuracy: 0.8663\n",
      "Epoch 2/5\n",
      "313/313 [==============================] - 1s 2ms/step - loss: 0.2223 - accuracy: 0.9381\n",
      "Epoch 3/5\n",
      "313/313 [==============================] - 1s 2ms/step - loss: 0.1599 - accuracy: 0.9559\n",
      "Epoch 4/5\n",
      "313/313 [==============================] - 1s 2ms/step - loss: 0.1217 - accuracy: 0.9667\n",
      "Epoch 5/5\n",
      "313/313 [==============================] - 1s 2ms/step - loss: 0.0947 - accuracy: 0.9737\n"
     ]
    }
   ],
   "source": [
    "# Create and train client models\n",
    "client1_model = create_client_model()\n",
    "client2_model = create_client_model()\n",
    "client3_model = create_client_model()\n",
    "client4_model = create_client_model()\n",
    "client5_model = create_client_model()\n",
    "client6_model = create_client_model()\n",
    "\n",
    "client1_model = train_client_model(client1_model, Client_1[0], Client_1[1])\n",
    "client2_model = train_client_model(client2_model, Client_2[0], Client_1[1])\n",
    "client3_model = train_client_model(client3_model, Client_3[0], Client_1[1])\n",
    "client4_model = train_client_model(client4_model, Client_4[0], Client_1[1])\n",
    "client5_model = train_client_model(client5_model, Client_5[0], Client_5[1])\n",
    "client6_model = train_client_model(client6_model, Client_6[0], Client_6[1])"
   ]
  },
  {
   "cell_type": "code",
   "execution_count": 113,
   "metadata": {},
   "outputs": [],
   "source": [
    "# Federated averaging\n",
    "def federated_average_weights(weights1, weights2, weights3, weights4, weights5, weights6):\n",
    "    new_weights = []\n",
    "    for w1, w2, w3, w4, w5, w6 in zip(weights1, weights2, weights3, weights4, weights5, weights6):\n",
    "        new_weights.append((w1 + w2 + w3 + w4 + w5 + w6) / 6)\n",
    "    return new_weights\n",
    "\n",
    "\n",
    "# Aggregate models\n",
    "aggregated_weights = federated_average_weights(client1_model.get_weights(), \n",
    "                                               client2_model.get_weights(), \n",
    "                                               client3_model.get_weights(),\n",
    "                                               client4_model.get_weights(),\n",
    "                                               client5_model.get_weights(),\n",
    "                                               client6_model.get_weights())\n",
    "\n",
    "# Create global model and set weights\n",
    "global_model = create_client_model()\n",
    "global_model.set_weights(aggregated_weights)"
   ]
  },
  {
   "cell_type": "code",
   "execution_count": 114,
   "metadata": {},
   "outputs": [
    {
     "name": "stdout",
     "output_type": "stream",
     "text": [
      "313/313 - 1s - loss: 1.9523 - accuracy: 0.7198 - 512ms/epoch - 2ms/step\n",
      "Test accuracy: 0.7197999954223633\n",
      "313/313 [==============================] - 0s 1ms/step\n",
      "(10000, 10)\n",
      "Accuracy test set:  0.7198\n",
      "Precision test set:  0.7649681801937827\n",
      "Recall test set:  0.7198\n",
      "F-score test set:  0.7079021148713025\n",
      "              precision    recall  f1-score   support\n",
      "\n",
      "           0       0.99      0.55      0.70       980\n",
      "           1       0.78      0.96      0.86      1135\n",
      "           2       0.92      0.72      0.81      1032\n",
      "           3       0.67      0.62      0.64      1010\n",
      "           4       0.60      0.86      0.71       982\n",
      "           5       0.48      0.88      0.62       892\n",
      "           6       0.74      0.92      0.82       958\n",
      "           7       0.80      0.64      0.71      1028\n",
      "           8       0.80      0.82      0.81       974\n",
      "           9       0.83      0.24      0.37      1009\n",
      "\n",
      "    accuracy                           0.72     10000\n",
      "   macro avg       0.76      0.72      0.71     10000\n",
      "weighted avg       0.76      0.72      0.71     10000\n",
      "\n"
     ]
    }
   ],
   "source": [
    "# Evaluate global model\n",
    "test_loss, test_acc = global_model.evaluate(x_test, y_test, verbose=2)\n",
    "print('Test accuracy:', test_acc)\n",
    "\n",
    "predictions = global_model.predict(x_test)\n",
    "print(predictions.shape)\n",
    "\n",
    "predictions = list(predictions.argmax(axis=1))\n",
    "\n",
    "print(\"Accuracy test set: \", accuracy_score(y_test, predictions))\n",
    "\n",
    "print(\"Precision test set: \", precision_score(y_test, predictions, average = 'weighted' )) \n",
    "print(\"Recall test set: \", recall_score(y_test, predictions, average = 'weighted' ))\n",
    "print(\"F-score test set: \", f1_score(y_test, predictions, average = 'weighted' ))\n",
    "\n",
    "print(classification_report(y_test, predictions))"
   ]
  },
  {
   "cell_type": "code",
   "execution_count": 115,
   "metadata": {},
   "outputs": [],
   "source": [
    "test_accuracy_dishonest  = []\n",
    "test_precision_dishonest = []\n",
    "test_recall_dishonest    = []\n",
    "test_f1_score_dishonest  = []"
   ]
  },
  {
   "cell_type": "code",
   "execution_count": 116,
   "metadata": {},
   "outputs": [
    {
     "name": "stdout",
     "output_type": "stream",
     "text": [
      "[0.7271999716758728, 0.7197999954223633]\n",
      "[0.7834205071021751, 0.7649681801937827]\n",
      "[0.7272, 0.7198]\n",
      "[0.7308748558259915, 0.7079021148713025]\n"
     ]
    }
   ],
   "source": [
    "test_accuracy_dishonest.append(test_accuracy[2])\n",
    "test_precision_dishonest.append(test_precision[2])\n",
    "test_recall_dishonest.append(test_recall[2])\n",
    "test_f1_score_dishonest.append(test_f1_score[2])\n",
    "\n",
    "test_accuracy_dishonest.append(0.7197999954223633)\n",
    "test_precision_dishonest.append(0.7649681801937827)\n",
    "test_recall_dishonest.append(0.7198)\n",
    "test_f1_score_dishonest.append(0.7079021148713025)\n",
    "\n",
    "print(test_accuracy_dishonest)\n",
    "print(test_precision_dishonest)\n",
    "print(test_recall_dishonest)\n",
    "print(test_f1_score_dishonest)"
   ]
  },
  {
   "cell_type": "code",
   "execution_count": 117,
   "metadata": {},
   "outputs": [
    {
     "name": "stdout",
     "output_type": "stream",
     "text": [
      "[[0.7271999716758728, 0.7197999954223633], [0.7834205071021751, 0.7649681801937827], [0.7272, 0.7198], [0.7308748558259915, 0.7079021148713025]]\n"
     ]
    },
    {
     "data": {
      "text/html": [
       "<div>\n",
       "<style scoped>\n",
       "    .dataframe tbody tr th:only-of-type {\n",
       "        vertical-align: middle;\n",
       "    }\n",
       "\n",
       "    .dataframe tbody tr th {\n",
       "        vertical-align: top;\n",
       "    }\n",
       "\n",
       "    .dataframe thead th {\n",
       "        text-align: right;\n",
       "    }\n",
       "</style>\n",
       "<table border=\"1\" class=\"dataframe\">\n",
       "  <thead>\n",
       "    <tr style=\"text-align: right;\">\n",
       "      <th></th>\n",
       "      <th>Accuracy</th>\n",
       "      <th>Precision</th>\n",
       "      <th>Recall</th>\n",
       "      <th>F1_Score</th>\n",
       "    </tr>\n",
       "  </thead>\n",
       "  <tbody>\n",
       "    <tr>\n",
       "      <th>All are honest</th>\n",
       "      <td>0.7272</td>\n",
       "      <td>0.783421</td>\n",
       "      <td>0.7272</td>\n",
       "      <td>0.730875</td>\n",
       "    </tr>\n",
       "    <tr>\n",
       "      <th>#2 is dishonest</th>\n",
       "      <td>0.7198</td>\n",
       "      <td>0.764968</td>\n",
       "      <td>0.7198</td>\n",
       "      <td>0.707902</td>\n",
       "    </tr>\n",
       "  </tbody>\n",
       "</table>\n",
       "</div>"
      ],
      "text/plain": [
       "                 Accuracy  Precision  Recall  F1_Score\n",
       "All are honest     0.7272   0.783421  0.7272  0.730875\n",
       "#2 is dishonest    0.7198   0.764968  0.7198  0.707902"
      ]
     },
     "execution_count": 117,
     "metadata": {},
     "output_type": "execute_result"
    }
   ],
   "source": [
    "### Plot the model's performance for the 6 clients, one of them (number=2) is dishonest\n",
    "\n",
    "ErrorMetrics = []\n",
    "ErrorMetrics.append(test_accuracy_dishonest)\n",
    "ErrorMetrics.append(test_precision_dishonest)\n",
    "ErrorMetrics.append(test_recall_dishonest)\n",
    "ErrorMetrics.append(test_f1_score_dishonest)\n",
    "\n",
    "print(ErrorMetrics)\n",
    "\n",
    "ErrorMetrics_pd = pd.DataFrame(ErrorMetrics)\n",
    "ErrorMetrics_pd.columns = ['All are honest', '#2 is dishonest']\n",
    "ErrorMetrics_pd = ErrorMetrics_pd.T\n",
    "ErrorMetrics_pd.columns = ['Accuracy','Precision','Recall','F1_Score']\n",
    "ErrorMetrics_pd"
   ]
  },
  {
   "cell_type": "code",
   "execution_count": 118,
   "metadata": {},
   "outputs": [
    {
     "data": {
      "text/plain": [
       "<Axes: >"
      ]
     },
     "execution_count": 118,
     "metadata": {},
     "output_type": "execute_result"
    },
    {
     "data": {
      "image/png": "[encoded data removed]",
      "text/plain": [
       "<Figure size 640x480 with 1 Axes>"
      ]
     },
     "metadata": {},
     "output_type": "display_data"
    }
   ],
   "source": [
    "ErrorMetrics_pd.plot.bar(width=0.7, alpha=0.7)"
   ]
  },
  {
   "cell_type": "code",
   "execution_count": null,
   "metadata": {},
   "outputs": [],
   "source": []
  }
 ],
 "metadata": {
  "colab": {
   "provenance": []
  },
  "kernelspec": {
   "display_name": "Python 3 (ipykernel)",
   "language": "python",
   "name": "python3"
  },
  "language_info": {
   "codemirror_mode": {
    "name": "ipython",
    "version": 3
   },
   "file_extension": ".py",
   "mimetype": "text/x-python",
   "name": "python",
   "nbconvert_exporter": "python",
   "pygments_lexer": "ipython3",
   "version": "3.11.5"
  }
 },
 "nbformat": 4,
 "nbformat_minor": 1
}

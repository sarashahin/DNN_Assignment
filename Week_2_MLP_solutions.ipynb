{
 "cells": [
  {
   "cell_type": "markdown",
   "metadata": {
    "id": "quDlLWcAP31q"
   },
   "source": [
    "## MLP for Binary Classification\n",
    "\n",
    "In this lab, you will use the Ionosphere data binary (two-class) classification dataset to demonstrate an MLP for binary classification.\n",
    "\n",
    "This dataset involves predicting whether a structure is in the atmosphere or not given radar returns.\n",
    "\n",
    "The dataset will be downloaded automatically using Pandas, but you can learn more in the links below.\n",
    "\n",
    "[Ionosphere Dataset (csv)](https://raw.githubusercontent.com/jbrownlee/Datasets/master/ionosphere.csv)\n",
    "\n",
    "[Ionosphere Dataset Description (csv)](https://raw.githubusercontent.com/jbrownlee/Datasets/master/ionosphere.names)\n",
    "\n",
    "\n",
    "Your task for this is lab is to develop a Keras-based Multi-Layer Perceptron model for this data set. Remember the number of output layers is equal to the number of classes.\n",
    "\n",
    "Following we have provided some piece of code to you while you need to complete the rest of the code on your own.\n",
    "\n"
   ]
  },
  {
   "cell_type": "code",
   "execution_count": 1,
   "metadata": {
    "id": "6086ipzNP31q"
   },
   "outputs": [],
   "source": [
    "# Importing Libraries\n",
    "\n",
    "# Your code to import read_csv class from pandas\n",
    "from pandas import read_csv\n",
    "\n",
    "# Your code to import train_test_split class from sklearn. \n",
    "#Follow link https://scikit-learn.org/stable/modules/generated/sklearn.model_selection.train_test_split.html\n",
    "from sklearn.model_selection import train_test_split\n",
    "\n",
    "\n",
    "from sklearn.preprocessing import LabelEncoder\n",
    "from tensorflow.keras import Sequential\n",
    "from tensorflow.keras.layers import Dense"
   ]
  },
  {
   "cell_type": "markdown",
   "metadata": {
    "id": "7755rFn_iDRj"
   },
   "source": [
    "# Read the dataset from the path below. Store the data in a pandas dataframe named 'df'\n",
    "\n",
    "Link to API - https://pandas.pydata.org/docs/reference/api/pandas.read_csv.html "
   ]
  },
  {
   "cell_type": "code",
   "execution_count": 2,
   "metadata": {
    "id": "058u-qkXP31r"
   },
   "outputs": [],
   "source": [
    "path = 'https://raw.githubusercontent.com/jbrownlee/Datasets/master/ionosphere.csv'\n",
    "\n",
    "# Your code to read the csv from the above path.\n",
    "df = read_csv(path, header=None)"
   ]
  },
  {
   "cell_type": "markdown",
   "metadata": {
    "id": "vG3n2OHrjQsG"
   },
   "source": [
    "See the sample dataset. Print few rows of the dataset. Use dataframe.head() method.\n",
    "\n",
    "Link to API:  https://pandas.pydata.org/docs/reference/api/pandas.DataFrame.head.html"
   ]
  },
  {
   "cell_type": "code",
   "execution_count": 3,
   "metadata": {
    "colab": {
     "base_uri": "https://localhost:8080/",
     "height": 235
    },
    "id": "jx3JTj4sfUIt",
    "outputId": "8b5da05a-f91b-45a3-8ff4-be2e6828d764"
   },
   "outputs": [
    {
     "data": {
      "text/html": [
       "<div>\n",
       "<style scoped>\n",
       "    .dataframe tbody tr th:only-of-type {\n",
       "        vertical-align: middle;\n",
       "    }\n",
       "\n",
       "    .dataframe tbody tr th {\n",
       "        vertical-align: top;\n",
       "    }\n",
       "\n",
       "    .dataframe thead th {\n",
       "        text-align: right;\n",
       "    }\n",
       "</style>\n",
       "<table border=\"1\" class=\"dataframe\">\n",
       "  <thead>\n",
       "    <tr style=\"text-align: right;\">\n",
       "      <th></th>\n",
       "      <th>0</th>\n",
       "      <th>1</th>\n",
       "      <th>2</th>\n",
       "      <th>3</th>\n",
       "      <th>4</th>\n",
       "      <th>5</th>\n",
       "      <th>6</th>\n",
       "      <th>7</th>\n",
       "      <th>8</th>\n",
       "      <th>9</th>\n",
       "      <th>...</th>\n",
       "      <th>25</th>\n",
       "      <th>26</th>\n",
       "      <th>27</th>\n",
       "      <th>28</th>\n",
       "      <th>29</th>\n",
       "      <th>30</th>\n",
       "      <th>31</th>\n",
       "      <th>32</th>\n",
       "      <th>33</th>\n",
       "      <th>34</th>\n",
       "    </tr>\n",
       "  </thead>\n",
       "  <tbody>\n",
       "    <tr>\n",
       "      <th>0</th>\n",
       "      <td>1</td>\n",
       "      <td>0</td>\n",
       "      <td>0.99539</td>\n",
       "      <td>-0.05889</td>\n",
       "      <td>0.85243</td>\n",
       "      <td>0.02306</td>\n",
       "      <td>0.83398</td>\n",
       "      <td>-0.37708</td>\n",
       "      <td>1.00000</td>\n",
       "      <td>0.03760</td>\n",
       "      <td>...</td>\n",
       "      <td>-0.51171</td>\n",
       "      <td>0.41078</td>\n",
       "      <td>-0.46168</td>\n",
       "      <td>0.21266</td>\n",
       "      <td>-0.34090</td>\n",
       "      <td>0.42267</td>\n",
       "      <td>-0.54487</td>\n",
       "      <td>0.18641</td>\n",
       "      <td>-0.45300</td>\n",
       "      <td>g</td>\n",
       "    </tr>\n",
       "    <tr>\n",
       "      <th>1</th>\n",
       "      <td>1</td>\n",
       "      <td>0</td>\n",
       "      <td>1.00000</td>\n",
       "      <td>-0.18829</td>\n",
       "      <td>0.93035</td>\n",
       "      <td>-0.36156</td>\n",
       "      <td>-0.10868</td>\n",
       "      <td>-0.93597</td>\n",
       "      <td>1.00000</td>\n",
       "      <td>-0.04549</td>\n",
       "      <td>...</td>\n",
       "      <td>-0.26569</td>\n",
       "      <td>-0.20468</td>\n",
       "      <td>-0.18401</td>\n",
       "      <td>-0.19040</td>\n",
       "      <td>-0.11593</td>\n",
       "      <td>-0.16626</td>\n",
       "      <td>-0.06288</td>\n",
       "      <td>-0.13738</td>\n",
       "      <td>-0.02447</td>\n",
       "      <td>b</td>\n",
       "    </tr>\n",
       "    <tr>\n",
       "      <th>2</th>\n",
       "      <td>1</td>\n",
       "      <td>0</td>\n",
       "      <td>1.00000</td>\n",
       "      <td>-0.03365</td>\n",
       "      <td>1.00000</td>\n",
       "      <td>0.00485</td>\n",
       "      <td>1.00000</td>\n",
       "      <td>-0.12062</td>\n",
       "      <td>0.88965</td>\n",
       "      <td>0.01198</td>\n",
       "      <td>...</td>\n",
       "      <td>-0.40220</td>\n",
       "      <td>0.58984</td>\n",
       "      <td>-0.22145</td>\n",
       "      <td>0.43100</td>\n",
       "      <td>-0.17365</td>\n",
       "      <td>0.60436</td>\n",
       "      <td>-0.24180</td>\n",
       "      <td>0.56045</td>\n",
       "      <td>-0.38238</td>\n",
       "      <td>g</td>\n",
       "    </tr>\n",
       "    <tr>\n",
       "      <th>3</th>\n",
       "      <td>1</td>\n",
       "      <td>0</td>\n",
       "      <td>1.00000</td>\n",
       "      <td>-0.45161</td>\n",
       "      <td>1.00000</td>\n",
       "      <td>1.00000</td>\n",
       "      <td>0.71216</td>\n",
       "      <td>-1.00000</td>\n",
       "      <td>0.00000</td>\n",
       "      <td>0.00000</td>\n",
       "      <td>...</td>\n",
       "      <td>0.90695</td>\n",
       "      <td>0.51613</td>\n",
       "      <td>1.00000</td>\n",
       "      <td>1.00000</td>\n",
       "      <td>-0.20099</td>\n",
       "      <td>0.25682</td>\n",
       "      <td>1.00000</td>\n",
       "      <td>-0.32382</td>\n",
       "      <td>1.00000</td>\n",
       "      <td>b</td>\n",
       "    </tr>\n",
       "    <tr>\n",
       "      <th>4</th>\n",
       "      <td>1</td>\n",
       "      <td>0</td>\n",
       "      <td>1.00000</td>\n",
       "      <td>-0.02401</td>\n",
       "      <td>0.94140</td>\n",
       "      <td>0.06531</td>\n",
       "      <td>0.92106</td>\n",
       "      <td>-0.23255</td>\n",
       "      <td>0.77152</td>\n",
       "      <td>-0.16399</td>\n",
       "      <td>...</td>\n",
       "      <td>-0.65158</td>\n",
       "      <td>0.13290</td>\n",
       "      <td>-0.53206</td>\n",
       "      <td>0.02431</td>\n",
       "      <td>-0.62197</td>\n",
       "      <td>-0.05707</td>\n",
       "      <td>-0.59573</td>\n",
       "      <td>-0.04608</td>\n",
       "      <td>-0.65697</td>\n",
       "      <td>g</td>\n",
       "    </tr>\n",
       "  </tbody>\n",
       "</table>\n",
       "<p>5 rows × 35 columns</p>\n",
       "</div>"
      ],
      "text/plain": [
       "   0   1        2        3        4        5        6        7        8   \\\n",
       "0   1   0  0.99539 -0.05889  0.85243  0.02306  0.83398 -0.37708  1.00000   \n",
       "1   1   0  1.00000 -0.18829  0.93035 -0.36156 -0.10868 -0.93597  1.00000   \n",
       "2   1   0  1.00000 -0.03365  1.00000  0.00485  1.00000 -0.12062  0.88965   \n",
       "3   1   0  1.00000 -0.45161  1.00000  1.00000  0.71216 -1.00000  0.00000   \n",
       "4   1   0  1.00000 -0.02401  0.94140  0.06531  0.92106 -0.23255  0.77152   \n",
       "\n",
       "        9   ...       25       26       27       28       29       30  \\\n",
       "0  0.03760  ... -0.51171  0.41078 -0.46168  0.21266 -0.34090  0.42267   \n",
       "1 -0.04549  ... -0.26569 -0.20468 -0.18401 -0.19040 -0.11593 -0.16626   \n",
       "2  0.01198  ... -0.40220  0.58984 -0.22145  0.43100 -0.17365  0.60436   \n",
       "3  0.00000  ...  0.90695  0.51613  1.00000  1.00000 -0.20099  0.25682   \n",
       "4 -0.16399  ... -0.65158  0.13290 -0.53206  0.02431 -0.62197 -0.05707   \n",
       "\n",
       "        31       32       33  34  \n",
       "0 -0.54487  0.18641 -0.45300   g  \n",
       "1 -0.06288 -0.13738 -0.02447   b  \n",
       "2 -0.24180  0.56045 -0.38238   g  \n",
       "3  1.00000 -0.32382  1.00000   b  \n",
       "4 -0.59573 -0.04608 -0.65697   g  \n",
       "\n",
       "[5 rows x 35 columns]"
      ]
     },
     "execution_count": 3,
     "metadata": {},
     "output_type": "execute_result"
    }
   ],
   "source": [
    "# Your code to print first few rows of the dataset.\n",
    "df.head()"
   ]
  },
  {
   "cell_type": "markdown",
   "metadata": {
    "id": "uo8Siqyxfhj7"
   },
   "source": [
    "Print the basic info of the dataset. Use dataframe.info() from pandas library\n"
   ]
  },
  {
   "cell_type": "code",
   "execution_count": 4,
   "metadata": {
    "colab": {
     "base_uri": "https://localhost:8080/"
    },
    "id": "VgN9rYV_fiag",
    "outputId": "6e750ac0-5040-4c63-ae80-2dbdec6e97d5"
   },
   "outputs": [
    {
     "name": "stdout",
     "output_type": "stream",
     "text": [
      "<class 'pandas.core.frame.DataFrame'>\n",
      "RangeIndex: 351 entries, 0 to 350\n",
      "Data columns (total 35 columns):\n",
      " #   Column  Non-Null Count  Dtype  \n",
      "---  ------  --------------  -----  \n",
      " 0   0       351 non-null    int64  \n",
      " 1   1       351 non-null    int64  \n",
      " 2   2       351 non-null    float64\n",
      " 3   3       351 non-null    float64\n",
      " 4   4       351 non-null    float64\n",
      " 5   5       351 non-null    float64\n",
      " 6   6       351 non-null    float64\n",
      " 7   7       351 non-null    float64\n",
      " 8   8       351 non-null    float64\n",
      " 9   9       351 non-null    float64\n",
      " 10  10      351 non-null    float64\n",
      " 11  11      351 non-null    float64\n",
      " 12  12      351 non-null    float64\n",
      " 13  13      351 non-null    float64\n",
      " 14  14      351 non-null    float64\n",
      " 15  15      351 non-null    float64\n",
      " 16  16      351 non-null    float64\n",
      " 17  17      351 non-null    float64\n",
      " 18  18      351 non-null    float64\n",
      " 19  19      351 non-null    float64\n",
      " 20  20      351 non-null    float64\n",
      " 21  21      351 non-null    float64\n",
      " 22  22      351 non-null    float64\n",
      " 23  23      351 non-null    float64\n",
      " 24  24      351 non-null    float64\n",
      " 25  25      351 non-null    float64\n",
      " 26  26      351 non-null    float64\n",
      " 27  27      351 non-null    float64\n",
      " 28  28      351 non-null    float64\n",
      " 29  29      351 non-null    float64\n",
      " 30  30      351 non-null    float64\n",
      " 31  31      351 non-null    float64\n",
      " 32  32      351 non-null    float64\n",
      " 33  33      351 non-null    float64\n",
      " 34  34      351 non-null    object \n",
      "dtypes: float64(32), int64(2), object(1)\n",
      "memory usage: 96.1+ KB\n"
     ]
    }
   ],
   "source": [
    "# Your code to print information about the dataframe\n",
    "df.info()"
   ]
  },
  {
   "cell_type": "markdown",
   "metadata": {
    "id": "AX_YFAb4kdl4"
   },
   "source": [
    "Print the shape of the dataframe. Select suitable API call from the pandas library"
   ]
  },
  {
   "cell_type": "code",
   "execution_count": 5,
   "metadata": {
    "colab": {
     "base_uri": "https://localhost:8080/"
    },
    "id": "rlfCOssvf44O",
    "outputId": "46dc6687-e9bc-4490-c620-fd20298fab18"
   },
   "outputs": [
    {
     "data": {
      "text/plain": [
       "(351, 35)"
      ]
     },
     "execution_count": 5,
     "metadata": {},
     "output_type": "execute_result"
    }
   ],
   "source": [
    "# Your code to print the shape of the dataset\n",
    "df.shape"
   ]
  },
  {
   "cell_type": "markdown",
   "metadata": {
    "id": "aekdoY2zkxU4"
   },
   "source": [
    "# Separate the input and output from the dataframe. Input is all columns besides last column. Output is the last column.\n"
   ]
  },
  {
   "cell_type": "code",
   "execution_count": 6,
   "metadata": {
    "id": "_5bh8al2P31s"
   },
   "outputs": [],
   "source": [
    "X = df.values[:, :-1]\n",
    "\n",
    "# Your code to get y - Hint y = df.values[:, some parameters]\n",
    "y = df.values[:, -1]\n"
   ]
  },
  {
   "cell_type": "markdown",
   "metadata": {
    "id": "t7y3GhJDloqk"
   },
   "source": [
    "We have converted everthing in X to 'float' and the letters in column y to the numbers in the following cell."
   ]
  },
  {
   "cell_type": "code",
   "execution_count": 7,
   "metadata": {
    "id": "qVtPf2F9lg17"
   },
   "outputs": [],
   "source": [
    "X = X.astype('float32')\n",
    "y = LabelEncoder().fit_transform(y)"
   ]
  },
  {
   "cell_type": "code",
   "execution_count": 8,
   "metadata": {},
   "outputs": [],
   "source": [
    "LabelEncoder?\n",
    "# Encode target labels with value between 0 and n_classes-1.\n",
    "# This transformer should be used to encode target values, \n",
    "# *i.e.* `y`, and not the input `X`."
   ]
  },
  {
   "cell_type": "code",
   "execution_count": 9,
   "metadata": {},
   "outputs": [],
   "source": [
    "LabelEncoder.fit_transform?"
   ]
  },
  {
   "cell_type": "markdown",
   "metadata": {
    "id": "EZ_aY4H3l9bI"
   },
   "source": [
    "Printing the genral information of the X and y in the following cell"
   ]
  },
  {
   "cell_type": "code",
   "execution_count": 10,
   "metadata": {
    "colab": {
     "base_uri": "https://localhost:8080/"
    },
    "id": "BWBOMrBigew9",
    "outputId": "60d54786-efa6-4255-d70f-26643c828524"
   },
   "outputs": [
    {
     "name": "stdout",
     "output_type": "stream",
     "text": [
      "[[ 1.       0.       0.99539 ... -0.54487  0.18641 -0.453  ]\n",
      " [ 1.       0.       1.      ... -0.06288 -0.13738 -0.02447]\n",
      " [ 1.       0.       1.      ... -0.2418   0.56045 -0.38238]\n",
      " ...\n",
      " [ 1.       0.       0.94701 ...  0.00442  0.92697 -0.00577]\n",
      " [ 1.       0.       0.90608 ... -0.03757  0.87403 -0.16243]\n",
      " [ 1.       0.       0.8471  ... -0.06678  0.85764 -0.06151]]\n",
      "[1 0 1 0 1 0 1 0 1 0 1 0 1 0 1 0 1 0 1 0 1 0 1 0 1 0 1 0 1 0 1 0 1 0 1 0 1\n",
      " 0 1 0 1 0 1 0 1 0 1 0 1 0 1 0 1 0 1 0 1 0 1 0 1 0 1 0 1 0 1 0 1 0 1 0 1 0\n",
      " 1 0 1 0 1 0 1 0 1 0 1 0 1 0 1 0 1 0 1 0 1 0 1 1 0 1 0 1 0 1 0 1 0 1 0 1 0\n",
      " 1 0 1 0 1 0 1 0 1 0 1 0 1 0 1 0 1 0 1 0 1 0 1 0 1 0 1 0 1 0 1 0 1 0 1 0 1\n",
      " 0 1 0 1 0 1 0 1 0 1 0 1 0 1 0 1 0 1 0 1 0 1 0 1 0 1 0 1 0 1 0 1 0 1 0 1 0\n",
      " 1 0 1 0 1 0 1 0 1 0 1 0 1 0 1 0 1 0 1 0 1 0 1 0 1 0 1 0 1 0 1 0 1 0 1 0 1\n",
      " 0 1 0 1 0 1 0 1 0 1 0 1 0 1 0 1 0 1 0 1 0 1 0 1 0 1 0 1 0 1 0 1 1 1 1 1 1\n",
      " 1 1 1 1 1 1 1 1 1 1 1 1 1 1 1 1 1 1 1 1 1 1 1 1 1 1 1 1 1 1 1 1 1 1 1 1 1\n",
      " 1 1 1 1 1 1 1 1 1 1 1 1 1 1 1 1 1 1 1 1 1 1 1 1 1 1 1 1 1 1 1 1 1 1 1 1 1\n",
      " 1 1 1 1 1 1 1 1 1 1 1 1 1 1 1 1 1 1]\n",
      "(351, 34)\n",
      "(351,)\n"
     ]
    }
   ],
   "source": [
    "# Your code to print X\n",
    "print(X)\n",
    "\n",
    "# Your code to print y\n",
    "print(y)\n",
    "\n",
    "# your code to print shape of X. Remember X is a numpy array\n",
    "print(X.shape)\n",
    "\n",
    "# your code to print shape of y. Remember y is a numpy array\n",
    "print(y.shape)\n"
   ]
  },
  {
   "cell_type": "code",
   "execution_count": null,
   "metadata": {},
   "outputs": [],
   "source": []
  },
  {
   "cell_type": "markdown",
   "metadata": {
    "id": "f9ltrLLqmkgW"
   },
   "source": [
    "* Separate X and y into training and test set with a ratio of your choice. \n",
    "* Print the shapes of the resulting arrays.\n",
    "* Get the number of features from X_train. Remember the number of features are the number of inputs.\n",
    "\n",
    "Use sklearn train_test_split class.\n",
    "https://scikit-learn.org/stable/modules/generated/sklearn.model_selection.train_test_split.html\n"
   ]
  },
  {
   "cell_type": "code",
   "execution_count": 11,
   "metadata": {},
   "outputs": [],
   "source": [
    "train_test_split?"
   ]
  },
  {
   "cell_type": "code",
   "execution_count": 12,
   "metadata": {
    "colab": {
     "base_uri": "https://localhost:8080/"
    },
    "id": "-CjFJcAMP31s",
    "outputId": "5f24596d-989a-4cf8-fce7-8c5c8321b43e"
   },
   "outputs": [
    {
     "name": "stdout",
     "output_type": "stream",
     "text": [
      "(235, 34) (116, 34) (235,) (116,)\n"
     ]
    },
    {
     "data": {
      "text/plain": [
       "34"
      ]
     },
     "execution_count": 12,
     "metadata": {},
     "output_type": "execute_result"
    }
   ],
   "source": [
    "# Your code to separate the data into trauning and test set.\n",
    "X_train, X_test, y_train, y_test = train_test_split(X, y, test_size=0.33)\n",
    "\n",
    "# Your code to print shape of X_train\n",
    "# Your code to print shape of X_test\n",
    "# Your code to print shape of y_train\n",
    "# Your code to print shape of X_test\n",
    "print(X_train.shape, X_test.shape, y_train.shape, y_test.shape)\n",
    "\n",
    "\n",
    "n_features = X_train.shape[1]\n",
    "n_features"
   ]
  },
  {
   "cell_type": "code",
   "execution_count": 13,
   "metadata": {},
   "outputs": [
    {
     "data": {
      "text/plain": [
       "array([1, 1, 1, 0, 0, 1, 1, 1, 0, 1, 1, 1, 1, 1, 1, 0, 1, 1, 1, 1, 1, 0,\n",
       "       1, 1, 1, 1, 1, 1, 0, 1, 1, 1, 0, 1, 1, 1, 0, 1, 1, 1, 1, 1, 0, 1,\n",
       "       0, 0, 0, 1, 1, 0, 0, 1, 0, 0, 0, 1, 1, 1, 0, 1, 0, 0, 0, 0, 1, 0,\n",
       "       1, 1, 1, 1, 1, 1, 1, 0, 1, 0, 1, 1, 1, 1, 0, 1, 1, 1, 1, 0, 1, 1,\n",
       "       0, 1, 1, 1, 1, 0, 1, 1, 0, 1, 1, 1, 1, 1, 1, 1, 0, 1, 0, 0, 0, 1,\n",
       "       0, 0, 0, 0, 1, 0, 0, 0, 0, 1, 1, 0, 1, 0, 0, 1, 1, 1, 0, 1, 0, 1,\n",
       "       0, 1, 1, 0, 1, 0, 1, 1, 1, 0, 1, 1, 0, 1, 1, 0, 1, 0, 0, 1, 0, 1,\n",
       "       1, 1, 0, 0, 1, 1, 0, 1, 1, 0, 1, 1, 1, 1, 1, 0, 0, 0, 0, 1, 1, 0,\n",
       "       1, 1, 0, 0, 1, 1, 1, 0, 1, 1, 0, 0, 1, 1, 1, 1, 1, 1, 1, 1, 1, 1,\n",
       "       0, 1, 0, 0, 1, 1, 1, 0, 0, 1, 1, 0, 1, 0, 1, 0, 1, 1, 0, 1, 0, 0,\n",
       "       0, 1, 1, 1, 1, 1, 1, 0, 1, 0, 1, 1, 0, 1, 0])"
      ]
     },
     "execution_count": 13,
     "metadata": {},
     "output_type": "execute_result"
    }
   ],
   "source": [
    "y_train"
   ]
  },
  {
   "cell_type": "code",
   "execution_count": 14,
   "metadata": {},
   "outputs": [
    {
     "data": {
      "text/plain": [
       "array([1, 0, 0, 1, 1, 1, 1, 1, 1, 1, 0, 0, 0, 1, 1, 1, 0, 0, 1, 1, 0, 1,\n",
       "       1, 0, 1, 1, 1, 1, 1, 1, 1, 0, 0, 1, 0, 1, 1, 0, 0, 1, 0, 1, 1, 0,\n",
       "       0, 1, 0, 0, 1, 0, 1, 0, 0, 1, 1, 1, 1, 1, 0, 1, 1, 1, 1, 1, 1, 1,\n",
       "       1, 1, 0, 0, 1, 1, 0, 1, 1, 1, 1, 1, 1, 0, 0, 1, 1, 0, 1, 0, 0, 0,\n",
       "       0, 0, 1, 1, 1, 1, 0, 0, 1, 1, 0, 1, 1, 1, 1, 1, 0, 1, 1, 1, 1, 1,\n",
       "       1, 1, 1, 0, 1, 0])"
      ]
     },
     "execution_count": 14,
     "metadata": {},
     "output_type": "execute_result"
    }
   ],
   "source": [
    "y_test"
   ]
  },
  {
   "cell_type": "markdown",
   "metadata": {
    "id": "dQdqYXJ9pqzC"
   },
   "source": [
    "# Creating a Multi-layer Perceptron using Keras.\n",
    "We have added first and last layers. Create the hidden layers of your choise.\n",
    "You can chose any number of hidden layers and activation function of your chose\n",
    "\n",
    "https://keras.io/api/layers/core_layers/dense/"
   ]
  },
  {
   "cell_type": "code",
   "execution_count": 15,
   "metadata": {
    "id": "hhTE3u-_P31t"
   },
   "outputs": [],
   "source": [
    "# define model\n",
    "\n",
    "model = Sequential()\n",
    "model.add(Dense(10, activation='relu', input_shape=(n_features,)))\n",
    "\n",
    "\n",
    "#\n",
    "# Add as many layers with activation functions of your choice\n",
    "#\n",
    "model.add(Dense(8, activation='relu'))\n",
    "\n",
    "\n",
    "\n",
    "model.add(Dense(1, activation='sigmoid'))"
   ]
  },
  {
   "cell_type": "code",
   "execution_count": 16,
   "metadata": {},
   "outputs": [
    {
     "name": "stdout",
     "output_type": "stream",
     "text": [
      "Model: \"sequential\"\n",
      "_________________________________________________________________\n",
      " Layer (type)                Output Shape              Param #   \n",
      "=================================================================\n",
      " dense (Dense)               (None, 10)                350       \n",
      "                                                                 \n",
      " dense_1 (Dense)             (None, 8)                 88        \n",
      "                                                                 \n",
      " dense_2 (Dense)             (None, 1)                 9         \n",
      "                                                                 \n",
      "=================================================================\n",
      "Total params: 447\n",
      "Trainable params: 447\n",
      "Non-trainable params: 0\n",
      "_________________________________________________________________\n",
      "None\n"
     ]
    }
   ],
   "source": [
    "print(model.summary())"
   ]
  },
  {
   "cell_type": "markdown",
   "metadata": {
    "id": "2NtBU922rH67"
   },
   "source": [
    "In the next cell, we trained the above neural network model and tested its accuracy. As this concept has still not benn covered in the class, just run the code to check the accuracy."
   ]
  },
  {
   "cell_type": "code",
   "execution_count": 17,
   "metadata": {},
   "outputs": [],
   "source": [
    "# compile the model\n",
    "\n",
    "# Training method: optimizer - \"adam\"\n",
    "# adam (Adaptive Moment Estimation) Optimizer is one of the most common optimizers\n",
    "# Measure of error in the Backpropagation algorithm: 'binary_crossentropy'\n",
    "# The metric by which we will perform optimization is 'accuracy'\n",
    "\n",
    "model.compile(optimizer='adam', loss='binary_crossentropy', metrics=['accuracy'])"
   ]
  },
  {
   "cell_type": "code",
   "execution_count": 18,
   "metadata": {},
   "outputs": [
    {
     "name": "stdout",
     "output_type": "stream",
     "text": [
      "Epoch 1/150\n"
     ]
    },
    {
     "name": "stderr",
     "output_type": "stream",
     "text": [
      "2024-04-20 12:01:30.881656: W tensorflow/tsl/platform/profile_utils/cpu_utils.cc:128] Failed to get CPU frequency: 0 Hz\n"
     ]
    },
    {
     "name": "stdout",
     "output_type": "stream",
     "text": [
      "8/8 [==============================] - 0s 1ms/step - loss: 0.5894 - accuracy: 0.7106\n",
      "Epoch 2/150\n",
      "8/8 [==============================] - 0s 720us/step - loss: 0.5700 - accuracy: 0.7404\n",
      "Epoch 3/150\n",
      "8/8 [==============================] - 0s 535us/step - loss: 0.5526 - accuracy: 0.7532\n",
      "Epoch 4/150\n",
      "8/8 [==============================] - 0s 734us/step - loss: 0.5353 - accuracy: 0.7830\n",
      "Epoch 5/150\n",
      "8/8 [==============================] - 0s 525us/step - loss: 0.5203 - accuracy: 0.8043\n",
      "Epoch 6/150\n",
      "8/8 [==============================] - 0s 603us/step - loss: 0.5045 - accuracy: 0.8170\n",
      "Epoch 7/150\n",
      "8/8 [==============================] - 0s 682us/step - loss: 0.4907 - accuracy: 0.8255\n",
      "Epoch 8/150\n",
      "8/8 [==============================] - 0s 661us/step - loss: 0.4774 - accuracy: 0.8340\n",
      "Epoch 9/150\n",
      "8/8 [==============================] - 0s 696us/step - loss: 0.4655 - accuracy: 0.8426\n",
      "Epoch 10/150\n",
      "8/8 [==============================] - 0s 546us/step - loss: 0.4542 - accuracy: 0.8511\n",
      "Epoch 11/150\n",
      "8/8 [==============================] - 0s 1ms/step - loss: 0.4423 - accuracy: 0.8511\n",
      "Epoch 12/150\n",
      "8/8 [==============================] - 0s 2ms/step - loss: 0.4306 - accuracy: 0.8596\n",
      "Epoch 13/150\n",
      "8/8 [==============================] - 0s 588us/step - loss: 0.4183 - accuracy: 0.8766\n",
      "Epoch 14/150\n",
      "8/8 [==============================] - 0s 602us/step - loss: 0.4069 - accuracy: 0.8809\n",
      "Epoch 15/150\n",
      "8/8 [==============================] - 0s 512us/step - loss: 0.3952 - accuracy: 0.8809\n",
      "Epoch 16/150\n",
      "8/8 [==============================] - 0s 624us/step - loss: 0.3825 - accuracy: 0.8851\n",
      "Epoch 17/150\n",
      "8/8 [==============================] - 0s 631us/step - loss: 0.3705 - accuracy: 0.8894\n",
      "Epoch 18/150\n",
      "8/8 [==============================] - 0s 512us/step - loss: 0.3594 - accuracy: 0.8936\n",
      "Epoch 19/150\n",
      "8/8 [==============================] - 0s 562us/step - loss: 0.3495 - accuracy: 0.8936\n",
      "Epoch 20/150\n",
      "8/8 [==============================] - 0s 668us/step - loss: 0.3403 - accuracy: 0.9021\n",
      "Epoch 21/150\n",
      "8/8 [==============================] - 0s 633us/step - loss: 0.3305 - accuracy: 0.9106\n",
      "Epoch 22/150\n",
      "8/8 [==============================] - 0s 502us/step - loss: 0.3224 - accuracy: 0.9149\n",
      "Epoch 23/150\n",
      "8/8 [==============================] - 0s 666us/step - loss: 0.3140 - accuracy: 0.9149\n",
      "Epoch 24/150\n",
      "8/8 [==============================] - 0s 705us/step - loss: 0.3060 - accuracy: 0.9234\n",
      "Epoch 25/150\n",
      "8/8 [==============================] - 0s 528us/step - loss: 0.2970 - accuracy: 0.9277\n",
      "Epoch 26/150\n",
      "8/8 [==============================] - 0s 680us/step - loss: 0.2889 - accuracy: 0.9362\n",
      "Epoch 27/150\n",
      "8/8 [==============================] - 0s 618us/step - loss: 0.2806 - accuracy: 0.9362\n",
      "Epoch 28/150\n",
      "8/8 [==============================] - 0s 576us/step - loss: 0.2730 - accuracy: 0.9362\n",
      "Epoch 29/150\n",
      "8/8 [==============================] - 0s 604us/step - loss: 0.2652 - accuracy: 0.9362\n",
      "Epoch 30/150\n",
      "8/8 [==============================] - 0s 532us/step - loss: 0.2587 - accuracy: 0.9319\n",
      "Epoch 31/150\n",
      "8/8 [==============================] - 0s 656us/step - loss: 0.2511 - accuracy: 0.9447\n",
      "Epoch 32/150\n",
      "8/8 [==============================] - 0s 556us/step - loss: 0.2449 - accuracy: 0.9404\n",
      "Epoch 33/150\n",
      "8/8 [==============================] - 0s 516us/step - loss: 0.2377 - accuracy: 0.9447\n",
      "Epoch 34/150\n",
      "8/8 [==============================] - 0s 656us/step - loss: 0.2337 - accuracy: 0.9489\n",
      "Epoch 35/150\n",
      "8/8 [==============================] - 0s 634us/step - loss: 0.2267 - accuracy: 0.9489\n",
      "Epoch 36/150\n",
      "8/8 [==============================] - 0s 510us/step - loss: 0.2214 - accuracy: 0.9489\n",
      "Epoch 37/150\n",
      "8/8 [==============================] - 0s 720us/step - loss: 0.2156 - accuracy: 0.9489\n",
      "Epoch 38/150\n",
      "8/8 [==============================] - 0s 648us/step - loss: 0.2109 - accuracy: 0.9532\n",
      "Epoch 39/150\n",
      "8/8 [==============================] - 0s 523us/step - loss: 0.2066 - accuracy: 0.9532\n",
      "Epoch 40/150\n",
      "8/8 [==============================] - 0s 696us/step - loss: 0.2017 - accuracy: 0.9532\n",
      "Epoch 41/150\n",
      "8/8 [==============================] - 0s 611us/step - loss: 0.1976 - accuracy: 0.9574\n",
      "Epoch 42/150\n",
      "8/8 [==============================] - 0s 547us/step - loss: 0.1935 - accuracy: 0.9574\n",
      "Epoch 43/150\n",
      "8/8 [==============================] - 0s 681us/step - loss: 0.1896 - accuracy: 0.9574\n",
      "Epoch 44/150\n",
      "8/8 [==============================] - 0s 557us/step - loss: 0.1869 - accuracy: 0.9574\n",
      "Epoch 45/150\n",
      "8/8 [==============================] - 0s 861us/step - loss: 0.1822 - accuracy: 0.9574\n",
      "Epoch 46/150\n",
      "8/8 [==============================] - 0s 638us/step - loss: 0.1787 - accuracy: 0.9574\n",
      "Epoch 47/150\n",
      "8/8 [==============================] - 0s 508us/step - loss: 0.1759 - accuracy: 0.9574\n",
      "Epoch 48/150\n",
      "8/8 [==============================] - 0s 667us/step - loss: 0.1730 - accuracy: 0.9617\n",
      "Epoch 49/150\n",
      "8/8 [==============================] - 0s 580us/step - loss: 0.1694 - accuracy: 0.9617\n",
      "Epoch 50/150\n",
      "8/8 [==============================] - 0s 510us/step - loss: 0.1665 - accuracy: 0.9617\n",
      "Epoch 51/150\n",
      "8/8 [==============================] - 0s 771us/step - loss: 0.1628 - accuracy: 0.9617\n",
      "Epoch 52/150\n",
      "8/8 [==============================] - 0s 526us/step - loss: 0.1614 - accuracy: 0.9617\n",
      "Epoch 53/150\n",
      "8/8 [==============================] - 0s 689us/step - loss: 0.1587 - accuracy: 0.9660\n",
      "Epoch 54/150\n",
      "8/8 [==============================] - 0s 683us/step - loss: 0.1556 - accuracy: 0.9660\n",
      "Epoch 55/150\n",
      "8/8 [==============================] - 0s 722us/step - loss: 0.1521 - accuracy: 0.9617\n",
      "Epoch 56/150\n",
      "8/8 [==============================] - 0s 572us/step - loss: 0.1501 - accuracy: 0.9660\n",
      "Epoch 57/150\n",
      "8/8 [==============================] - 0s 538us/step - loss: 0.1472 - accuracy: 0.9702\n",
      "Epoch 58/150\n",
      "8/8 [==============================] - 0s 745us/step - loss: 0.1448 - accuracy: 0.9702\n",
      "Epoch 59/150\n",
      "8/8 [==============================] - 0s 538us/step - loss: 0.1428 - accuracy: 0.9702\n",
      "Epoch 60/150\n",
      "8/8 [==============================] - 0s 504us/step - loss: 0.1410 - accuracy: 0.9702\n",
      "Epoch 61/150\n",
      "8/8 [==============================] - 0s 536us/step - loss: 0.1393 - accuracy: 0.9702\n",
      "Epoch 62/150\n",
      "8/8 [==============================] - 0s 530us/step - loss: 0.1361 - accuracy: 0.9702\n",
      "Epoch 63/150\n",
      "8/8 [==============================] - 0s 536us/step - loss: 0.1345 - accuracy: 0.9702\n",
      "Epoch 64/150\n",
      "8/8 [==============================] - 0s 560us/step - loss: 0.1321 - accuracy: 0.9702\n",
      "Epoch 65/150\n",
      "8/8 [==============================] - 0s 501us/step - loss: 0.1304 - accuracy: 0.9702\n",
      "Epoch 66/150\n",
      "8/8 [==============================] - 0s 537us/step - loss: 0.1283 - accuracy: 0.9702\n",
      "Epoch 67/150\n",
      "8/8 [==============================] - 0s 518us/step - loss: 0.1267 - accuracy: 0.9702\n",
      "Epoch 68/150\n",
      "8/8 [==============================] - 0s 487us/step - loss: 0.1250 - accuracy: 0.9745\n",
      "Epoch 69/150\n",
      "8/8 [==============================] - 0s 608us/step - loss: 0.1235 - accuracy: 0.9745\n",
      "Epoch 70/150\n",
      "8/8 [==============================] - 0s 518us/step - loss: 0.1217 - accuracy: 0.9745\n",
      "Epoch 71/150\n",
      "8/8 [==============================] - 0s 569us/step - loss: 0.1195 - accuracy: 0.9745\n",
      "Epoch 72/150\n",
      "8/8 [==============================] - 0s 584us/step - loss: 0.1179 - accuracy: 0.9745\n",
      "Epoch 73/150\n",
      "8/8 [==============================] - 0s 479us/step - loss: 0.1163 - accuracy: 0.9745\n",
      "Epoch 74/150\n",
      "8/8 [==============================] - 0s 557us/step - loss: 0.1148 - accuracy: 0.9745\n",
      "Epoch 75/150\n",
      "8/8 [==============================] - 0s 528us/step - loss: 0.1134 - accuracy: 0.9745\n",
      "Epoch 76/150\n",
      "8/8 [==============================] - 0s 492us/step - loss: 0.1118 - accuracy: 0.9745\n",
      "Epoch 77/150\n",
      "8/8 [==============================] - 0s 530us/step - loss: 0.1107 - accuracy: 0.9745\n",
      "Epoch 78/150\n",
      "8/8 [==============================] - 0s 491us/step - loss: 0.1093 - accuracy: 0.9745\n",
      "Epoch 79/150\n",
      "8/8 [==============================] - 0s 549us/step - loss: 0.1084 - accuracy: 0.9745\n",
      "Epoch 80/150\n",
      "8/8 [==============================] - 0s 554us/step - loss: 0.1063 - accuracy: 0.9787\n",
      "Epoch 81/150\n",
      "8/8 [==============================] - 0s 480us/step - loss: 0.1049 - accuracy: 0.9745\n",
      "Epoch 82/150\n",
      "8/8 [==============================] - 0s 523us/step - loss: 0.1037 - accuracy: 0.9745\n",
      "Epoch 83/150\n"
     ]
    },
    {
     "name": "stdout",
     "output_type": "stream",
     "text": [
      "8/8 [==============================] - 0s 490us/step - loss: 0.1029 - accuracy: 0.9745\n",
      "Epoch 84/150\n",
      "8/8 [==============================] - 0s 587us/step - loss: 0.1021 - accuracy: 0.9745\n",
      "Epoch 85/150\n",
      "8/8 [==============================] - 0s 482us/step - loss: 0.1000 - accuracy: 0.9787\n",
      "Epoch 86/150\n",
      "8/8 [==============================] - 0s 483us/step - loss: 0.0990 - accuracy: 0.9787\n",
      "Epoch 87/150\n",
      "8/8 [==============================] - 0s 528us/step - loss: 0.0983 - accuracy: 0.9787\n",
      "Epoch 88/150\n",
      "8/8 [==============================] - 0s 841us/step - loss: 0.0967 - accuracy: 0.9787\n",
      "Epoch 89/150\n",
      "8/8 [==============================] - 0s 511us/step - loss: 0.0958 - accuracy: 0.9787\n",
      "Epoch 90/150\n",
      "8/8 [==============================] - 0s 486us/step - loss: 0.0949 - accuracy: 0.9787\n",
      "Epoch 91/150\n",
      "8/8 [==============================] - 0s 477us/step - loss: 0.0940 - accuracy: 0.9787\n",
      "Epoch 92/150\n",
      "8/8 [==============================] - 0s 487us/step - loss: 0.0928 - accuracy: 0.9787\n",
      "Epoch 93/150\n",
      "8/8 [==============================] - 0s 454us/step - loss: 0.0916 - accuracy: 0.9787\n",
      "Epoch 94/150\n",
      "8/8 [==============================] - 0s 488us/step - loss: 0.0918 - accuracy: 0.9787\n",
      "Epoch 95/150\n",
      "8/8 [==============================] - 0s 535us/step - loss: 0.0899 - accuracy: 0.9787\n",
      "Epoch 96/150\n",
      "8/8 [==============================] - 0s 489us/step - loss: 0.0889 - accuracy: 0.9787\n",
      "Epoch 97/150\n",
      "8/8 [==============================] - 0s 496us/step - loss: 0.0889 - accuracy: 0.9787\n",
      "Epoch 98/150\n",
      "8/8 [==============================] - 0s 487us/step - loss: 0.0878 - accuracy: 0.9787\n",
      "Epoch 99/150\n",
      "8/8 [==============================] - 0s 489us/step - loss: 0.0884 - accuracy: 0.9787\n",
      "Epoch 100/150\n",
      "8/8 [==============================] - 0s 480us/step - loss: 0.0864 - accuracy: 0.9787\n",
      "Epoch 101/150\n",
      "8/8 [==============================] - 0s 493us/step - loss: 0.0846 - accuracy: 0.9787\n",
      "Epoch 102/150\n",
      "8/8 [==============================] - 0s 563us/step - loss: 0.0839 - accuracy: 0.9787\n",
      "Epoch 103/150\n",
      "8/8 [==============================] - 0s 489us/step - loss: 0.0830 - accuracy: 0.9787\n",
      "Epoch 104/150\n",
      "8/8 [==============================] - 0s 536us/step - loss: 0.0823 - accuracy: 0.9787\n",
      "Epoch 105/150\n",
      "8/8 [==============================] - 0s 550us/step - loss: 0.0816 - accuracy: 0.9787\n",
      "Epoch 106/150\n",
      "8/8 [==============================] - 0s 481us/step - loss: 0.0804 - accuracy: 0.9787\n",
      "Epoch 107/150\n",
      "8/8 [==============================] - 0s 460us/step - loss: 0.0805 - accuracy: 0.9830\n",
      "Epoch 108/150\n",
      "8/8 [==============================] - 0s 486us/step - loss: 0.0795 - accuracy: 0.9830\n",
      "Epoch 109/150\n",
      "8/8 [==============================] - 0s 550us/step - loss: 0.0793 - accuracy: 0.9787\n",
      "Epoch 110/150\n",
      "8/8 [==============================] - 0s 497us/step - loss: 0.0781 - accuracy: 0.9787\n",
      "Epoch 111/150\n",
      "8/8 [==============================] - 0s 482us/step - loss: 0.0771 - accuracy: 0.9787\n",
      "Epoch 112/150\n",
      "8/8 [==============================] - 0s 531us/step - loss: 0.0763 - accuracy: 0.9830\n",
      "Epoch 113/150\n",
      "8/8 [==============================] - 0s 486us/step - loss: 0.0755 - accuracy: 0.9872\n",
      "Epoch 114/150\n",
      "8/8 [==============================] - 0s 473us/step - loss: 0.0743 - accuracy: 0.9872\n",
      "Epoch 115/150\n",
      "8/8 [==============================] - 0s 467us/step - loss: 0.0743 - accuracy: 0.9872\n",
      "Epoch 116/150\n",
      "8/8 [==============================] - 0s 565us/step - loss: 0.0738 - accuracy: 0.9830\n",
      "Epoch 117/150\n",
      "8/8 [==============================] - 0s 489us/step - loss: 0.0727 - accuracy: 0.9830\n",
      "Epoch 118/150\n",
      "8/8 [==============================] - 0s 507us/step - loss: 0.0725 - accuracy: 0.9872\n",
      "Epoch 119/150\n",
      "8/8 [==============================] - 0s 559us/step - loss: 0.0708 - accuracy: 0.9872\n",
      "Epoch 120/150\n",
      "8/8 [==============================] - 0s 486us/step - loss: 0.0703 - accuracy: 0.9872\n",
      "Epoch 121/150\n",
      "8/8 [==============================] - 0s 481us/step - loss: 0.0705 - accuracy: 0.9872\n",
      "Epoch 122/150\n",
      "8/8 [==============================] - 0s 483us/step - loss: 0.0693 - accuracy: 0.9872\n",
      "Epoch 123/150\n",
      "8/8 [==============================] - 0s 522us/step - loss: 0.0682 - accuracy: 0.9872\n",
      "Epoch 124/150\n",
      "8/8 [==============================] - 0s 486us/step - loss: 0.0681 - accuracy: 0.9872\n",
      "Epoch 125/150\n",
      "8/8 [==============================] - 0s 490us/step - loss: 0.0670 - accuracy: 0.9872\n",
      "Epoch 126/150\n",
      "8/8 [==============================] - 0s 928us/step - loss: 0.0666 - accuracy: 0.9872\n",
      "Epoch 127/150\n",
      "8/8 [==============================] - 0s 487us/step - loss: 0.0661 - accuracy: 0.9872\n",
      "Epoch 128/150\n",
      "8/8 [==============================] - 0s 471us/step - loss: 0.0658 - accuracy: 0.9872\n",
      "Epoch 129/150\n",
      "8/8 [==============================] - 0s 542us/step - loss: 0.0649 - accuracy: 0.9872\n",
      "Epoch 130/150\n",
      "8/8 [==============================] - 0s 475us/step - loss: 0.0641 - accuracy: 0.9872\n",
      "Epoch 131/150\n",
      "8/8 [==============================] - 0s 502us/step - loss: 0.0642 - accuracy: 0.9872\n",
      "Epoch 132/150\n",
      "8/8 [==============================] - 0s 548us/step - loss: 0.0633 - accuracy: 0.9872\n",
      "Epoch 133/150\n",
      "8/8 [==============================] - 0s 560us/step - loss: 0.0625 - accuracy: 0.9872\n",
      "Epoch 134/150\n",
      "8/8 [==============================] - 0s 548us/step - loss: 0.0619 - accuracy: 0.9872\n",
      "Epoch 135/150\n",
      "8/8 [==============================] - 0s 621us/step - loss: 0.0614 - accuracy: 0.9872\n",
      "Epoch 136/150\n",
      "8/8 [==============================] - 0s 597us/step - loss: 0.0607 - accuracy: 0.9872\n",
      "Epoch 137/150\n",
      "8/8 [==============================] - 0s 482us/step - loss: 0.0603 - accuracy: 0.9872\n",
      "Epoch 138/150\n",
      "8/8 [==============================] - 0s 484us/step - loss: 0.0598 - accuracy: 0.9872\n",
      "Epoch 139/150\n",
      "8/8 [==============================] - 0s 469us/step - loss: 0.0593 - accuracy: 0.9872\n",
      "Epoch 140/150\n",
      "8/8 [==============================] - 0s 514us/step - loss: 0.0597 - accuracy: 0.9872\n",
      "Epoch 141/150\n",
      "8/8 [==============================] - 0s 509us/step - loss: 0.0580 - accuracy: 0.9872\n",
      "Epoch 142/150\n",
      "8/8 [==============================] - 0s 583us/step - loss: 0.0576 - accuracy: 0.9872\n",
      "Epoch 143/150\n",
      "8/8 [==============================] - 0s 486us/step - loss: 0.0574 - accuracy: 0.9872\n",
      "Epoch 144/150\n",
      "8/8 [==============================] - 0s 627us/step - loss: 0.0573 - accuracy: 0.9872\n",
      "Epoch 145/150\n",
      "8/8 [==============================] - 0s 559us/step - loss: 0.0564 - accuracy: 0.9872\n",
      "Epoch 146/150\n",
      "8/8 [==============================] - 0s 549us/step - loss: 0.0556 - accuracy: 0.9872\n",
      "Epoch 147/150\n",
      "8/8 [==============================] - 0s 488us/step - loss: 0.0554 - accuracy: 0.9872\n",
      "Epoch 148/150\n",
      "8/8 [==============================] - 0s 529us/step - loss: 0.0548 - accuracy: 0.9872\n",
      "Epoch 149/150\n",
      "8/8 [==============================] - 0s 454us/step - loss: 0.0544 - accuracy: 0.9872\n",
      "Epoch 150/150\n",
      "8/8 [==============================] - 0s 460us/step - loss: 0.0549 - accuracy: 0.9872\n"
     ]
    }
   ],
   "source": [
    "# fit the model\n",
    "\n",
    "# mini-sample size batch_size = 32, we analyze at each step 32 lines,\n",
    "# we determine the direction of the gradient from them and, in accordance with this\n",
    "# determine the size of the weights\n",
    "# the number of epochs = 150 - those how many times we carry out training \n",
    "# verbose = 1 - printing information in the learning process\n",
    "\n",
    "history = model.fit(X_train, y_train, epochs=150, batch_size=32, verbose=1)"
   ]
  },
  {
   "cell_type": "code",
   "execution_count": 19,
   "metadata": {
    "colab": {
     "base_uri": "https://localhost:8080/"
    },
    "id": "krgB1SuRP31t",
    "outputId": "7b2d16d5-d89d-49fe-860b-2e2d514828b7"
   },
   "outputs": [
    {
     "name": "stdout",
     "output_type": "stream",
     "text": [
      "4/4 [==============================] - 0s 719us/step - loss: 0.2124 - accuracy: 0.9052\n",
      "Test Accuracy: 0.905\n"
     ]
    }
   ],
   "source": [
    "# evaluate the model\n",
    "\n",
    "loss, acc = model.evaluate(X_test, y_test, verbose=1)\n",
    "print('Test Accuracy: %.3f' % acc)"
   ]
  },
  {
   "cell_type": "code",
   "execution_count": 20,
   "metadata": {},
   "outputs": [
    {
     "data": {
      "image/png": "[encoded data removed]",
      "text/plain": [
       "<Figure size 1500x700 with 1 Axes>"
      ]
     },
     "metadata": {},
     "output_type": "display_data"
    }
   ],
   "source": [
    "# Accuracy graphs during training\n",
    "import matplotlib.pyplot as plt\n",
    "\n",
    "history_dict = history.history\n",
    "Accuracy = history_dict['accuracy']\n",
    "plt.figure(num=1, figsize=(15,7))\n",
    "plt.plot(Accuracy, 'bo', label='Training accuracy')\n",
    "plt.xlabel('Epochs')\n",
    "plt.ylabel('Accuracy')\n",
    "plt.legend()\n",
    "plt.show()"
   ]
  },
  {
   "cell_type": "markdown",
   "metadata": {},
   "source": [
    "** How much accuracy have you got? Compare the accuracy with your peers. **\n",
    "\n",
    "** Now, change your model and activation function to get the better accuracy as compared to your peers **"
   ]
  },
  {
   "cell_type": "code",
   "execution_count": 21,
   "metadata": {},
   "outputs": [],
   "source": [
    "Dense?"
   ]
  },
  {
   "cell_type": "code",
   "execution_count": 22,
   "metadata": {},
   "outputs": [],
   "source": [
    "# define the NEW model\n",
    "\n",
    "model = Sequential()\n",
    "model.add(Dense(10, activation='gelu', input_shape=(n_features,)))\n",
    "\n",
    "\n",
    "#\n",
    "# Add as many layers with activation functions of your choice\n",
    "#\n",
    "model.add(Dense(8, activation='gelu'))\n",
    "model.add(Dense(5, activation='gelu'))\n",
    "\n",
    "\n",
    "model.add(Dense(1, activation='sigmoid'))"
   ]
  },
  {
   "cell_type": "code",
   "execution_count": 23,
   "metadata": {},
   "outputs": [
    {
     "name": "stdout",
     "output_type": "stream",
     "text": [
      "Model: \"sequential_1\"\n",
      "_________________________________________________________________\n",
      " Layer (type)                Output Shape              Param #   \n",
      "=================================================================\n",
      " dense_3 (Dense)             (None, 10)                350       \n",
      "                                                                 \n",
      " dense_4 (Dense)             (None, 8)                 88        \n",
      "                                                                 \n",
      " dense_5 (Dense)             (None, 5)                 45        \n",
      "                                                                 \n",
      " dense_6 (Dense)             (None, 1)                 6         \n",
      "                                                                 \n",
      "=================================================================\n",
      "Total params: 489\n",
      "Trainable params: 489\n",
      "Non-trainable params: 0\n",
      "_________________________________________________________________\n",
      "None\n"
     ]
    }
   ],
   "source": [
    "print(model.summary())"
   ]
  },
  {
   "cell_type": "code",
   "execution_count": 24,
   "metadata": {},
   "outputs": [],
   "source": [
    "model.compile(optimizer='adam', loss='binary_crossentropy', metrics=['accuracy'])"
   ]
  },
  {
   "cell_type": "code",
   "execution_count": 25,
   "metadata": {},
   "outputs": [
    {
     "name": "stdout",
     "output_type": "stream",
     "text": [
      "Epoch 1/150\n",
      "8/8 [==============================] - 0s 638us/step - loss: 0.6889 - accuracy: 0.6298\n",
      "Epoch 2/150\n",
      "8/8 [==============================] - 0s 568us/step - loss: 0.6739 - accuracy: 0.6766\n",
      "Epoch 3/150\n",
      "8/8 [==============================] - 0s 563us/step - loss: 0.6553 - accuracy: 0.6766\n",
      "Epoch 4/150\n",
      "8/8 [==============================] - 0s 705us/step - loss: 0.6335 - accuracy: 0.6851\n",
      "Epoch 5/150\n",
      "8/8 [==============================] - 0s 585us/step - loss: 0.6092 - accuracy: 0.6809\n",
      "Epoch 6/150\n",
      "8/8 [==============================] - 0s 1ms/step - loss: 0.5819 - accuracy: 0.6723\n",
      "Epoch 7/150\n",
      "8/8 [==============================] - 0s 562us/step - loss: 0.5582 - accuracy: 0.6766\n",
      "Epoch 8/150\n",
      "8/8 [==============================] - 0s 681us/step - loss: 0.5447 - accuracy: 0.6766\n",
      "Epoch 9/150\n",
      "8/8 [==============================] - 0s 627us/step - loss: 0.5311 - accuracy: 0.6766\n",
      "Epoch 10/150\n",
      "8/8 [==============================] - 0s 547us/step - loss: 0.5205 - accuracy: 0.6851\n",
      "Epoch 11/150\n",
      "8/8 [==============================] - 0s 821us/step - loss: 0.5091 - accuracy: 0.6894\n",
      "Epoch 12/150\n",
      "8/8 [==============================] - 0s 559us/step - loss: 0.4984 - accuracy: 0.6979\n",
      "Epoch 13/150\n",
      "8/8 [==============================] - 0s 596us/step - loss: 0.4874 - accuracy: 0.7277\n",
      "Epoch 14/150\n",
      "8/8 [==============================] - 0s 652us/step - loss: 0.4770 - accuracy: 0.7574\n",
      "Epoch 15/150\n",
      "8/8 [==============================] - 0s 545us/step - loss: 0.4653 - accuracy: 0.7702\n",
      "Epoch 16/150\n",
      "8/8 [==============================] - 0s 571us/step - loss: 0.4549 - accuracy: 0.7957\n",
      "Epoch 17/150\n",
      "8/8 [==============================] - 0s 622us/step - loss: 0.4445 - accuracy: 0.7957\n",
      "Epoch 18/150\n",
      "8/8 [==============================] - 0s 522us/step - loss: 0.4352 - accuracy: 0.8000\n",
      "Epoch 19/150\n",
      "8/8 [==============================] - 0s 574us/step - loss: 0.4245 - accuracy: 0.8170\n",
      "Epoch 20/150\n",
      "8/8 [==============================] - 0s 728us/step - loss: 0.4143 - accuracy: 0.8298\n",
      "Epoch 21/150\n",
      "8/8 [==============================] - 0s 535us/step - loss: 0.4038 - accuracy: 0.8298\n",
      "Epoch 22/150\n",
      "8/8 [==============================] - 0s 577us/step - loss: 0.3933 - accuracy: 0.8340\n",
      "Epoch 23/150\n",
      "8/8 [==============================] - 0s 789us/step - loss: 0.3829 - accuracy: 0.8426\n",
      "Epoch 24/150\n",
      "8/8 [==============================] - 0s 669us/step - loss: 0.3709 - accuracy: 0.8681\n",
      "Epoch 25/150\n",
      "8/8 [==============================] - 0s 571us/step - loss: 0.3602 - accuracy: 0.8681\n",
      "Epoch 26/150\n",
      "8/8 [==============================] - 0s 599us/step - loss: 0.3498 - accuracy: 0.8766\n",
      "Epoch 27/150\n",
      "8/8 [==============================] - 0s 524us/step - loss: 0.3382 - accuracy: 0.8979\n",
      "Epoch 28/150\n",
      "8/8 [==============================] - 0s 581us/step - loss: 0.3276 - accuracy: 0.9064\n",
      "Epoch 29/150\n",
      "8/8 [==============================] - 0s 583us/step - loss: 0.3163 - accuracy: 0.9064\n",
      "Epoch 30/150\n",
      "8/8 [==============================] - 0s 542us/step - loss: 0.3056 - accuracy: 0.9149\n",
      "Epoch 31/150\n",
      "8/8 [==============================] - 0s 556us/step - loss: 0.2948 - accuracy: 0.9319\n",
      "Epoch 32/150\n",
      "8/8 [==============================] - 0s 572us/step - loss: 0.2846 - accuracy: 0.9319\n",
      "Epoch 33/150\n",
      "8/8 [==============================] - 0s 549us/step - loss: 0.2736 - accuracy: 0.9362\n",
      "Epoch 34/150\n",
      "8/8 [==============================] - 0s 574us/step - loss: 0.2641 - accuracy: 0.9362\n",
      "Epoch 35/150\n",
      "8/8 [==============================] - 0s 755us/step - loss: 0.2541 - accuracy: 0.9362\n",
      "Epoch 36/150\n",
      "8/8 [==============================] - 0s 647us/step - loss: 0.2451 - accuracy: 0.9362\n",
      "Epoch 37/150\n",
      "8/8 [==============================] - 0s 508us/step - loss: 0.2360 - accuracy: 0.9489\n",
      "Epoch 38/150\n",
      "8/8 [==============================] - 0s 578us/step - loss: 0.2263 - accuracy: 0.9574\n",
      "Epoch 39/150\n",
      "8/8 [==============================] - 0s 766us/step - loss: 0.2184 - accuracy: 0.9574\n",
      "Epoch 40/150\n",
      "8/8 [==============================] - 0s 545us/step - loss: 0.2116 - accuracy: 0.9532\n",
      "Epoch 41/150\n",
      "8/8 [==============================] - 0s 573us/step - loss: 0.2036 - accuracy: 0.9574\n",
      "Epoch 42/150\n",
      "8/8 [==============================] - 0s 690us/step - loss: 0.1976 - accuracy: 0.9574\n",
      "Epoch 43/150\n",
      "8/8 [==============================] - 0s 507us/step - loss: 0.1897 - accuracy: 0.9617\n",
      "Epoch 44/150\n",
      "8/8 [==============================] - 0s 599us/step - loss: 0.1851 - accuracy: 0.9617\n",
      "Epoch 45/150\n",
      "8/8 [==============================] - 0s 632us/step - loss: 0.1785 - accuracy: 0.9617\n",
      "Epoch 46/150\n",
      "8/8 [==============================] - 0s 548us/step - loss: 0.1717 - accuracy: 0.9660\n",
      "Epoch 47/150\n",
      "8/8 [==============================] - 0s 535us/step - loss: 0.1694 - accuracy: 0.9660\n",
      "Epoch 48/150\n",
      "8/8 [==============================] - 0s 617us/step - loss: 0.1625 - accuracy: 0.9660\n",
      "Epoch 49/150\n",
      "8/8 [==============================] - 0s 546us/step - loss: 0.1566 - accuracy: 0.9660\n",
      "Epoch 50/150\n",
      "8/8 [==============================] - 0s 545us/step - loss: 0.1532 - accuracy: 0.9660\n",
      "Epoch 51/150\n",
      "8/8 [==============================] - 0s 668us/step - loss: 0.1491 - accuracy: 0.9660\n",
      "Epoch 52/150\n",
      "8/8 [==============================] - 0s 528us/step - loss: 0.1450 - accuracy: 0.9660\n",
      "Epoch 53/150\n",
      "8/8 [==============================] - 0s 549us/step - loss: 0.1402 - accuracy: 0.9660\n",
      "Epoch 54/150\n",
      "8/8 [==============================] - 0s 626us/step - loss: 0.1366 - accuracy: 0.9660\n",
      "Epoch 55/150\n",
      "8/8 [==============================] - 0s 497us/step - loss: 0.1330 - accuracy: 0.9660\n",
      "Epoch 56/150\n",
      "8/8 [==============================] - 0s 541us/step - loss: 0.1306 - accuracy: 0.9702\n",
      "Epoch 57/150\n",
      "8/8 [==============================] - 0s 596us/step - loss: 0.1271 - accuracy: 0.9745\n",
      "Epoch 58/150\n",
      "8/8 [==============================] - 0s 521us/step - loss: 0.1239 - accuracy: 0.9745\n",
      "Epoch 59/150\n",
      "8/8 [==============================] - 0s 552us/step - loss: 0.1215 - accuracy: 0.9660\n",
      "Epoch 60/150\n",
      "8/8 [==============================] - 0s 678us/step - loss: 0.1193 - accuracy: 0.9702\n",
      "Epoch 61/150\n",
      "8/8 [==============================] - 0s 501us/step - loss: 0.1178 - accuracy: 0.9745\n",
      "Epoch 62/150\n",
      "8/8 [==============================] - 0s 512us/step - loss: 0.1165 - accuracy: 0.9745\n",
      "Epoch 63/150\n",
      "8/8 [==============================] - 0s 579us/step - loss: 0.1118 - accuracy: 0.9745\n",
      "Epoch 64/150\n",
      "8/8 [==============================] - 0s 524us/step - loss: 0.1100 - accuracy: 0.9745\n",
      "Epoch 65/150\n",
      "8/8 [==============================] - 0s 515us/step - loss: 0.1085 - accuracy: 0.9745\n",
      "Epoch 66/150\n",
      "8/8 [==============================] - 0s 587us/step - loss: 0.1058 - accuracy: 0.9745\n",
      "Epoch 67/150\n",
      "8/8 [==============================] - 0s 527us/step - loss: 0.1044 - accuracy: 0.9745\n",
      "Epoch 68/150\n",
      "8/8 [==============================] - 0s 510us/step - loss: 0.1024 - accuracy: 0.9745\n",
      "Epoch 69/150\n",
      "8/8 [==============================] - 0s 521us/step - loss: 0.0999 - accuracy: 0.9745\n",
      "Epoch 70/150\n",
      "8/8 [==============================] - 0s 527us/step - loss: 0.0985 - accuracy: 0.9745\n",
      "Epoch 71/150\n",
      "8/8 [==============================] - 0s 514us/step - loss: 0.0985 - accuracy: 0.9745\n",
      "Epoch 72/150\n",
      "8/8 [==============================] - 0s 540us/step - loss: 0.0962 - accuracy: 0.9787\n",
      "Epoch 73/150\n",
      "8/8 [==============================] - 0s 587us/step - loss: 0.0950 - accuracy: 0.9787\n",
      "Epoch 74/150\n",
      "8/8 [==============================] - 0s 506us/step - loss: 0.0926 - accuracy: 0.9787\n",
      "Epoch 75/150\n",
      "8/8 [==============================] - 0s 496us/step - loss: 0.0904 - accuracy: 0.9787\n",
      "Epoch 76/150\n",
      "8/8 [==============================] - 0s 549us/step - loss: 0.0881 - accuracy: 0.9830\n",
      "Epoch 77/150\n",
      "8/8 [==============================] - 0s 513us/step - loss: 0.0874 - accuracy: 0.9830\n",
      "Epoch 78/150\n",
      "8/8 [==============================] - 0s 533us/step - loss: 0.0858 - accuracy: 0.9787\n",
      "Epoch 79/150\n",
      "8/8 [==============================] - 0s 551us/step - loss: 0.0846 - accuracy: 0.9830\n",
      "Epoch 80/150\n",
      "8/8 [==============================] - 0s 533us/step - loss: 0.0814 - accuracy: 0.9787\n",
      "Epoch 81/150\n",
      "8/8 [==============================] - 0s 508us/step - loss: 0.0797 - accuracy: 0.9787\n",
      "Epoch 82/150\n",
      "8/8 [==============================] - 0s 498us/step - loss: 0.0783 - accuracy: 0.9787\n",
      "Epoch 83/150\n"
     ]
    },
    {
     "name": "stdout",
     "output_type": "stream",
     "text": [
      "8/8 [==============================] - 0s 616us/step - loss: 0.0766 - accuracy: 0.9787\n",
      "Epoch 84/150\n",
      "8/8 [==============================] - 0s 524us/step - loss: 0.0752 - accuracy: 0.9787\n",
      "Epoch 85/150\n",
      "8/8 [==============================] - 0s 514us/step - loss: 0.0750 - accuracy: 0.9830\n",
      "Epoch 86/150\n",
      "8/8 [==============================] - 0s 567us/step - loss: 0.0700 - accuracy: 0.9830\n",
      "Epoch 87/150\n",
      "8/8 [==============================] - 0s 490us/step - loss: 0.0703 - accuracy: 0.9787\n",
      "Epoch 88/150\n",
      "8/8 [==============================] - 0s 526us/step - loss: 0.0684 - accuracy: 0.9830\n",
      "Epoch 89/150\n",
      "8/8 [==============================] - 0s 564us/step - loss: 0.0677 - accuracy: 0.9830\n",
      "Epoch 90/150\n",
      "8/8 [==============================] - 0s 510us/step - loss: 0.0659 - accuracy: 0.9830\n",
      "Epoch 91/150\n",
      "8/8 [==============================] - 0s 496us/step - loss: 0.0636 - accuracy: 0.9787\n",
      "Epoch 92/150\n",
      "8/8 [==============================] - 0s 505us/step - loss: 0.0624 - accuracy: 0.9787\n",
      "Epoch 93/150\n",
      "8/8 [==============================] - 0s 625us/step - loss: 0.0607 - accuracy: 0.9830\n",
      "Epoch 94/150\n",
      "8/8 [==============================] - 0s 565us/step - loss: 0.0611 - accuracy: 0.9787\n",
      "Epoch 95/150\n",
      "8/8 [==============================] - 0s 511us/step - loss: 0.0575 - accuracy: 0.9787\n",
      "Epoch 96/150\n",
      "8/8 [==============================] - 0s 578us/step - loss: 0.0600 - accuracy: 0.9830\n",
      "Epoch 97/150\n",
      "8/8 [==============================] - 0s 502us/step - loss: 0.0564 - accuracy: 0.9830\n",
      "Epoch 98/150\n",
      "8/8 [==============================] - 0s 503us/step - loss: 0.0546 - accuracy: 0.9872\n",
      "Epoch 99/150\n",
      "8/8 [==============================] - 0s 593us/step - loss: 0.0597 - accuracy: 0.9872\n",
      "Epoch 100/150\n",
      "8/8 [==============================] - 0s 519us/step - loss: 0.0513 - accuracy: 0.9830\n",
      "Epoch 101/150\n",
      "8/8 [==============================] - 0s 539us/step - loss: 0.0541 - accuracy: 0.9830\n",
      "Epoch 102/150\n",
      "8/8 [==============================] - 0s 540us/step - loss: 0.0520 - accuracy: 0.9830\n",
      "Epoch 103/150\n",
      "8/8 [==============================] - 0s 520us/step - loss: 0.0502 - accuracy: 0.9830\n",
      "Epoch 104/150\n",
      "8/8 [==============================] - 0s 499us/step - loss: 0.0504 - accuracy: 0.9872\n",
      "Epoch 105/150\n",
      "8/8 [==============================] - 0s 500us/step - loss: 0.0497 - accuracy: 0.9872\n",
      "Epoch 106/150\n",
      "8/8 [==============================] - 0s 590us/step - loss: 0.0494 - accuracy: 0.9915\n",
      "Epoch 107/150\n",
      "8/8 [==============================] - 0s 516us/step - loss: 0.0478 - accuracy: 0.9872\n",
      "Epoch 108/150\n",
      "8/8 [==============================] - 0s 511us/step - loss: 0.0466 - accuracy: 0.9872\n",
      "Epoch 109/150\n",
      "8/8 [==============================] - 0s 584us/step - loss: 0.0471 - accuracy: 0.9830\n",
      "Epoch 110/150\n",
      "8/8 [==============================] - 0s 519us/step - loss: 0.0475 - accuracy: 0.9830\n",
      "Epoch 111/150\n",
      "8/8 [==============================] - 0s 525us/step - loss: 0.0443 - accuracy: 0.9915\n",
      "Epoch 112/150\n",
      "8/8 [==============================] - 0s 494us/step - loss: 0.0439 - accuracy: 0.9872\n",
      "Epoch 113/150\n",
      "8/8 [==============================] - 0s 511us/step - loss: 0.0438 - accuracy: 0.9915\n",
      "Epoch 114/150\n",
      "8/8 [==============================] - 0s 517us/step - loss: 0.0442 - accuracy: 0.9957\n",
      "Epoch 115/150\n",
      "8/8 [==============================] - 0s 512us/step - loss: 0.0437 - accuracy: 0.9872\n",
      "Epoch 116/150\n",
      "8/8 [==============================] - 0s 556us/step - loss: 0.0425 - accuracy: 0.9872\n",
      "Epoch 117/150\n",
      "8/8 [==============================] - 0s 503us/step - loss: 0.0425 - accuracy: 0.9915\n",
      "Epoch 118/150\n",
      "8/8 [==============================] - 0s 523us/step - loss: 0.0402 - accuracy: 0.9957\n",
      "Epoch 119/150\n",
      "8/8 [==============================] - 0s 621us/step - loss: 0.0401 - accuracy: 0.9957\n",
      "Epoch 120/150\n",
      "8/8 [==============================] - 0s 496us/step - loss: 0.0384 - accuracy: 0.9915\n",
      "Epoch 121/150\n",
      "8/8 [==============================] - 0s 534us/step - loss: 0.0387 - accuracy: 0.9915\n",
      "Epoch 122/150\n",
      "8/8 [==============================] - 0s 573us/step - loss: 0.0382 - accuracy: 0.9957\n",
      "Epoch 123/150\n",
      "8/8 [==============================] - 0s 502us/step - loss: 0.0376 - accuracy: 0.9957\n",
      "Epoch 124/150\n",
      "8/8 [==============================] - 0s 518us/step - loss: 0.0367 - accuracy: 0.9957\n",
      "Epoch 125/150\n",
      "8/8 [==============================] - 0s 520us/step - loss: 0.0370 - accuracy: 0.9957\n",
      "Epoch 126/150\n",
      "8/8 [==============================] - 0s 639us/step - loss: 0.0357 - accuracy: 0.9957\n",
      "Epoch 127/150\n",
      "8/8 [==============================] - 0s 515us/step - loss: 0.0354 - accuracy: 0.9957\n",
      "Epoch 128/150\n",
      "8/8 [==============================] - 0s 515us/step - loss: 0.0351 - accuracy: 0.9957\n",
      "Epoch 129/150\n",
      "8/8 [==============================] - 0s 580us/step - loss: 0.0343 - accuracy: 0.9957\n",
      "Epoch 130/150\n",
      "8/8 [==============================] - 0s 506us/step - loss: 0.0343 - accuracy: 0.9957\n",
      "Epoch 131/150\n",
      "8/8 [==============================] - 0s 508us/step - loss: 0.0342 - accuracy: 0.9957\n",
      "Epoch 132/150\n",
      "8/8 [==============================] - 0s 581us/step - loss: 0.0331 - accuracy: 0.9957\n",
      "Epoch 133/150\n",
      "8/8 [==============================] - 0s 537us/step - loss: 0.0329 - accuracy: 0.9957\n",
      "Epoch 134/150\n",
      "8/8 [==============================] - 0s 503us/step - loss: 0.0334 - accuracy: 0.9957\n",
      "Epoch 135/150\n",
      "8/8 [==============================] - 0s 511us/step - loss: 0.0324 - accuracy: 0.9957\n",
      "Epoch 136/150\n",
      "8/8 [==============================] - 0s 600us/step - loss: 0.0310 - accuracy: 0.9957\n",
      "Epoch 137/150\n",
      "8/8 [==============================] - 0s 512us/step - loss: 0.0319 - accuracy: 0.9957\n",
      "Epoch 138/150\n",
      "8/8 [==============================] - 0s 517us/step - loss: 0.0309 - accuracy: 0.9957\n",
      "Epoch 139/150\n",
      "8/8 [==============================] - 0s 577us/step - loss: 0.0311 - accuracy: 0.9957\n",
      "Epoch 140/150\n",
      "8/8 [==============================] - 0s 514us/step - loss: 0.0302 - accuracy: 0.9957\n",
      "Epoch 141/150\n",
      "8/8 [==============================] - 0s 510us/step - loss: 0.0296 - accuracy: 0.9957\n",
      "Epoch 142/150\n",
      "8/8 [==============================] - 0s 570us/step - loss: 0.0296 - accuracy: 0.9957\n",
      "Epoch 143/150\n",
      "8/8 [==============================] - 0s 593us/step - loss: 0.0290 - accuracy: 0.9957\n",
      "Epoch 144/150\n",
      "8/8 [==============================] - 0s 515us/step - loss: 0.0287 - accuracy: 0.9957\n",
      "Epoch 145/150\n",
      "8/8 [==============================] - 0s 516us/step - loss: 0.0284 - accuracy: 0.9957\n",
      "Epoch 146/150\n",
      "8/8 [==============================] - 0s 841us/step - loss: 0.0285 - accuracy: 0.9957\n",
      "Epoch 147/150\n",
      "8/8 [==============================] - 0s 607us/step - loss: 0.0288 - accuracy: 0.9957\n",
      "Epoch 148/150\n",
      "8/8 [==============================] - 0s 539us/step - loss: 0.0313 - accuracy: 0.9957\n",
      "Epoch 149/150\n",
      "8/8 [==============================] - 0s 524us/step - loss: 0.0302 - accuracy: 0.9957\n",
      "Epoch 150/150\n",
      "8/8 [==============================] - 0s 546us/step - loss: 0.0272 - accuracy: 0.9957\n"
     ]
    }
   ],
   "source": [
    "history2 = model.fit(X_train, y_train, epochs=150, batch_size=32, verbose=1)"
   ]
  },
  {
   "cell_type": "code",
   "execution_count": 26,
   "metadata": {},
   "outputs": [
    {
     "name": "stdout",
     "output_type": "stream",
     "text": [
      "4/4 [==============================] - 0s 684us/step - loss: 0.5629 - accuracy: 0.8621\n",
      "Test Accuracy: 0.862\n"
     ]
    }
   ],
   "source": [
    "loss, acc = model.evaluate(X_test, y_test, verbose=1)\n",
    "print('Test Accuracy: %.3f' % acc)"
   ]
  },
  {
   "cell_type": "code",
   "execution_count": null,
   "metadata": {},
   "outputs": [],
   "source": []
  },
  {
   "cell_type": "markdown",
   "metadata": {},
   "source": [
    "### Important: Document in your lab logbook the accuracy of the improved model. Do not include any code or explanations in your lab logbook. Simply record the accuracy. For example, if the obtained accuracy is 0.98, then enter \"0.98\" in your lab logbook.\n",
    "### In addition to the accuracy, also document the output of the neural network as provided in Task 2."
   ]
  },
  {
   "cell_type": "markdown",
   "metadata": {
    "id": "ZFNL8fY2rd41"
   },
   "source": [
    "Next, we have provided the code to predict on an unknown value.\n",
    "We will cover these concepts later in the class. For now, just run the code to see the prediction."
   ]
  },
  {
   "cell_type": "code",
   "execution_count": 27,
   "metadata": {},
   "outputs": [
    {
     "name": "stdout",
     "output_type": "stream",
     "text": [
      "1/1 [==============================] - 0s 44ms/step\n",
      "Predicted: 0.999\n"
     ]
    }
   ],
   "source": [
    "row = [1,0,0.99539,-0.05889,0.85243,0.02306,\n",
    "       0.83398,-0.37708,1,0.03760,0.85243,-0.17755,\n",
    "       0.59755,-0.44945,0.60536,-0.38223,0.84356,\n",
    "       -0.38542,0.58212,-0.32192,0.56971,-0.29674,0.36946,\n",
    "       -0.47357,0.56811,-0.51171,0.41078,-0.46168,0.21266,\n",
    "       -0.34090,0.42267,-0.54487,0.18641,-0.45300]\n",
    "yhat = model.predict([row])\n",
    "print('Predicted: %.3f' % yhat)"
   ]
  },
  {
   "cell_type": "code",
   "execution_count": null,
   "metadata": {},
   "outputs": [],
   "source": []
  },
  {
   "cell_type": "markdown",
   "metadata": {},
   "source": [
    "## One more model"
   ]
  },
  {
   "cell_type": "code",
   "execution_count": 28,
   "metadata": {},
   "outputs": [],
   "source": [
    "# More info regarding \n",
    "# tensorflow.keras.initializers.he_normal()\n",
    "\n",
    "#  https://keras.io/api/layers/initializers/\n",
    "#  https://www.tensorflow.org/api_docs/python/tf/keras/initializers/HeNormal"
   ]
  },
  {
   "cell_type": "code",
   "execution_count": 29,
   "metadata": {},
   "outputs": [],
   "source": [
    "model_2 = Sequential()\n",
    "model_2.add(Dense(17, activation='relu', input_shape=(n_features,), kernel_initializer=\"he_normal\"))\n",
    "model_2.add(Dense(10, activation='relu', kernel_initializer=\"he_normal\"))\n",
    "model_2.add(Dense(8, activation='relu', kernel_initializer=\"he_normal\"))\n",
    "model_2.add(Dense(1, activation='sigmoid'))"
   ]
  },
  {
   "cell_type": "code",
   "execution_count": 30,
   "metadata": {},
   "outputs": [
    {
     "name": "stdout",
     "output_type": "stream",
     "text": [
      "Model: \"sequential_2\"\n",
      "_________________________________________________________________\n",
      " Layer (type)                Output Shape              Param #   \n",
      "=================================================================\n",
      " dense_7 (Dense)             (None, 17)                595       \n",
      "                                                                 \n",
      " dense_8 (Dense)             (None, 10)                180       \n",
      "                                                                 \n",
      " dense_9 (Dense)             (None, 8)                 88        \n",
      "                                                                 \n",
      " dense_10 (Dense)            (None, 1)                 9         \n",
      "                                                                 \n",
      "=================================================================\n",
      "Total params: 872\n",
      "Trainable params: 872\n",
      "Non-trainable params: 0\n",
      "_________________________________________________________________\n",
      "None\n"
     ]
    }
   ],
   "source": [
    "print(model_2.summary())"
   ]
  },
  {
   "cell_type": "code",
   "execution_count": 31,
   "metadata": {},
   "outputs": [],
   "source": [
    "model_2.compile(optimizer='adam', loss='binary_crossentropy', metrics=['accuracy'])"
   ]
  },
  {
   "cell_type": "code",
   "execution_count": 32,
   "metadata": {},
   "outputs": [
    {
     "name": "stdout",
     "output_type": "stream",
     "text": [
      "Epoch 1/150\n",
      "8/8 [==============================] - 0s 620us/step - loss: 0.7425 - accuracy: 0.4128\n",
      "Epoch 2/150\n",
      "8/8 [==============================] - 0s 517us/step - loss: 0.7216 - accuracy: 0.6681\n",
      "Epoch 3/150\n",
      "8/8 [==============================] - 0s 589us/step - loss: 0.7059 - accuracy: 0.6638\n",
      "Epoch 4/150\n",
      "8/8 [==============================] - 0s 656us/step - loss: 0.6862 - accuracy: 0.6723\n",
      "Epoch 5/150\n",
      "8/8 [==============================] - 0s 621us/step - loss: 0.6610 - accuracy: 0.6723\n",
      "Epoch 6/150\n",
      "8/8 [==============================] - 0s 534us/step - loss: 0.6361 - accuracy: 0.6851\n",
      "Epoch 7/150\n",
      "8/8 [==============================] - 0s 917us/step - loss: 0.6149 - accuracy: 0.6894\n",
      "Epoch 8/150\n",
      "8/8 [==============================] - 0s 619us/step - loss: 0.5939 - accuracy: 0.6979\n",
      "Epoch 9/150\n",
      "8/8 [==============================] - 0s 569us/step - loss: 0.5736 - accuracy: 0.6979\n",
      "Epoch 10/150\n",
      "8/8 [==============================] - 0s 617us/step - loss: 0.5548 - accuracy: 0.7106\n",
      "Epoch 11/150\n",
      "8/8 [==============================] - 0s 514us/step - loss: 0.5375 - accuracy: 0.7319\n",
      "Epoch 12/150\n",
      "8/8 [==============================] - 0s 574us/step - loss: 0.5215 - accuracy: 0.7362\n",
      "Epoch 13/150\n",
      "8/8 [==============================] - 0s 631us/step - loss: 0.5061 - accuracy: 0.7660\n",
      "Epoch 14/150\n",
      "8/8 [==============================] - 0s 512us/step - loss: 0.4909 - accuracy: 0.7745\n",
      "Epoch 15/150\n",
      "8/8 [==============================] - 0s 598us/step - loss: 0.4759 - accuracy: 0.7830\n",
      "Epoch 16/150\n",
      "8/8 [==============================] - 0s 598us/step - loss: 0.4616 - accuracy: 0.7915\n",
      "Epoch 17/150\n",
      "8/8 [==============================] - 0s 521us/step - loss: 0.4454 - accuracy: 0.8043\n",
      "Epoch 18/150\n",
      "8/8 [==============================] - 0s 726us/step - loss: 0.4296 - accuracy: 0.8340\n",
      "Epoch 19/150\n",
      "8/8 [==============================] - 0s 560us/step - loss: 0.4121 - accuracy: 0.8468\n",
      "Epoch 20/150\n",
      "8/8 [==============================] - 0s 556us/step - loss: 0.3935 - accuracy: 0.8681\n",
      "Epoch 21/150\n",
      "8/8 [==============================] - 0s 627us/step - loss: 0.3737 - accuracy: 0.8723\n",
      "Epoch 22/150\n",
      "8/8 [==============================] - 0s 552us/step - loss: 0.3540 - accuracy: 0.8809\n",
      "Epoch 23/150\n",
      "8/8 [==============================] - 0s 541us/step - loss: 0.3336 - accuracy: 0.8936\n",
      "Epoch 24/150\n",
      "8/8 [==============================] - 0s 580us/step - loss: 0.3157 - accuracy: 0.9191\n",
      "Epoch 25/150\n",
      "8/8 [==============================] - 0s 531us/step - loss: 0.2960 - accuracy: 0.9234\n",
      "Epoch 26/150\n",
      "8/8 [==============================] - 0s 530us/step - loss: 0.2778 - accuracy: 0.9319\n",
      "Epoch 27/150\n",
      "8/8 [==============================] - 0s 592us/step - loss: 0.2600 - accuracy: 0.9447\n",
      "Epoch 28/150\n",
      "8/8 [==============================] - 0s 634us/step - loss: 0.2450 - accuracy: 0.9532\n",
      "Epoch 29/150\n",
      "8/8 [==============================] - 0s 549us/step - loss: 0.2295 - accuracy: 0.9489\n",
      "Epoch 30/150\n",
      "8/8 [==============================] - 0s 667us/step - loss: 0.2140 - accuracy: 0.9617\n",
      "Epoch 31/150\n",
      "8/8 [==============================] - 0s 563us/step - loss: 0.1989 - accuracy: 0.9660\n",
      "Epoch 32/150\n",
      "8/8 [==============================] - 0s 529us/step - loss: 0.1850 - accuracy: 0.9660\n",
      "Epoch 33/150\n",
      "8/8 [==============================] - 0s 631us/step - loss: 0.1712 - accuracy: 0.9660\n",
      "Epoch 34/150\n",
      "8/8 [==============================] - 0s 535us/step - loss: 0.1593 - accuracy: 0.9660\n",
      "Epoch 35/150\n",
      "8/8 [==============================] - 0s 545us/step - loss: 0.1492 - accuracy: 0.9660\n",
      "Epoch 36/150\n",
      "8/8 [==============================] - 0s 819us/step - loss: 0.1398 - accuracy: 0.9702\n",
      "Epoch 37/150\n",
      "8/8 [==============================] - 0s 550us/step - loss: 0.1313 - accuracy: 0.9702\n",
      "Epoch 38/150\n",
      "8/8 [==============================] - 0s 573us/step - loss: 0.1246 - accuracy: 0.9702\n",
      "Epoch 39/150\n",
      "8/8 [==============================] - 0s 875us/step - loss: 0.1174 - accuracy: 0.9702\n",
      "Epoch 40/150\n",
      "8/8 [==============================] - 0s 553us/step - loss: 0.1105 - accuracy: 0.9702\n",
      "Epoch 41/150\n",
      "8/8 [==============================] - 0s 587us/step - loss: 0.1049 - accuracy: 0.9702\n",
      "Epoch 42/150\n",
      "8/8 [==============================] - 0s 607us/step - loss: 0.1011 - accuracy: 0.9702\n",
      "Epoch 43/150\n",
      "8/8 [==============================] - 0s 543us/step - loss: 0.0953 - accuracy: 0.9702\n",
      "Epoch 44/150\n",
      "8/8 [==============================] - 0s 610us/step - loss: 0.0912 - accuracy: 0.9745\n",
      "Epoch 45/150\n",
      "8/8 [==============================] - 0s 575us/step - loss: 0.0876 - accuracy: 0.9745\n",
      "Epoch 46/150\n",
      "8/8 [==============================] - 0s 540us/step - loss: 0.0839 - accuracy: 0.9745\n",
      "Epoch 47/150\n",
      "8/8 [==============================] - 0s 609us/step - loss: 0.0829 - accuracy: 0.9745\n",
      "Epoch 48/150\n",
      "8/8 [==============================] - 0s 555us/step - loss: 0.0792 - accuracy: 0.9745\n",
      "Epoch 49/150\n",
      "8/8 [==============================] - 0s 538us/step - loss: 0.0751 - accuracy: 0.9787\n",
      "Epoch 50/150\n",
      "8/8 [==============================] - 0s 600us/step - loss: 0.0723 - accuracy: 0.9787\n",
      "Epoch 51/150\n",
      "8/8 [==============================] - 0s 547us/step - loss: 0.0704 - accuracy: 0.9830\n",
      "Epoch 52/150\n",
      "8/8 [==============================] - 0s 2ms/step - loss: 0.0678 - accuracy: 0.9830\n",
      "Epoch 53/150\n",
      "8/8 [==============================] - 0s 577us/step - loss: 0.0656 - accuracy: 0.9830\n",
      "Epoch 54/150\n",
      "8/8 [==============================] - 0s 617us/step - loss: 0.0639 - accuracy: 0.9830\n",
      "Epoch 55/150\n",
      "8/8 [==============================] - 0s 587us/step - loss: 0.0615 - accuracy: 0.9830\n",
      "Epoch 56/150\n",
      "8/8 [==============================] - 0s 568us/step - loss: 0.0597 - accuracy: 0.9830\n",
      "Epoch 57/150\n",
      "8/8 [==============================] - 0s 762us/step - loss: 0.0580 - accuracy: 0.9872\n",
      "Epoch 58/150\n",
      "8/8 [==============================] - 0s 534us/step - loss: 0.0559 - accuracy: 0.9872\n",
      "Epoch 59/150\n",
      "8/8 [==============================] - 0s 540us/step - loss: 0.0549 - accuracy: 0.9872\n",
      "Epoch 60/150\n",
      "8/8 [==============================] - 0s 625us/step - loss: 0.0530 - accuracy: 0.9872\n",
      "Epoch 61/150\n",
      "8/8 [==============================] - 0s 531us/step - loss: 0.0512 - accuracy: 0.9872\n",
      "Epoch 62/150\n",
      "8/8 [==============================] - 0s 531us/step - loss: 0.0499 - accuracy: 0.9872\n",
      "Epoch 63/150\n",
      "8/8 [==============================] - 0s 694us/step - loss: 0.0499 - accuracy: 0.9872\n",
      "Epoch 64/150\n",
      "8/8 [==============================] - 0s 527us/step - loss: 0.0484 - accuracy: 0.9872\n",
      "Epoch 65/150\n",
      "8/8 [==============================] - 0s 522us/step - loss: 0.0470 - accuracy: 0.9872\n",
      "Epoch 66/150\n",
      "8/8 [==============================] - 0s 614us/step - loss: 0.0451 - accuracy: 0.9872\n",
      "Epoch 67/150\n",
      "8/8 [==============================] - 0s 518us/step - loss: 0.0442 - accuracy: 0.9872\n",
      "Epoch 68/150\n",
      "8/8 [==============================] - 0s 543us/step - loss: 0.0428 - accuracy: 0.9872\n",
      "Epoch 69/150\n",
      "8/8 [==============================] - 0s 601us/step - loss: 0.0421 - accuracy: 0.9872\n",
      "Epoch 70/150\n",
      "8/8 [==============================] - 0s 511us/step - loss: 0.0410 - accuracy: 0.9872\n",
      "Epoch 71/150\n",
      "8/8 [==============================] - 0s 531us/step - loss: 0.0401 - accuracy: 0.9872\n",
      "Epoch 72/150\n",
      "8/8 [==============================] - 0s 649us/step - loss: 0.0394 - accuracy: 0.9872\n",
      "Epoch 73/150\n",
      "8/8 [==============================] - 0s 510us/step - loss: 0.0384 - accuracy: 0.9915\n",
      "Epoch 74/150\n",
      "8/8 [==============================] - 0s 535us/step - loss: 0.0378 - accuracy: 0.9915\n",
      "Epoch 75/150\n",
      "8/8 [==============================] - 0s 638us/step - loss: 0.0368 - accuracy: 0.9915\n",
      "Epoch 76/150\n",
      "8/8 [==============================] - 0s 535us/step - loss: 0.0365 - accuracy: 0.9915\n",
      "Epoch 77/150\n",
      "8/8 [==============================] - 0s 498us/step - loss: 0.0357 - accuracy: 0.9957\n",
      "Epoch 78/150\n",
      "8/8 [==============================] - 0s 514us/step - loss: 0.0352 - accuracy: 0.9957\n",
      "Epoch 79/150\n",
      "8/8 [==============================] - 0s 581us/step - loss: 0.0345 - accuracy: 0.9957\n",
      "Epoch 80/150\n",
      "8/8 [==============================] - 0s 497us/step - loss: 0.0332 - accuracy: 0.9957\n",
      "Epoch 81/150\n",
      "8/8 [==============================] - 0s 537us/step - loss: 0.0324 - accuracy: 0.9957\n",
      "Epoch 82/150\n",
      "8/8 [==============================] - 0s 711us/step - loss: 0.0336 - accuracy: 0.9957\n",
      "Epoch 83/150\n"
     ]
    },
    {
     "name": "stdout",
     "output_type": "stream",
     "text": [
      "8/8 [==============================] - 0s 573us/step - loss: 0.0328 - accuracy: 0.9957\n",
      "Epoch 84/150\n",
      "8/8 [==============================] - 0s 565us/step - loss: 0.0297 - accuracy: 0.9957\n",
      "Epoch 85/150\n",
      "8/8 [==============================] - 0s 550us/step - loss: 0.0311 - accuracy: 0.9957\n",
      "Epoch 86/150\n",
      "8/8 [==============================] - 0s 570us/step - loss: 0.0295 - accuracy: 0.9957\n",
      "Epoch 87/150\n",
      "8/8 [==============================] - 0s 615us/step - loss: 0.0285 - accuracy: 0.9957\n",
      "Epoch 88/150\n",
      "8/8 [==============================] - 0s 536us/step - loss: 0.0283 - accuracy: 0.9957\n",
      "Epoch 89/150\n",
      "8/8 [==============================] - 0s 697us/step - loss: 0.0282 - accuracy: 0.9957\n",
      "Epoch 90/150\n",
      "8/8 [==============================] - 0s 600us/step - loss: 0.0265 - accuracy: 0.9957\n",
      "Epoch 91/150\n",
      "8/8 [==============================] - 0s 537us/step - loss: 0.0275 - accuracy: 0.9957\n",
      "Epoch 92/150\n",
      "8/8 [==============================] - 0s 530us/step - loss: 0.0263 - accuracy: 0.9957\n",
      "Epoch 93/150\n",
      "8/8 [==============================] - 0s 593us/step - loss: 0.0257 - accuracy: 0.9957\n",
      "Epoch 94/150\n",
      "8/8 [==============================] - 0s 547us/step - loss: 0.0253 - accuracy: 0.9957\n",
      "Epoch 95/150\n",
      "8/8 [==============================] - 0s 522us/step - loss: 0.0247 - accuracy: 0.9957\n",
      "Epoch 96/150\n",
      "8/8 [==============================] - 0s 659us/step - loss: 0.0240 - accuracy: 0.9957\n",
      "Epoch 97/150\n",
      "8/8 [==============================] - 0s 536us/step - loss: 0.0241 - accuracy: 0.9957\n",
      "Epoch 98/150\n",
      "8/8 [==============================] - 0s 487us/step - loss: 0.0227 - accuracy: 0.9957\n",
      "Epoch 99/150\n",
      "8/8 [==============================] - 0s 570us/step - loss: 0.0252 - accuracy: 0.9957\n",
      "Epoch 100/150\n",
      "8/8 [==============================] - 0s 547us/step - loss: 0.0230 - accuracy: 0.9957\n",
      "Epoch 101/150\n",
      "8/8 [==============================] - 0s 498us/step - loss: 0.0230 - accuracy: 0.9957\n",
      "Epoch 102/150\n",
      "8/8 [==============================] - 0s 549us/step - loss: 0.0219 - accuracy: 0.9957\n",
      "Epoch 103/150\n",
      "8/8 [==============================] - 0s 563us/step - loss: 0.0211 - accuracy: 0.9957\n",
      "Epoch 104/150\n",
      "8/8 [==============================] - 0s 512us/step - loss: 0.0210 - accuracy: 0.9957\n",
      "Epoch 105/150\n",
      "8/8 [==============================] - 0s 542us/step - loss: 0.0206 - accuracy: 0.9957\n",
      "Epoch 106/150\n",
      "8/8 [==============================] - 0s 520us/step - loss: 0.0208 - accuracy: 0.9957\n",
      "Epoch 107/150\n",
      "8/8 [==============================] - 0s 501us/step - loss: 0.0196 - accuracy: 0.9957\n",
      "Epoch 108/150\n",
      "8/8 [==============================] - 0s 528us/step - loss: 0.0193 - accuracy: 0.9957\n",
      "Epoch 109/150\n",
      "8/8 [==============================] - 0s 576us/step - loss: 0.0216 - accuracy: 0.9957\n",
      "Epoch 110/150\n",
      "8/8 [==============================] - 0s 514us/step - loss: 0.0205 - accuracy: 0.9957\n",
      "Epoch 111/150\n",
      "8/8 [==============================] - 0s 521us/step - loss: 0.0191 - accuracy: 0.9957\n",
      "Epoch 112/150\n",
      "8/8 [==============================] - 0s 600us/step - loss: 0.0186 - accuracy: 0.9957\n",
      "Epoch 113/150\n",
      "8/8 [==============================] - 0s 512us/step - loss: 0.0181 - accuracy: 0.9957\n",
      "Epoch 114/150\n",
      "8/8 [==============================] - 0s 515us/step - loss: 0.0177 - accuracy: 0.9957\n",
      "Epoch 115/150\n",
      "8/8 [==============================] - 0s 535us/step - loss: 0.0176 - accuracy: 0.9957\n",
      "Epoch 116/150\n",
      "8/8 [==============================] - 0s 535us/step - loss: 0.0173 - accuracy: 0.9957\n",
      "Epoch 117/150\n",
      "8/8 [==============================] - 0s 487us/step - loss: 0.0171 - accuracy: 0.9957\n",
      "Epoch 118/150\n",
      "8/8 [==============================] - 0s 547us/step - loss: 0.0172 - accuracy: 0.9957\n",
      "Epoch 119/150\n",
      "8/8 [==============================] - 0s 606us/step - loss: 0.0177 - accuracy: 0.9957\n",
      "Epoch 120/150\n",
      "8/8 [==============================] - 0s 508us/step - loss: 0.0172 - accuracy: 0.9957\n",
      "Epoch 121/150\n",
      "8/8 [==============================] - 0s 538us/step - loss: 0.0168 - accuracy: 0.9957\n",
      "Epoch 122/150\n",
      "8/8 [==============================] - 0s 762us/step - loss: 0.0163 - accuracy: 0.9957\n",
      "Epoch 123/150\n",
      "8/8 [==============================] - 0s 560us/step - loss: 0.0159 - accuracy: 0.9957\n",
      "Epoch 124/150\n",
      "8/8 [==============================] - 0s 561us/step - loss: 0.0156 - accuracy: 0.9957\n",
      "Epoch 125/150\n",
      "8/8 [==============================] - 0s 681us/step - loss: 0.0151 - accuracy: 0.9957\n",
      "Epoch 126/150\n",
      "8/8 [==============================] - 0s 547us/step - loss: 0.0153 - accuracy: 0.9957\n",
      "Epoch 127/150\n",
      "8/8 [==============================] - 0s 540us/step - loss: 0.0154 - accuracy: 0.9957\n",
      "Epoch 128/150\n",
      "8/8 [==============================] - 0s 523us/step - loss: 0.0148 - accuracy: 0.9957\n",
      "Epoch 129/150\n",
      "8/8 [==============================] - 0s 508us/step - loss: 0.0145 - accuracy: 0.9957\n",
      "Epoch 130/150\n",
      "8/8 [==============================] - 0s 560us/step - loss: 0.0146 - accuracy: 0.9957\n",
      "Epoch 131/150\n",
      "8/8 [==============================] - 0s 543us/step - loss: 0.0145 - accuracy: 0.9957\n",
      "Epoch 132/150\n",
      "8/8 [==============================] - 0s 505us/step - loss: 0.0144 - accuracy: 0.9957\n",
      "Epoch 133/150\n",
      "8/8 [==============================] - 0s 530us/step - loss: 0.0143 - accuracy: 0.9957\n",
      "Epoch 134/150\n",
      "8/8 [==============================] - 0s 567us/step - loss: 0.0139 - accuracy: 0.9957\n",
      "Epoch 135/150\n",
      "8/8 [==============================] - 0s 518us/step - loss: 0.0134 - accuracy: 0.9957\n",
      "Epoch 136/150\n",
      "8/8 [==============================] - 0s 539us/step - loss: 0.0135 - accuracy: 0.9957\n",
      "Epoch 137/150\n",
      "8/8 [==============================] - 0s 585us/step - loss: 0.0133 - accuracy: 0.9957\n",
      "Epoch 138/150\n",
      "8/8 [==============================] - 0s 532us/step - loss: 0.0131 - accuracy: 0.9957\n",
      "Epoch 139/150\n",
      "8/8 [==============================] - 0s 513us/step - loss: 0.0130 - accuracy: 0.9957\n",
      "Epoch 140/150\n",
      "8/8 [==============================] - 0s 611us/step - loss: 0.0131 - accuracy: 0.9957\n",
      "Epoch 141/150\n",
      "8/8 [==============================] - 0s 506us/step - loss: 0.0126 - accuracy: 0.9957\n",
      "Epoch 142/150\n",
      "8/8 [==============================] - 0s 518us/step - loss: 0.0128 - accuracy: 0.9957\n",
      "Epoch 143/150\n",
      "8/8 [==============================] - 0s 557us/step - loss: 0.0124 - accuracy: 0.9957\n",
      "Epoch 144/150\n",
      "8/8 [==============================] - 0s 517us/step - loss: 0.0121 - accuracy: 0.9957\n",
      "Epoch 145/150\n",
      "8/8 [==============================] - 0s 529us/step - loss: 0.0121 - accuracy: 0.9957\n",
      "Epoch 146/150\n",
      "8/8 [==============================] - 0s 515us/step - loss: 0.0118 - accuracy: 0.9957\n",
      "Epoch 147/150\n",
      "8/8 [==============================] - 0s 571us/step - loss: 0.0121 - accuracy: 0.9957\n",
      "Epoch 148/150\n",
      "8/8 [==============================] - 0s 525us/step - loss: 0.0117 - accuracy: 0.9957\n",
      "Epoch 149/150\n",
      "8/8 [==============================] - 0s 531us/step - loss: 0.0118 - accuracy: 0.9957\n",
      "Epoch 150/150\n",
      "8/8 [==============================] - 0s 729us/step - loss: 0.0116 - accuracy: 0.9957\n"
     ]
    }
   ],
   "source": [
    "history_3 = model_2.fit(X_train, y_train, epochs=150, batch_size=32, verbose=1)"
   ]
  },
  {
   "cell_type": "code",
   "execution_count": 33,
   "metadata": {},
   "outputs": [
    {
     "name": "stdout",
     "output_type": "stream",
     "text": [
      "4/4 [==============================] - 0s 756us/step - loss: 0.3353 - accuracy: 0.9052\n",
      "Test Accuracy: 0.905\n"
     ]
    }
   ],
   "source": [
    "loss, acc = model_2.evaluate(X_test, y_test, verbose=1)\n",
    "print('Test Accuracy: %.3f' % acc)"
   ]
  },
  {
   "cell_type": "code",
   "execution_count": 34,
   "metadata": {},
   "outputs": [
    {
     "data": {
      "image/png": "[encoded data removed]",
      "text/plain": [
       "<Figure size 1500x700 with 1 Axes>"
      ]
     },
     "metadata": {},
     "output_type": "display_data"
    }
   ],
   "source": [
    "history_dict = history_3.history\n",
    "Accuracy = history_dict['accuracy']\n",
    "plt.figure(num=1, figsize=(15,7))\n",
    "plt.plot(Accuracy, 'bo', label='Training accuracy')\n",
    "plt.xlabel('Epochs')\n",
    "plt.ylabel('Accuracy')\n",
    "plt.legend()\n",
    "plt.show()"
   ]
  },
  {
   "cell_type": "code",
   "execution_count": 35,
   "metadata": {
    "colab": {
     "base_uri": "https://localhost:8080/"
    },
    "id": "kXV7gQRAP31u",
    "outputId": "925b9c37-d242-48a0-ed99-a70f7652b5fd"
   },
   "outputs": [
    {
     "name": "stdout",
     "output_type": "stream",
     "text": [
      "1/1 [==============================] - 0s 33ms/step\n",
      "Predicted: 0.997\n"
     ]
    }
   ],
   "source": [
    "row = [1,0,0.99539,-0.05889,0.85243,0.02306,\n",
    "       0.83398,-0.37708,1,0.03760,0.85243,-0.17755,\n",
    "       0.59755,-0.44945,0.60536,-0.38223,0.84356,\n",
    "       -0.38542,0.58212,-0.32192,0.56971,-0.29674,0.36946,\n",
    "       -0.47357,0.56811,-0.51171,0.41078,-0.46168,0.21266,\n",
    "       -0.34090,0.42267,-0.54487,0.18641,-0.45300]\n",
    "yhat = model_2.predict([row])\n",
    "print('Predicted: %.3f' % yhat)"
   ]
  },
  {
   "cell_type": "code",
   "execution_count": 36,
   "metadata": {},
   "outputs": [],
   "source": [
    "# 100 % - enchanting result!"
   ]
  },
  {
   "cell_type": "code",
   "execution_count": null,
   "metadata": {},
   "outputs": [],
   "source": []
  },
  {
   "cell_type": "markdown",
   "metadata": {},
   "source": [
    "### Try out the same model with Keras Functional models!\n",
    "Refer to [Keras](https://keras.io/) for more details and tutorials for the same."
   ]
  },
  {
   "cell_type": "markdown",
   "metadata": {},
   "source": [
    "### Define the layers & create the model object and input & output!"
   ]
  },
  {
   "cell_type": "markdown",
   "metadata": {},
   "source": [
    "### https://keras.io/guides/functional_api/\n"
   ]
  },
  {
   "cell_type": "markdown",
   "metadata": {},
   "source": [
    "#### The Keras Functional API is a way to create complex models, such as those with multiple outputs, models with shared layers, or acyclic graphs."
   ]
  },
  {
   "cell_type": "markdown",
   "metadata": {},
   "source": [
    "#### An example of a model with multiple inputs and multiple outputs:"
   ]
  },
  {
   "attachments": {
    "image.png": {
     "image/png": "[encoded data removed]"
    }
   },
   "cell_type": "markdown",
   "metadata": {},
   "source": [
    "![image.png](attachment:image.png)"
   ]
  },
  {
   "cell_type": "code",
   "execution_count": 37,
   "metadata": {},
   "outputs": [],
   "source": [
    "from tensorflow.keras import Model\n",
    "from tensorflow.keras import Input\n",
    "from tensorflow.keras.layers import Dense\n"
   ]
  },
  {
   "cell_type": "code",
   "execution_count": 38,
   "metadata": {},
   "outputs": [
    {
     "data": {
      "text/plain": [
       "<KerasTensor: shape=(None, 34) dtype=float32 (created by layer 'input_1')>"
      ]
     },
     "execution_count": 38,
     "metadata": {},
     "output_type": "execute_result"
    }
   ],
   "source": [
    "# define the layers\n",
    "\n",
    "x_in = Input(shape=(n_features,))\n",
    "\n",
    "x_in"
   ]
  },
  {
   "cell_type": "code",
   "execution_count": 39,
   "metadata": {},
   "outputs": [],
   "source": [
    "x_1 = Dense(10, activation='relu')(x_in)\n",
    "x_2 = Dense(8, activation='relu')(x_1)\n",
    "x_out = Dense(1, activation='sigmoid')(x_2)"
   ]
  },
  {
   "cell_type": "code",
   "execution_count": 40,
   "metadata": {},
   "outputs": [],
   "source": [
    "# define model\n",
    "\n",
    "model_3 = Model(inputs=x_in, outputs=x_out)"
   ]
  },
  {
   "cell_type": "code",
   "execution_count": 41,
   "metadata": {},
   "outputs": [
    {
     "name": "stdout",
     "output_type": "stream",
     "text": [
      "Model: \"model\"\n",
      "_________________________________________________________________\n",
      " Layer (type)                Output Shape              Param #   \n",
      "=================================================================\n",
      " input_1 (InputLayer)        [(None, 34)]              0         \n",
      "                                                                 \n",
      " dense_11 (Dense)            (None, 10)                350       \n",
      "                                                                 \n",
      " dense_12 (Dense)            (None, 8)                 88        \n",
      "                                                                 \n",
      " dense_13 (Dense)            (None, 1)                 9         \n",
      "                                                                 \n",
      "=================================================================\n",
      "Total params: 447\n",
      "Trainable params: 447\n",
      "Non-trainable params: 0\n",
      "_________________________________________________________________\n",
      "None\n"
     ]
    }
   ],
   "source": [
    "print(model_3.summary())\n"
   ]
  },
  {
   "cell_type": "code",
   "execution_count": 42,
   "metadata": {},
   "outputs": [],
   "source": [
    "# compile the model\n",
    "\n",
    "model_3.compile(optimizer=\"adam\",\n",
    "                 loss='binary_crossentropy',\n",
    "                 metrics=['accuracy'])\n"
   ]
  },
  {
   "cell_type": "code",
   "execution_count": 43,
   "metadata": {},
   "outputs": [
    {
     "name": "stdout",
     "output_type": "stream",
     "text": [
      "Epoch 1/150\n",
      "8/8 [==============================] - 0s 582us/step - loss: 0.7599 - accuracy: 0.3404\n",
      "Epoch 2/150\n",
      "8/8 [==============================] - 0s 557us/step - loss: 0.7276 - accuracy: 0.3702\n",
      "Epoch 3/150\n",
      "8/8 [==============================] - 0s 675us/step - loss: 0.7043 - accuracy: 0.4298\n",
      "Epoch 4/150\n",
      "8/8 [==============================] - 0s 595us/step - loss: 0.6806 - accuracy: 0.5830\n",
      "Epoch 5/150\n",
      "8/8 [==============================] - 0s 2ms/step - loss: 0.6589 - accuracy: 0.7191\n",
      "Epoch 6/150\n",
      "8/8 [==============================] - 0s 627us/step - loss: 0.6371 - accuracy: 0.7106\n",
      "Epoch 7/150\n",
      "8/8 [==============================] - 0s 787us/step - loss: 0.6164 - accuracy: 0.7149\n",
      "Epoch 8/150\n",
      "8/8 [==============================] - 0s 512us/step - loss: 0.5993 - accuracy: 0.7064\n",
      "Epoch 9/150\n",
      "8/8 [==============================] - 0s 509us/step - loss: 0.5862 - accuracy: 0.6936\n",
      "Epoch 10/150\n",
      "8/8 [==============================] - 0s 743us/step - loss: 0.5739 - accuracy: 0.6936\n",
      "Epoch 11/150\n",
      "8/8 [==============================] - 0s 494us/step - loss: 0.5649 - accuracy: 0.6936\n",
      "Epoch 12/150\n",
      "8/8 [==============================] - 0s 522us/step - loss: 0.5559 - accuracy: 0.7064\n",
      "Epoch 13/150\n",
      "8/8 [==============================] - 0s 622us/step - loss: 0.5481 - accuracy: 0.7149\n",
      "Epoch 14/150\n",
      "8/8 [==============================] - 0s 523us/step - loss: 0.5405 - accuracy: 0.7277\n",
      "Epoch 15/150\n",
      "8/8 [==============================] - 0s 494us/step - loss: 0.5333 - accuracy: 0.7277\n",
      "Epoch 16/150\n",
      "8/8 [==============================] - 0s 693us/step - loss: 0.5259 - accuracy: 0.7319\n",
      "Epoch 17/150\n",
      "8/8 [==============================] - 0s 499us/step - loss: 0.5187 - accuracy: 0.7574\n",
      "Epoch 18/150\n",
      "8/8 [==============================] - 0s 511us/step - loss: 0.5113 - accuracy: 0.7660\n",
      "Epoch 19/150\n",
      "8/8 [==============================] - 0s 721us/step - loss: 0.5040 - accuracy: 0.7702\n",
      "Epoch 20/150\n",
      "8/8 [==============================] - 0s 581us/step - loss: 0.4958 - accuracy: 0.7702\n",
      "Epoch 21/150\n",
      "8/8 [==============================] - 0s 511us/step - loss: 0.4882 - accuracy: 0.7745\n",
      "Epoch 22/150\n",
      "8/8 [==============================] - 0s 604us/step - loss: 0.4798 - accuracy: 0.7830\n",
      "Epoch 23/150\n",
      "8/8 [==============================] - 0s 530us/step - loss: 0.4720 - accuracy: 0.7872\n",
      "Epoch 24/150\n",
      "8/8 [==============================] - 0s 509us/step - loss: 0.4632 - accuracy: 0.8043\n",
      "Epoch 25/150\n",
      "8/8 [==============================] - 0s 598us/step - loss: 0.4549 - accuracy: 0.8170\n",
      "Epoch 26/150\n",
      "8/8 [==============================] - 0s 536us/step - loss: 0.4467 - accuracy: 0.8213\n",
      "Epoch 27/150\n",
      "8/8 [==============================] - 0s 508us/step - loss: 0.4375 - accuracy: 0.8255\n",
      "Epoch 28/150\n",
      "8/8 [==============================] - 0s 565us/step - loss: 0.4285 - accuracy: 0.8298\n",
      "Epoch 29/150\n",
      "8/8 [==============================] - 0s 578us/step - loss: 0.4196 - accuracy: 0.8298\n",
      "Epoch 30/150\n",
      "8/8 [==============================] - 0s 513us/step - loss: 0.4105 - accuracy: 0.8298\n",
      "Epoch 31/150\n",
      "8/8 [==============================] - 0s 681us/step - loss: 0.4024 - accuracy: 0.8426\n",
      "Epoch 32/150\n",
      "8/8 [==============================] - 0s 556us/step - loss: 0.3935 - accuracy: 0.8511\n",
      "Epoch 33/150\n",
      "8/8 [==============================] - 0s 483us/step - loss: 0.3843 - accuracy: 0.8638\n",
      "Epoch 34/150\n",
      "8/8 [==============================] - 0s 731us/step - loss: 0.3758 - accuracy: 0.8681\n",
      "Epoch 35/150\n",
      "8/8 [==============================] - 0s 566us/step - loss: 0.3672 - accuracy: 0.8766\n",
      "Epoch 36/150\n",
      "8/8 [==============================] - 0s 509us/step - loss: 0.3582 - accuracy: 0.8809\n",
      "Epoch 37/150\n",
      "8/8 [==============================] - 0s 654us/step - loss: 0.3500 - accuracy: 0.8809\n",
      "Epoch 38/150\n",
      "8/8 [==============================] - 0s 602us/step - loss: 0.3414 - accuracy: 0.8809\n",
      "Epoch 39/150\n",
      "8/8 [==============================] - 0s 610us/step - loss: 0.3334 - accuracy: 0.8936\n",
      "Epoch 40/150\n",
      "8/8 [==============================] - 0s 755us/step - loss: 0.3271 - accuracy: 0.8979\n",
      "Epoch 41/150\n",
      "8/8 [==============================] - 0s 538us/step - loss: 0.3178 - accuracy: 0.9106\n",
      "Epoch 42/150\n",
      "8/8 [==============================] - 0s 738us/step - loss: 0.3100 - accuracy: 0.9106\n",
      "Epoch 43/150\n",
      "8/8 [==============================] - 0s 582us/step - loss: 0.3029 - accuracy: 0.9106\n",
      "Epoch 44/150\n",
      "8/8 [==============================] - 0s 660us/step - loss: 0.2959 - accuracy: 0.9106\n",
      "Epoch 45/150\n",
      "8/8 [==============================] - 0s 632us/step - loss: 0.2898 - accuracy: 0.9106\n",
      "Epoch 46/150\n",
      "8/8 [==============================] - 0s 527us/step - loss: 0.2828 - accuracy: 0.9106\n",
      "Epoch 47/150\n",
      "8/8 [==============================] - 0s 520us/step - loss: 0.2765 - accuracy: 0.9191\n",
      "Epoch 48/150\n",
      "8/8 [==============================] - 0s 580us/step - loss: 0.2704 - accuracy: 0.9191\n",
      "Epoch 49/150\n",
      "8/8 [==============================] - 0s 517us/step - loss: 0.2647 - accuracy: 0.9191\n",
      "Epoch 50/150\n",
      "8/8 [==============================] - 0s 609us/step - loss: 0.2587 - accuracy: 0.9191\n",
      "Epoch 51/150\n",
      "8/8 [==============================] - 0s 647us/step - loss: 0.2533 - accuracy: 0.9234\n",
      "Epoch 52/150\n",
      "8/8 [==============================] - 0s 525us/step - loss: 0.2475 - accuracy: 0.9234\n",
      "Epoch 53/150\n",
      "8/8 [==============================] - 0s 593us/step - loss: 0.2419 - accuracy: 0.9234\n",
      "Epoch 54/150\n",
      "8/8 [==============================] - 0s 608us/step - loss: 0.2371 - accuracy: 0.9277\n",
      "Epoch 55/150\n",
      "8/8 [==============================] - 0s 477us/step - loss: 0.2330 - accuracy: 0.9277\n",
      "Epoch 56/150\n",
      "8/8 [==============================] - 0s 508us/step - loss: 0.2267 - accuracy: 0.9319\n",
      "Epoch 57/150\n",
      "8/8 [==============================] - 0s 552us/step - loss: 0.2230 - accuracy: 0.9319\n",
      "Epoch 58/150\n",
      "8/8 [==============================] - 0s 478us/step - loss: 0.2199 - accuracy: 0.9319\n",
      "Epoch 59/150\n",
      "8/8 [==============================] - 0s 492us/step - loss: 0.2145 - accuracy: 0.9319\n",
      "Epoch 60/150\n",
      "8/8 [==============================] - 0s 516us/step - loss: 0.2100 - accuracy: 0.9319\n",
      "Epoch 61/150\n",
      "8/8 [==============================] - 0s 497us/step - loss: 0.2053 - accuracy: 0.9362\n",
      "Epoch 62/150\n",
      "8/8 [==============================] - 0s 463us/step - loss: 0.2015 - accuracy: 0.9362\n",
      "Epoch 63/150\n",
      "8/8 [==============================] - 0s 493us/step - loss: 0.1976 - accuracy: 0.9362\n",
      "Epoch 64/150\n",
      "8/8 [==============================] - 0s 534us/step - loss: 0.1935 - accuracy: 0.9404\n",
      "Epoch 65/150\n",
      "8/8 [==============================] - 0s 469us/step - loss: 0.1902 - accuracy: 0.9447\n",
      "Epoch 66/150\n",
      "8/8 [==============================] - 0s 477us/step - loss: 0.1875 - accuracy: 0.9532\n",
      "Epoch 67/150\n",
      "8/8 [==============================] - 0s 490us/step - loss: 0.1831 - accuracy: 0.9574\n",
      "Epoch 68/150\n",
      "8/8 [==============================] - 0s 518us/step - loss: 0.1794 - accuracy: 0.9532\n",
      "Epoch 69/150\n",
      "8/8 [==============================] - 0s 471us/step - loss: 0.1765 - accuracy: 0.9532\n",
      "Epoch 70/150\n",
      "8/8 [==============================] - 0s 466us/step - loss: 0.1732 - accuracy: 0.9532\n",
      "Epoch 71/150\n",
      "8/8 [==============================] - 0s 527us/step - loss: 0.1706 - accuracy: 0.9532\n",
      "Epoch 72/150\n",
      "8/8 [==============================] - 0s 487us/step - loss: 0.1683 - accuracy: 0.9532\n",
      "Epoch 73/150\n",
      "8/8 [==============================] - 0s 490us/step - loss: 0.1652 - accuracy: 0.9532\n",
      "Epoch 74/150\n",
      "8/8 [==============================] - 0s 1ms/step - loss: 0.1619 - accuracy: 0.9574\n",
      "Epoch 75/150\n",
      "8/8 [==============================] - 0s 640us/step - loss: 0.1592 - accuracy: 0.9574\n",
      "Epoch 76/150\n",
      "8/8 [==============================] - 0s 575us/step - loss: 0.1568 - accuracy: 0.9532\n",
      "Epoch 77/150\n",
      "8/8 [==============================] - 0s 529us/step - loss: 0.1539 - accuracy: 0.9574\n",
      "Epoch 78/150\n",
      "8/8 [==============================] - 0s 483us/step - loss: 0.1517 - accuracy: 0.9617\n",
      "Epoch 79/150\n",
      "8/8 [==============================] - 0s 491us/step - loss: 0.1496 - accuracy: 0.9617\n",
      "Epoch 80/150\n",
      "8/8 [==============================] - 0s 505us/step - loss: 0.1474 - accuracy: 0.9617\n",
      "Epoch 81/150\n",
      "8/8 [==============================] - 0s 493us/step - loss: 0.1460 - accuracy: 0.9574\n",
      "Epoch 82/150\n",
      "8/8 [==============================] - 0s 466us/step - loss: 0.1434 - accuracy: 0.9617\n",
      "Epoch 83/150\n"
     ]
    },
    {
     "name": "stdout",
     "output_type": "stream",
     "text": [
      "8/8 [==============================] - 0s 520us/step - loss: 0.1423 - accuracy: 0.9532\n",
      "Epoch 84/150\n",
      "8/8 [==============================] - 0s 545us/step - loss: 0.1403 - accuracy: 0.9489\n",
      "Epoch 85/150\n",
      "8/8 [==============================] - 0s 456us/step - loss: 0.1375 - accuracy: 0.9574\n",
      "Epoch 86/150\n",
      "8/8 [==============================] - 0s 556us/step - loss: 0.1355 - accuracy: 0.9702\n",
      "Epoch 87/150\n",
      "8/8 [==============================] - 0s 471us/step - loss: 0.1361 - accuracy: 0.9702\n",
      "Epoch 88/150\n",
      "8/8 [==============================] - 0s 496us/step - loss: 0.1328 - accuracy: 0.9702\n",
      "Epoch 89/150\n",
      "8/8 [==============================] - 0s 477us/step - loss: 0.1302 - accuracy: 0.9702\n",
      "Epoch 90/150\n",
      "8/8 [==============================] - 0s 477us/step - loss: 0.1287 - accuracy: 0.9702\n",
      "Epoch 91/150\n",
      "8/8 [==============================] - 0s 490us/step - loss: 0.1270 - accuracy: 0.9702\n",
      "Epoch 92/150\n",
      "8/8 [==============================] - 0s 450us/step - loss: 0.1259 - accuracy: 0.9702\n",
      "Epoch 93/150\n",
      "8/8 [==============================] - 0s 611us/step - loss: 0.1236 - accuracy: 0.9702\n",
      "Epoch 94/150\n",
      "8/8 [==============================] - 0s 487us/step - loss: 0.1225 - accuracy: 0.9702\n",
      "Epoch 95/150\n",
      "8/8 [==============================] - 0s 476us/step - loss: 0.1210 - accuracy: 0.9702\n",
      "Epoch 96/150\n",
      "8/8 [==============================] - 0s 482us/step - loss: 0.1194 - accuracy: 0.9702\n",
      "Epoch 97/150\n",
      "8/8 [==============================] - 0s 502us/step - loss: 0.1186 - accuracy: 0.9702\n",
      "Epoch 98/150\n",
      "8/8 [==============================] - 0s 449us/step - loss: 0.1171 - accuracy: 0.9702\n",
      "Epoch 99/150\n",
      "8/8 [==============================] - 0s 460us/step - loss: 0.1159 - accuracy: 0.9702\n",
      "Epoch 100/150\n",
      "8/8 [==============================] - 0s 528us/step - loss: 0.1144 - accuracy: 0.9702\n",
      "Epoch 101/150\n",
      "8/8 [==============================] - 0s 474us/step - loss: 0.1144 - accuracy: 0.9702\n",
      "Epoch 102/150\n",
      "8/8 [==============================] - 0s 480us/step - loss: 0.1116 - accuracy: 0.9702\n",
      "Epoch 103/150\n",
      "8/8 [==============================] - 0s 468us/step - loss: 0.1105 - accuracy: 0.9702\n",
      "Epoch 104/150\n",
      "8/8 [==============================] - 0s 552us/step - loss: 0.1095 - accuracy: 0.9702\n",
      "Epoch 105/150\n",
      "8/8 [==============================] - 0s 485us/step - loss: 0.1087 - accuracy: 0.9702\n",
      "Epoch 106/150\n",
      "8/8 [==============================] - 0s 490us/step - loss: 0.1076 - accuracy: 0.9702\n",
      "Epoch 107/150\n",
      "8/8 [==============================] - 0s 487us/step - loss: 0.1061 - accuracy: 0.9702\n",
      "Epoch 108/150\n",
      "8/8 [==============================] - 0s 477us/step - loss: 0.1057 - accuracy: 0.9702\n",
      "Epoch 109/150\n",
      "8/8 [==============================] - 0s 466us/step - loss: 0.1055 - accuracy: 0.9702\n",
      "Epoch 110/150\n",
      "8/8 [==============================] - 0s 467us/step - loss: 0.1031 - accuracy: 0.9702\n",
      "Epoch 111/150\n",
      "8/8 [==============================] - 0s 558us/step - loss: 0.1018 - accuracy: 0.9702\n",
      "Epoch 112/150\n",
      "8/8 [==============================] - 0s 473us/step - loss: 0.1008 - accuracy: 0.9702\n",
      "Epoch 113/150\n",
      "8/8 [==============================] - 0s 490us/step - loss: 0.1000 - accuracy: 0.9702\n",
      "Epoch 114/150\n",
      "8/8 [==============================] - 0s 478us/step - loss: 0.0989 - accuracy: 0.9702\n",
      "Epoch 115/150\n",
      "8/8 [==============================] - 0s 495us/step - loss: 0.0985 - accuracy: 0.9702\n",
      "Epoch 116/150\n",
      "8/8 [==============================] - 0s 459us/step - loss: 0.0972 - accuracy: 0.9702\n",
      "Epoch 117/150\n",
      "8/8 [==============================] - 0s 467us/step - loss: 0.0961 - accuracy: 0.9702\n",
      "Epoch 118/150\n",
      "8/8 [==============================] - 0s 623us/step - loss: 0.0957 - accuracy: 0.9702\n",
      "Epoch 119/150\n",
      "8/8 [==============================] - 0s 533us/step - loss: 0.0946 - accuracy: 0.9702\n",
      "Epoch 120/150\n",
      "8/8 [==============================] - 0s 455us/step - loss: 0.0942 - accuracy: 0.9702\n",
      "Epoch 121/150\n",
      "8/8 [==============================] - 0s 478us/step - loss: 0.0933 - accuracy: 0.9702\n",
      "Epoch 122/150\n",
      "8/8 [==============================] - 0s 499us/step - loss: 0.0924 - accuracy: 0.9702\n",
      "Epoch 123/150\n",
      "8/8 [==============================] - 0s 468us/step - loss: 0.0916 - accuracy: 0.9702\n",
      "Epoch 124/150\n",
      "8/8 [==============================] - 0s 469us/step - loss: 0.0905 - accuracy: 0.9702\n",
      "Epoch 125/150\n",
      "8/8 [==============================] - 0s 577us/step - loss: 0.0882 - accuracy: 0.9702\n",
      "Epoch 126/150\n",
      "8/8 [==============================] - 0s 459us/step - loss: 0.0874 - accuracy: 0.9745\n",
      "Epoch 127/150\n",
      "8/8 [==============================] - 0s 470us/step - loss: 0.0867 - accuracy: 0.9745\n",
      "Epoch 128/150\n",
      "8/8 [==============================] - 0s 705us/step - loss: 0.0857 - accuracy: 0.9745\n",
      "Epoch 129/150\n",
      "8/8 [==============================] - 0s 487us/step - loss: 0.0838 - accuracy: 0.9787\n",
      "Epoch 130/150\n",
      "8/8 [==============================] - 0s 511us/step - loss: 0.0826 - accuracy: 0.9745\n",
      "Epoch 131/150\n",
      "8/8 [==============================] - 0s 532us/step - loss: 0.0816 - accuracy: 0.9745\n",
      "Epoch 132/150\n",
      "8/8 [==============================] - 0s 586us/step - loss: 0.0805 - accuracy: 0.9745\n",
      "Epoch 133/150\n",
      "8/8 [==============================] - 0s 463us/step - loss: 0.0793 - accuracy: 0.9745\n",
      "Epoch 134/150\n",
      "8/8 [==============================] - 0s 470us/step - loss: 0.0781 - accuracy: 0.9745\n",
      "Epoch 135/150\n",
      "8/8 [==============================] - 0s 555us/step - loss: 0.0772 - accuracy: 0.9745\n",
      "Epoch 136/150\n",
      "8/8 [==============================] - 0s 479us/step - loss: 0.0764 - accuracy: 0.9745\n",
      "Epoch 137/150\n",
      "8/8 [==============================] - 0s 486us/step - loss: 0.0759 - accuracy: 0.9787\n",
      "Epoch 138/150\n",
      "8/8 [==============================] - 0s 464us/step - loss: 0.0745 - accuracy: 0.9787\n",
      "Epoch 139/150\n",
      "8/8 [==============================] - 0s 510us/step - loss: 0.0731 - accuracy: 0.9745\n",
      "Epoch 140/150\n",
      "8/8 [==============================] - 0s 509us/step - loss: 0.0723 - accuracy: 0.9787\n",
      "Epoch 141/150\n",
      "8/8 [==============================] - 0s 478us/step - loss: 0.0714 - accuracy: 0.9787\n",
      "Epoch 142/150\n",
      "8/8 [==============================] - 0s 547us/step - loss: 0.0707 - accuracy: 0.9787\n",
      "Epoch 143/150\n",
      "8/8 [==============================] - 0s 485us/step - loss: 0.0699 - accuracy: 0.9787\n",
      "Epoch 144/150\n",
      "8/8 [==============================] - 0s 486us/step - loss: 0.0685 - accuracy: 0.9787\n",
      "Epoch 145/150\n",
      "8/8 [==============================] - 0s 504us/step - loss: 0.0679 - accuracy: 0.9787\n",
      "Epoch 146/150\n",
      "8/8 [==============================] - 0s 482us/step - loss: 0.0669 - accuracy: 0.9830\n",
      "Epoch 147/150\n",
      "8/8 [==============================] - 0s 462us/step - loss: 0.0668 - accuracy: 0.9830\n",
      "Epoch 148/150\n",
      "8/8 [==============================] - 0s 577us/step - loss: 0.0653 - accuracy: 0.9830\n",
      "Epoch 149/150\n",
      "8/8 [==============================] - 0s 734us/step - loss: 0.0646 - accuracy: 0.9830\n",
      "Epoch 150/150\n",
      "8/8 [==============================] - 0s 489us/step - loss: 0.0641 - accuracy: 0.9872\n"
     ]
    }
   ],
   "source": [
    "# fit the model\n",
    "\n",
    "history_4 = model_3.fit(X_train, y_train, epochs=150, batch_size=32, verbose=1)"
   ]
  },
  {
   "cell_type": "code",
   "execution_count": 44,
   "metadata": {},
   "outputs": [
    {
     "name": "stdout",
     "output_type": "stream",
     "text": [
      "Test Accuracy: 0.888\n"
     ]
    }
   ],
   "source": [
    "# evaluate the model\n",
    "\n",
    "loss, acc = model_3.evaluate(X_test, y_test, verbose=0)\n",
    "print('Test Accuracy: %.3f' % acc)"
   ]
  },
  {
   "cell_type": "code",
   "execution_count": 45,
   "metadata": {},
   "outputs": [
    {
     "data": {
      "image/png": "[encoded data removed]",
      "text/plain": [
       "<Figure size 1500x700 with 1 Axes>"
      ]
     },
     "metadata": {},
     "output_type": "display_data"
    }
   ],
   "source": [
    "history_dict = history_4.history\n",
    "Accuracy = history_dict['accuracy']\n",
    "plt.figure(num=1, figsize=(15,7))\n",
    "plt.plot(Accuracy, 'bo', label='Training accuracy')\n",
    "plt.xlabel('Epochs')\n",
    "plt.ylabel('Accuracy')\n",
    "plt.legend()\n",
    "plt.show()"
   ]
  },
  {
   "cell_type": "code",
   "execution_count": 46,
   "metadata": {},
   "outputs": [
    {
     "name": "stdout",
     "output_type": "stream",
     "text": [
      "1/1 [==============================] - 0s 33ms/step\n",
      "Predicted: 0.944\n"
     ]
    }
   ],
   "source": [
    "# make a prediction - Copy a row of your choice!\n",
    "\n",
    "row = [1,0,0.99539,-0.05889,0.85243,0.02306,\n",
    " 0.83398,-0.37708,1,0.03760,0.85243,-0.17755,\n",
    " 0.59755,-0.44945,0.60536,-0.38223,0.84356,\n",
    " -0.38542,0.58212,-0.32192,0.56971,-0.29674,0.36946,\n",
    " -0.47357,0.56811,-0.51171,0.41078,-0.46168,0.21266,\n",
    " -0.34090,0.42267,-0.54487,0.18641,-0.45300]\n",
    "\n",
    "yhat = model_3.predict([row])\n",
    "print('Predicted: %.3f' % yhat)"
   ]
  },
  {
   "cell_type": "code",
   "execution_count": null,
   "metadata": {},
   "outputs": [],
   "source": []
  },
  {
   "cell_type": "code",
   "execution_count": null,
   "metadata": {},
   "outputs": [],
   "source": []
  }
 ],
 "metadata": {
  "colab": {
   "provenance": []
  },
  "kernelspec": {
   "display_name": "Python 3 (ipykernel)",
   "language": "python",
   "name": "python3"
  },
  "language_info": {
   "codemirror_mode": {
    "name": "ipython",
    "version": 3
   },
   "file_extension": ".py",
   "mimetype": "text/x-python",
   "name": "python",
   "nbconvert_exporter": "python",
   "pygments_lexer": "ipython3",
   "version": "3.11.5"
  }
 },
 "nbformat": 4,
 "nbformat_minor": 1
}

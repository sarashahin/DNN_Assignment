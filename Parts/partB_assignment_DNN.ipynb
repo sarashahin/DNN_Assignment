{
  "cells": [
    {
      "cell_type": "code",
      "execution_count": null,
      "metadata": {
        "id": "56Awd1MfnYMe"
      },
      "outputs": [],
      "source": [
        "import tensorflow as tf\n",
        "from tensorflow.keras.datasets import mnist\n",
        "from tensorflow.keras.models import Sequential\n",
        "from tensorflow.keras.layers import Flatten, Dense\n",
        "from tensorflow.keras.utils import to_categorical\n",
        "import numpy as np\n",
        "import matplotlib.pyplot as plt\n",
        "\n",
        "# load the MNIST dataset\n",
        "(x_train, y_train), (x_test, y_test) = mnist.load_data()\n",
        "\n",
        "# preprocess the data\n",
        "x_train, x_test = x_train / 255.0, x_test / 255.0  # Normalize the data\n",
        "y_train_cat = to_categorical(y_train)  # One-hot encoding\n",
        "y_test_cat = to_categorical(y_test)\n",
        "\n",
        "# simple neural network model\n",
        "def create_model():\n",
        "    model = Sequential([\n",
        "        Flatten(input_shape=(28, 28)),\n",
        "        Dense(128, activation='relu'),\n",
        "        Dense(10, activation='softmax')\n",
        "    ])\n",
        "    model.compile(optimizer='adam',\n",
        "                  loss='categorical_crossentropy',\n",
        "                  metrics=['accuracy'])\n",
        "    return model\n"
      ]
    },
    {
      "cell_type": "code",
      "execution_count": null,
      "metadata": {
        "id": "RC5ozxegpFuO"
      },
      "outputs": [],
      "source": [
        "def select_indices_based_on_vulnerability_analysis(predictions, y_true, threshold=0.9):\n",
        "    \"\"\"\n",
        "    Select indices of instances based on the model vulnerabilities.\n",
        "\n",
        "    Parameters:\n",
        "    predictions: The model probabilities.\n",
        "    y_true: The true labels.\n",
        "    threshold: threshold to consider an instance for label flipping.\n",
        "\n",
        "    Returns:\n",
        "    A list of indices that are considered vulnerable.\n",
        "    \"\"\"\n",
        "    vulnerable_indices = []\n",
        "    confidence_scores = np.max(predictions, axis=1)\n",
        "\n",
        "    # Select instances where the model is highly confident but wrong\n",
        "    for i, (score, prediction, true_label) in enumerate(zip(confidence_scores, np.argmax(predictions, axis=1), y_true)):\n",
        "        if score > threshold and prediction != true_label:\n",
        "            vulnerable_indices.append(i)\n",
        "\n",
        "    return vulnerable_indices\n"
      ]
    },
    {
      "cell_type": "code",
      "execution_count": null,
      "metadata": {
        "id": "J_BYN2rqqw4G"
      },
      "outputs": [],
      "source": [
        " # select the least likely class\n",
        "def manipulate_labels_at_least_likely(y_train, predictions):\n",
        "    y_manipulated = y_train.copy()\n",
        "    for i, prediction in enumerate(predictions):\n",
        "        least_likely_class = np.argmin(prediction)\n",
        "        y_manipulated[i] = least_likely_class\n",
        "    return y_manipulated"
      ]
    },
    {
      "cell_type": "code",
      "execution_count": null,
      "metadata": {
        "colab": {
          "base_uri": "https://localhost:8080/"
        },
        "id": "TkthLA5knXRE",
        "outputId": "98366a89-b259-42c3-fb52-60035d1a11b9"
      },
      "outputs": [
        {
          "output_type": "stream",
          "name": "stdout",
          "text": [
            "1875/1875 [==============================] - 3s 1ms/step\n",
            "Epoch 1/5\n",
            "1500/1500 - 4s - loss: 0.0400 - accuracy: 0.9875 - val_loss: 0.0863 - val_accuracy: 0.9743 - 4s/epoch - 3ms/step\n",
            "Epoch 2/5\n",
            "1500/1500 - 4s - loss: 0.0302 - accuracy: 0.9911 - val_loss: 0.0898 - val_accuracy: 0.9741 - 4s/epoch - 3ms/step\n",
            "Epoch 3/5\n",
            "1500/1500 - 4s - loss: 0.0252 - accuracy: 0.9928 - val_loss: 0.0891 - val_accuracy: 0.9747 - 4s/epoch - 3ms/step\n",
            "Epoch 4/5\n",
            "1500/1500 - 4s - loss: 0.0191 - accuracy: 0.9946 - val_loss: 0.1001 - val_accuracy: 0.9730 - 4s/epoch - 2ms/step\n",
            "Epoch 5/5\n",
            "1500/1500 - 4s - loss: 0.0174 - accuracy: 0.9943 - val_loss: 0.0942 - val_accuracy: 0.9744 - 4s/epoch - 3ms/step\n",
            "Accuracy after 10.0% labels manipulated: 95.39%\n",
            "Baseline Accuracy: 97.50%\n",
            "1875/1875 [==============================] - 3s 1ms/step\n",
            "Epoch 1/5\n",
            "1500/1500 - 5s - loss: 0.0144 - accuracy: 0.9958 - val_loss: 0.0941 - val_accuracy: 0.9753 - 5s/epoch - 3ms/step\n",
            "Epoch 2/5\n",
            "1500/1500 - 4s - loss: 0.0124 - accuracy: 0.9967 - val_loss: 0.0978 - val_accuracy: 0.9759 - 4s/epoch - 3ms/step\n",
            "Epoch 3/5\n",
            "1500/1500 - 4s - loss: 0.0096 - accuracy: 0.9973 - val_loss: 0.0992 - val_accuracy: 0.9755 - 4s/epoch - 2ms/step\n",
            "Epoch 4/5\n",
            "1500/1500 - 4s - loss: 0.0093 - accuracy: 0.9975 - val_loss: 0.1053 - val_accuracy: 0.9755 - 4s/epoch - 3ms/step\n",
            "Epoch 5/5\n",
            "1500/1500 - 4s - loss: 0.0073 - accuracy: 0.9979 - val_loss: 0.1063 - val_accuracy: 0.9762 - 4s/epoch - 3ms/step\n",
            "Accuracy after 20.0% labels manipulated: 94.67%\n",
            "Baseline Accuracy: 97.50%\n",
            "1875/1875 [==============================] - 3s 1ms/step\n",
            "Epoch 1/5\n",
            "1500/1500 - 4s - loss: 0.0076 - accuracy: 0.9975 - val_loss: 0.1125 - val_accuracy: 0.9758 - 4s/epoch - 3ms/step\n",
            "Epoch 2/5\n",
            "1500/1500 - 5s - loss: 0.0064 - accuracy: 0.9981 - val_loss: 0.1195 - val_accuracy: 0.9766 - 5s/epoch - 3ms/step\n",
            "Epoch 3/5\n",
            "1500/1500 - 4s - loss: 0.0049 - accuracy: 0.9985 - val_loss: 0.1252 - val_accuracy: 0.9747 - 4s/epoch - 2ms/step\n",
            "Epoch 4/5\n",
            "1500/1500 - 4s - loss: 0.0068 - accuracy: 0.9979 - val_loss: 0.1234 - val_accuracy: 0.9762 - 4s/epoch - 2ms/step\n",
            "Epoch 5/5\n",
            "1500/1500 - 4s - loss: 0.0058 - accuracy: 0.9982 - val_loss: 0.1210 - val_accuracy: 0.9758 - 4s/epoch - 3ms/step\n",
            "Accuracy after 50.0% labels manipulated: 55.27%\n",
            "Baseline Accuracy: 97.50%\n",
            "1875/1875 [==============================] - 3s 1ms/step\n",
            "Epoch 1/5\n",
            "1500/1500 - 4s - loss: 0.0040 - accuracy: 0.9989 - val_loss: 0.1204 - val_accuracy: 0.9766 - 4s/epoch - 3ms/step\n",
            "Epoch 2/5\n",
            "1500/1500 - 4s - loss: 0.0025 - accuracy: 0.9994 - val_loss: 0.1342 - val_accuracy: 0.9765 - 4s/epoch - 3ms/step\n",
            "Epoch 3/5\n",
            "1500/1500 - 4s - loss: 0.0075 - accuracy: 0.9977 - val_loss: 0.1480 - val_accuracy: 0.9743 - 4s/epoch - 3ms/step\n",
            "Epoch 4/5\n",
            "1500/1500 - 4s - loss: 0.0040 - accuracy: 0.9986 - val_loss: 0.1502 - val_accuracy: 0.9756 - 4s/epoch - 2ms/step\n",
            "Epoch 5/5\n",
            "1500/1500 - 4s - loss: 0.0040 - accuracy: 0.9989 - val_loss: 0.1375 - val_accuracy: 0.9770 - 4s/epoch - 3ms/step\n",
            "Accuracy after 70.0% labels manipulated: 18.90%\n",
            "Baseline Accuracy: 97.50%\n",
            "1875/1875 [==============================] - 3s 2ms/step\n",
            "Epoch 1/5\n",
            "1500/1500 - 4s - loss: 0.0022 - accuracy: 0.9995 - val_loss: 0.1444 - val_accuracy: 0.9761 - 4s/epoch - 3ms/step\n",
            "Epoch 2/5\n",
            "1500/1500 - 4s - loss: 0.0058 - accuracy: 0.9981 - val_loss: 0.1365 - val_accuracy: 0.9774 - 4s/epoch - 3ms/step\n",
            "Epoch 3/5\n",
            "1500/1500 - 4s - loss: 0.0015 - accuracy: 0.9996 - val_loss: 0.1418 - val_accuracy: 0.9762 - 4s/epoch - 2ms/step\n",
            "Epoch 4/5\n",
            "1500/1500 - 4s - loss: 0.0066 - accuracy: 0.9977 - val_loss: 0.1487 - val_accuracy: 0.9750 - 4s/epoch - 3ms/step\n",
            "Epoch 5/5\n",
            "1500/1500 - 5s - loss: 0.0027 - accuracy: 0.9991 - val_loss: 0.1352 - val_accuracy: 0.9776 - 5s/epoch - 3ms/step\n",
            "Accuracy after 80.0% labels manipulated: 7.10%\n",
            "Baseline Accuracy: 97.50%\n",
            "1875/1875 [==============================] - 3s 2ms/step\n",
            "Epoch 1/5\n",
            "1500/1500 - 4s - loss: 3.3361e-04 - accuracy: 1.0000 - val_loss: 0.1361 - val_accuracy: 0.9792 - 4s/epoch - 3ms/step\n",
            "Epoch 2/5\n",
            "1500/1500 - 4s - loss: 0.0060 - accuracy: 0.9978 - val_loss: 0.1636 - val_accuracy: 0.9764 - 4s/epoch - 3ms/step\n",
            "Epoch 3/5\n",
            "1500/1500 - 4s - loss: 0.0043 - accuracy: 0.9986 - val_loss: 0.1560 - val_accuracy: 0.9748 - 4s/epoch - 2ms/step\n",
            "Epoch 4/5\n",
            "1500/1500 - 4s - loss: 0.0017 - accuracy: 0.9995 - val_loss: 0.1667 - val_accuracy: 0.9754 - 4s/epoch - 2ms/step\n",
            "Epoch 5/5\n",
            "1500/1500 - 5s - loss: 3.9482e-04 - accuracy: 1.0000 - val_loss: 0.1522 - val_accuracy: 0.9782 - 5s/epoch - 3ms/step\n",
            "Accuracy after 85.0% labels manipulated: 4.06%\n",
            "Baseline Accuracy: 97.50%\n",
            "1875/1875 [==============================] - 3s 2ms/step\n",
            "Epoch 1/5\n",
            "1500/1500 - 4s - loss: 0.0047 - accuracy: 0.9987 - val_loss: 0.1987 - val_accuracy: 0.9724 - 4s/epoch - 3ms/step\n",
            "Epoch 2/5\n",
            "1500/1500 - 5s - loss: 0.0041 - accuracy: 0.9986 - val_loss: 0.1701 - val_accuracy: 0.9766 - 5s/epoch - 3ms/step\n",
            "Epoch 3/5\n",
            "1500/1500 - 4s - loss: 0.0019 - accuracy: 0.9993 - val_loss: 0.1930 - val_accuracy: 0.9743 - 4s/epoch - 2ms/step\n",
            "Epoch 4/5\n",
            "1500/1500 - 4s - loss: 0.0035 - accuracy: 0.9990 - val_loss: 0.1804 - val_accuracy: 0.9757 - 4s/epoch - 2ms/step\n",
            "Epoch 5/5\n",
            "1500/1500 - 4s - loss: 0.0054 - accuracy: 0.9983 - val_loss: 0.1597 - val_accuracy: 0.9778 - 4s/epoch - 3ms/step\n",
            "Accuracy after 90.0% labels manipulated: 2.44%\n",
            "Baseline Accuracy: 97.50%\n",
            "1875/1875 [==============================] - 3s 2ms/step\n",
            "Epoch 1/5\n",
            "1500/1500 - 4s - loss: 6.8821e-04 - accuracy: 0.9999 - val_loss: 0.1608 - val_accuracy: 0.9779 - 4s/epoch - 3ms/step\n",
            "Epoch 2/5\n",
            "1500/1500 - 4s - loss: 0.0027 - accuracy: 0.9992 - val_loss: 0.1769 - val_accuracy: 0.9759 - 4s/epoch - 3ms/step\n",
            "Epoch 3/5\n",
            "1500/1500 - 4s - loss: 0.0046 - accuracy: 0.9985 - val_loss: 0.1888 - val_accuracy: 0.9747 - 4s/epoch - 3ms/step\n",
            "Epoch 4/5\n",
            "1500/1500 - 4s - loss: 0.0023 - accuracy: 0.9994 - val_loss: 0.1883 - val_accuracy: 0.9761 - 4s/epoch - 2ms/step\n",
            "Epoch 5/5\n",
            "1500/1500 - 4s - loss: 0.0022 - accuracy: 0.9992 - val_loss: 0.1689 - val_accuracy: 0.9768 - 4s/epoch - 3ms/step\n",
            "Accuracy after 98.0% labels manipulated: 0.00%\n",
            "Baseline Accuracy: 97.50%\n"
          ]
        }
      ],
      "source": [
        "\n",
        "# percentages of labels to manipulate\n",
        "percentages = [0.1, 0.2, 0.5, 0.7, 0.8, 0.85, 0.9, 0.98]\n",
        "\n",
        "\n",
        "\n",
        "initial_epochs = 5\n",
        "manipulated_epochs = 5\n",
        "\n",
        "model = create_model()\n",
        "\n",
        "# simulating training the model\n",
        "model.fit(x_train, y_train_cat, epochs=initial_epochs, validation_split=0.2, verbose=0)\n",
        "\n",
        "# baseline accuracy\n",
        "baseline_accuracy = model.evaluate(x_test, y_test_cat, verbose=0)[1]\n",
        "\n",
        "# storing accuracies after manipulation\n",
        "manipulated_accuracies = []\n",
        "\n",
        "\n",
        "\n",
        "# Adjust the loop to use the new manipulation function\n",
        "for percentage in percentages:\n",
        "    # Generate predictions for the entire training set\n",
        "    predictions = model.predict(x_train)\n",
        "\n",
        "    # Manipulate the entire training labels based on the strategy\n",
        "    manipulated_labels = manipulate_labels_at_least_likely(y_train, predictions)\n",
        "\n",
        "    # Manipulate a percentage of the training labels\n",
        "    num_manipulated_samples = int(len(y_train) * percentage)\n",
        "    indices = np.random.choice(len(y_train), num_manipulated_samples, replace=False)\n",
        "    y_train_partial_manipulated = np.copy(y_train)\n",
        "    y_train_partial_manipulated[indices] = manipulated_labels[indices]\n",
        "    y_train_manipulated_cat = to_categorical(y_train_partial_manipulated)\n",
        "\n",
        "    # Retrain the model with the manipulated labels\n",
        "    model_manipulated = create_model()\n",
        "    manipulated_epochs = 5\n",
        "\n",
        "    # Train the baseline model\n",
        "    history = model.fit(x_train, y_train_cat, epochs=5, validation_split=0.2, verbose=2)\n",
        "    model_manipulated.fit(x_train, y_train_manipulated_cat, epochs=manipulated_epochs, validation_split=0.2, verbose=0)\n",
        "\n",
        "\n",
        "    # Evaluate the manipulated model\n",
        "    manipulated_accuracy = model_manipulated.evaluate(x_test, y_test_cat, verbose=0)[1]\n",
        "    manipulated_accuracies.append(manipulated_accuracy)\n",
        "    print(f\"Accuracy after {percentage*100}% labels manipulated: {manipulated_accuracy*100:.2f}%\")\n",
        "    print(f\"Baseline Accuracy: {baseline_accuracy*100:.2f}%\")\n",
        "\n",
        "\n"
      ]
    },
    {
      "cell_type": "code",
      "source": [],
      "metadata": {
        "id": "w8x-5-QqzXq4"
      },
      "execution_count": null,
      "outputs": []
    },
    {
      "cell_type": "code",
      "execution_count": null,
      "metadata": {
        "colab": {
          "base_uri": "https://localhost:8080/",
          "height": 564
        },
        "id": "YXfE_agwcHzf",
        "outputId": "cdeab891-66f3-4dc6-999c-887e1095aa98"
      },
      "outputs": [
        {
          "output_type": "display_data",
          "data": {
            "text/plain": [
              "<Figure size 1000x600 with 1 Axes>"
            ],
            "image/png": "[encoded data removed]"
          },
          "metadata": {}
        }
      ],
      "source": [
        "# Plotting of label manipulation on model accuracy\n",
        "plt.figure(figsize=(10, 6))\n",
        "plt.plot([p*100 for p in percentages], [acc*100 for acc in manipulated_accuracies], marker='o', linestyle='-', color='blue')\n",
        "plt.title('Impact of Label Manipulation on Model Accuracy')\n",
        "plt.xlabel('Percentage of Labels Manipulated (%)')\n",
        "plt.ylabel('Accuracy (%)')\n",
        "plt.xticks([p*100 for p in percentages])\n",
        "plt.grid(True)\n",
        "plt.show()"
      ]
    }
  ],
  "metadata": {
    "colab": {
      "provenance": []
    },
    "kernelspec": {
      "display_name": "Python 3",
      "name": "python3"
    },
    "language_info": {
      "name": "python"
    }
  },
  "nbformat": 4,
  "nbformat_minor": 0
}
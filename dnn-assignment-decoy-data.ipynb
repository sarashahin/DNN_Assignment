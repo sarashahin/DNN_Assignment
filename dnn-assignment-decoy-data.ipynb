{
 "cells": [
  {
   "cell_type": "code",
   "execution_count": 1,
   "id": "406a3865",
   "metadata": {
    "_cell_guid": "b1076dfc-b9ad-4769-8c92-a6c4dae69d19",
    "_uuid": "8f2839f25d086af736a60e9eeb907d3b93b6e0e5",
    "execution": {
     "iopub.execute_input": "2024-03-17T17:57:59.121833Z",
     "iopub.status.busy": "2024-03-17T17:57:59.121223Z",
     "iopub.status.idle": "2024-03-17T17:57:59.126894Z",
     "shell.execute_reply": "2024-03-17T17:57:59.125701Z"
    },
    "papermill": {
     "duration": 0.013091,
     "end_time": "2024-03-17T17:57:59.129462",
     "exception": false,
     "start_time": "2024-03-17T17:57:59.116371",
     "status": "completed"
    },
    "tags": []
   },
   "outputs": [],
   "source": [
    "# This Python 3 environment comes with many helpful analytics libraries installed\n",
    "# It is defined by the kaggle/python Docker image: https://github.com/kaggle/docker-python\n",
    "# For example, here's several helpful packages to load\n",
    "\n",
    "# import numpy as np # linear algebra\n",
    "# import pandas as pd # data processing, CSV file I/O (e.g. pd.read_csv)\n",
    "\n",
    "# # Input data files are available in the read-only \"../input/\" directory\n",
    "# # For example, running this (by clicking run or pressing Shift+Enter) will list all files under the input directory\n",
    "\n",
    "# import os\n",
    "# for dirname, _, filenames in os.walk('/kaggle/input'):\n",
    "#     for filename in filenames:\n",
    "#         print(os.path.join(dirname, filename))\n",
    "\n",
    "# You can write up to 20GB to the current directory (/kaggle/working/) that gets preserved as output when you create a version using \"Save & Run All\" \n",
    "# You can also write temporary files to /kaggle/temp/, but they won't be saved outside of the current session"
   ]
  },
  {
   "cell_type": "code",
   "execution_count": 2,
   "id": "e69054b2",
   "metadata": {
    "execution": {
     "iopub.execute_input": "2024-03-17T17:57:59.137803Z",
     "iopub.status.busy": "2024-03-17T17:57:59.136710Z",
     "iopub.status.idle": "2024-03-17T17:58:01.184243Z",
     "shell.execute_reply": "2024-03-17T17:58:01.183152Z"
    },
    "papermill": {
     "duration": 2.054215,
     "end_time": "2024-03-17T17:58:01.186961",
     "exception": false,
     "start_time": "2024-03-17T17:57:59.132746",
     "status": "completed"
    },
    "tags": []
   },
   "outputs": [],
   "source": [
    "import numpy as np\n",
    "from sklearn.datasets import make_classification\n",
    "from sklearn.model_selection import train_test_split\n",
    "from sklearn.ensemble import RandomForestClassifier\n",
    "from sklearn.metrics import accuracy_score\n",
    "\n",
    "# Create dataset\n",
    "X, y = make_classification(n_samples=1000, n_features=20, n_classes=2, random_state=42)\n",
    "\n",
    "# Split the dataset into training and testing sets\n",
    "X_train, X_test, y_train, y_test = train_test_split(X, y, test_size=0.2, random_state=42)\n"
   ]
  },
  {
   "cell_type": "code",
   "execution_count": 3,
   "id": "711132ec",
   "metadata": {
    "execution": {
     "iopub.execute_input": "2024-03-17T17:58:01.193943Z",
     "iopub.status.busy": "2024-03-17T17:58:01.193442Z",
     "iopub.status.idle": "2024-03-17T17:58:01.200075Z",
     "shell.execute_reply": "2024-03-17T17:58:01.198951Z"
    },
    "papermill": {
     "duration": 0.012747,
     "end_time": "2024-03-17T17:58:01.202376",
     "exception": false,
     "start_time": "2024-03-17T17:58:01.189629",
     "status": "completed"
    },
    "tags": []
   },
   "outputs": [],
   "source": [
    "# Generate decoy data\n",
    "np.random.seed(42)\n",
    "decoy_data = np.random.randn(50, 20)  # Generate 50 decoy samples\n",
    "decoy_data[:, 0] = 5  # decoy data can be identified by an unusual value in the first feature\n",
    "decoy_labels = np.zeros(50)  # Decoy data true class\n",
    "\n",
    "# Inject decoy data into the training set\n",
    "X_train_with_decoy = np.vstack([X_train, decoy_data])\n",
    "y_train_with_decoy = np.concatenate([y_train, decoy_labels])\n"
   ]
  },
  {
   "cell_type": "code",
   "execution_count": 4,
   "id": "caa91ec4",
   "metadata": {
    "execution": {
     "iopub.execute_input": "2024-03-17T17:58:01.209656Z",
     "iopub.status.busy": "2024-03-17T17:58:01.208985Z",
     "iopub.status.idle": "2024-03-17T17:58:01.684069Z",
     "shell.execute_reply": "2024-03-17T17:58:01.682905Z"
    },
    "papermill": {
     "duration": 0.481477,
     "end_time": "2024-03-17T17:58:01.686730",
     "exception": false,
     "start_time": "2024-03-17T17:58:01.205253",
     "status": "completed"
    },
    "tags": []
   },
   "outputs": [
    {
     "name": "stdout",
     "output_type": "stream",
     "text": [
      "Test Accuracy: 0.89\n",
      "Decoy Data Accuracy: 1.00\n"
     ]
    }
   ],
   "source": [
    "# Train a simple model\n",
    "model = RandomForestClassifier(random_state=42)\n",
    "model.fit(X_train_with_decoy, y_train_with_decoy)\n",
    "\n",
    "# Predict on the test set and decoy data\n",
    "y_pred_test = model.predict(X_test)\n",
    "test_accuracy = accuracy_score(y_test, y_pred_test)\n",
    "print(f\"Test Accuracy: {test_accuracy:.2f}\")\n",
    "\n",
    "# Evaluate model on decoy data\n",
    "decoy_predictions = model.predict(decoy_data)\n",
    "decoy_accuracy = accuracy_score(decoy_labels, decoy_predictions)\n",
    "print(f\"Decoy Data Accuracy: {decoy_accuracy:.2f}\")\n"
   ]
  }
 ],
 "metadata": {
  "kaggle": {
   "accelerator": "none",
   "dataSources": [],
   "dockerImageVersionId": 30664,
   "isGpuEnabled": false,
   "isInternetEnabled": true,
   "language": "python",
   "sourceType": "notebook"
  },
  "kernelspec": {
   "display_name": "Python 3",
   "language": "python",
   "name": "python3"
  },
  "language_info": {
   "codemirror_mode": {
    "name": "ipython",
    "version": 3
   },
   "file_extension": ".py",
   "mimetype": "text/x-python",
   "name": "python",
   "nbconvert_exporter": "python",
   "pygments_lexer": "ipython3",
   "version": "3.10.13"
  },
  "papermill": {
   "default_parameters": {},
   "duration": 6.283357,
   "end_time": "2024-03-17T17:58:02.210470",
   "environment_variables": {},
   "exception": null,
   "input_path": "__notebook__.ipynb",
   "output_path": "__notebook__.ipynb",
   "parameters": {},
   "start_time": "2024-03-17T17:57:55.927113",
   "version": "2.5.0"
  }
 },
 "nbformat": 4,
 "nbformat_minor": 5
}

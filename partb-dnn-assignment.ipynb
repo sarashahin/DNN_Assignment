{
 "cells": [
  {
   "cell_type": "code",
   "execution_count": 1,
   "id": "3ccc713a",
   "metadata": {
    "_cell_guid": "b1076dfc-b9ad-4769-8c92-a6c4dae69d19",
    "_uuid": "8f2839f25d086af736a60e9eeb907d3b93b6e0e5",
    "execution": {
     "iopub.execute_input": "2024-03-17T17:55:41.852875Z",
     "iopub.status.busy": "2024-03-17T17:55:41.852540Z",
     "iopub.status.idle": "2024-03-17T17:55:41.857613Z",
     "shell.execute_reply": "2024-03-17T17:55:41.856692Z"
    },
    "papermill": {
     "duration": 0.012804,
     "end_time": "2024-03-17T17:55:41.859326",
     "exception": false,
     "start_time": "2024-03-17T17:55:41.846522",
     "status": "completed"
    },
    "tags": []
   },
   "outputs": [],
   "source": [
    "# This Python 3 environment comes with many helpful analytics libraries installed\n",
    "# It is defined by the kaggle/python Docker image: https://github.com/kaggle/docker-python\n",
    "# For example, here's several helpful packages to load\n",
    "\n",
    "# import numpy as np # linear algebra\n",
    "# import pandas as pd # data processing, CSV file I/O (e.g. pd.read_csv)\n",
    "\n",
    "# # Input data files are available in the read-only \"../input/\" directory\n",
    "# # For example, running this (by clicking run or pressing Shift+Enter) will list all files under the input directory\n",
    "\n",
    "# import os\n",
    "# for dirname, _, filenames in os.walk('/kaggle/input'):\n",
    "#     for filename in filenames:\n",
    "#         print(os.path.join(dirname, filename))\n",
    "\n",
    "# You can write up to 20GB to the current directory (/kaggle/working/) that gets preserved as output when you create a version using \"Save & Run All\" \n",
    "# You can also write temporary files to /kaggle/temp/, but they won't be saved outside of the current session"
   ]
  },
  {
   "cell_type": "code",
   "execution_count": 2,
   "id": "5e73747a",
   "metadata": {
    "execution": {
     "iopub.execute_input": "2024-03-17T17:55:41.870233Z",
     "iopub.status.busy": "2024-03-17T17:55:41.869658Z",
     "iopub.status.idle": "2024-03-17T17:56:20.627766Z",
     "shell.execute_reply": "2024-03-17T17:56:20.626896Z"
    },
    "papermill": {
     "duration": 38.765605,
     "end_time": "2024-03-17T17:56:20.629623",
     "exception": false,
     "start_time": "2024-03-17T17:55:41.864018",
     "status": "completed"
    },
    "tags": []
   },
   "outputs": [
    {
     "name": "stderr",
     "output_type": "stream",
     "text": [
      "2024-03-17 17:55:43.600655: E external/local_xla/xla/stream_executor/cuda/cuda_dnn.cc:9261] Unable to register cuDNN factory: Attempting to register factory for plugin cuDNN when one has already been registered\n",
      "2024-03-17 17:55:43.600774: E external/local_xla/xla/stream_executor/cuda/cuda_fft.cc:607] Unable to register cuFFT factory: Attempting to register factory for plugin cuFFT when one has already been registered\n",
      "2024-03-17 17:55:43.736462: E external/local_xla/xla/stream_executor/cuda/cuda_blas.cc:1515] Unable to register cuBLAS factory: Attempting to register factory for plugin cuBLAS when one has already been registered\n"
     ]
    },
    {
     "name": "stdout",
     "output_type": "stream",
     "text": [
      "Downloading data from https://storage.googleapis.com/tensorflow/tf-keras-datasets/train-labels-idx1-ubyte.gz\n",
      "\u001b[1m29515/29515\u001b[0m \u001b[32m━━━━━━━━━━━━━━━━━━━━\u001b[0m\u001b[37m\u001b[0m \u001b[1m0s\u001b[0m 0us/step\n",
      "Downloading data from https://storage.googleapis.com/tensorflow/tf-keras-datasets/train-images-idx3-ubyte.gz\n",
      "\u001b[1m26421880/26421880\u001b[0m \u001b[32m━━━━━━━━━━━━━━━━━━━━\u001b[0m\u001b[37m\u001b[0m \u001b[1m0s\u001b[0m 0us/step\n",
      "Downloading data from https://storage.googleapis.com/tensorflow/tf-keras-datasets/t10k-labels-idx1-ubyte.gz\n",
      "\u001b[1m5148/5148\u001b[0m \u001b[32m━━━━━━━━━━━━━━━━━━━━\u001b[0m\u001b[37m\u001b[0m \u001b[1m0s\u001b[0m 0us/step\n",
      "Downloading data from https://storage.googleapis.com/tensorflow/tf-keras-datasets/t10k-images-idx3-ubyte.gz\n",
      "\u001b[1m4422102/4422102\u001b[0m \u001b[32m━━━━━━━━━━━━━━━━━━━━\u001b[0m\u001b[37m\u001b[0m \u001b[1m0s\u001b[0m 0us/step\n"
     ]
    },
    {
     "name": "stderr",
     "output_type": "stream",
     "text": [
      "/opt/conda/lib/python3.10/site-packages/keras/src/layers/reshaping/flatten.py:37: UserWarning: Do not pass an `input_shape`/`input_dim` argument to a layer. When using Sequential models, prefer using an `Input(shape)` object as the first layer in the model instead.\n",
      "  super().__init__(**kwargs)\n"
     ]
    },
    {
     "name": "stdout",
     "output_type": "stream",
     "text": [
      "Epoch 1/10\n",
      "1500/1500 - 3s - 2ms/step - accuracy: 0.8165 - loss: 0.5243 - val_accuracy: 0.8386 - val_loss: 0.4529\n",
      "Epoch 2/10\n",
      "1500/1500 - 2s - 2ms/step - accuracy: 0.8597 - loss: 0.3907 - val_accuracy: 0.8671 - val_loss: 0.3701\n",
      "Epoch 3/10\n",
      "1500/1500 - 2s - 2ms/step - accuracy: 0.8719 - loss: 0.3492 - val_accuracy: 0.8622 - val_loss: 0.3841\n",
      "Epoch 4/10\n",
      "1500/1500 - 3s - 2ms/step - accuracy: 0.8824 - loss: 0.3204 - val_accuracy: 0.8751 - val_loss: 0.3435\n",
      "Epoch 5/10\n",
      "1500/1500 - 2s - 2ms/step - accuracy: 0.8884 - loss: 0.3025 - val_accuracy: 0.8645 - val_loss: 0.3780\n",
      "Epoch 6/10\n",
      "1500/1500 - 3s - 2ms/step - accuracy: 0.8920 - loss: 0.2885 - val_accuracy: 0.8793 - val_loss: 0.3338\n",
      "Epoch 7/10\n",
      "1500/1500 - 2s - 2ms/step - accuracy: 0.8989 - loss: 0.2723 - val_accuracy: 0.8827 - val_loss: 0.3289\n",
      "Epoch 8/10\n",
      "1500/1500 - 3s - 2ms/step - accuracy: 0.9021 - loss: 0.2617 - val_accuracy: 0.8849 - val_loss: 0.3263\n",
      "Epoch 9/10\n",
      "1500/1500 - 2s - 2ms/step - accuracy: 0.9064 - loss: 0.2499 - val_accuracy: 0.8889 - val_loss: 0.3161\n",
      "Epoch 10/10\n",
      "1500/1500 - 2s - 2ms/step - accuracy: 0.9092 - loss: 0.2422 - val_accuracy: 0.8841 - val_loss: 0.3267\n",
      "313/313 - 0s - 1ms/step - accuracy: 0.8770 - loss: 0.3521\n",
      "\n",
      "Test accuracy: 0.8769999742507935\n"
     ]
    }
   ],
   "source": [
    "import tensorflow as tf\n",
    "from tensorflow.keras.datasets import fashion_mnist\n",
    "from tensorflow.keras.models import Sequential\n",
    "from tensorflow.keras.layers import Dense, Flatten\n",
    "from tensorflow.keras.utils import to_categorical\n",
    "import numpy as np\n",
    "import matplotlib.pyplot as plt\n",
    "\n",
    "# Load dataset\n",
    "(X_train, y_train), (X_test, y_test) = fashion_mnist.load_data()\n",
    "\n",
    "# Preprocess the data\n",
    "X_train, X_test = X_train / 255.0, X_test / 255.0\n",
    "y_train, y_test = to_categorical(y_train), to_categorical(y_test)\n",
    "\n",
    "# Define the model\n",
    "model = Sequential([\n",
    "    Flatten(input_shape=(28, 28)),\n",
    "    Dense(128, activation='relu'),\n",
    "    Dense(10, activation='softmax')\n",
    "])\n",
    "\n",
    "# Compile the model\n",
    "model.compile(optimizer='adam', loss='categorical_crossentropy', metrics=['accuracy'])\n",
    "\n",
    "# Train the model\n",
    "history_original = model.fit(X_train, y_train, epochs=10, validation_split=0.2, verbose=2)\n",
    "\n",
    "# Evaluate the model\n",
    "test_loss, test_acc = model.evaluate(X_test, y_test, verbose=2)\n",
    "print('\\nTest accuracy:', test_acc)\n",
    "\n",
    "\n"
   ]
  },
  {
   "cell_type": "code",
   "execution_count": 3,
   "id": "e314af81",
   "metadata": {
    "execution": {
     "iopub.execute_input": "2024-03-17T17:56:20.643764Z",
     "iopub.status.busy": "2024-03-17T17:56:20.643441Z",
     "iopub.status.idle": "2024-03-17T17:56:20.650033Z",
     "shell.execute_reply": "2024-03-17T17:56:20.649080Z"
    },
    "papermill": {
     "duration": 0.015599,
     "end_time": "2024-03-17T17:56:20.651686",
     "exception": false,
     "start_time": "2024-03-17T17:56:20.636087",
     "status": "completed"
    },
    "tags": []
   },
   "outputs": [],
   "source": [
    "def flip_labels_randomly(y, fraction):\n",
    "    \"\"\"\n",
    "    Randomly flip a fraction of the labels in y.\n",
    "    \"\"\"\n",
    "    n_samples = int(len(y) * fraction)\n",
    "    indices_to_flip = np.random.choice(len(y), n_samples, replace=False)\n",
    "    y_flipped = y.copy()\n",
    "    for index in indices_to_flip:\n",
    "        # Randomly select a new label different from the current one\n",
    "        current_label = np.argmax(y_flipped[index])\n",
    "        possible_labels = [i for i in range(y.shape[1]) if i != current_label]\n",
    "        new_label = np.random.choice(possible_labels)\n",
    "        y_flipped[index] = np.eye(y.shape[1])[new_label]\n",
    "    return y_flipped\n",
    "\n"
   ]
  },
  {
   "cell_type": "code",
   "execution_count": 4,
   "id": "9ac98532",
   "metadata": {
    "execution": {
     "iopub.execute_input": "2024-03-17T17:56:20.665063Z",
     "iopub.status.busy": "2024-03-17T17:56:20.664828Z",
     "iopub.status.idle": "2024-03-17T17:56:20.669644Z",
     "shell.execute_reply": "2024-03-17T17:56:20.668904Z"
    },
    "papermill": {
     "duration": 0.013074,
     "end_time": "2024-03-17T17:56:20.671136",
     "exception": false,
     "start_time": "2024-03-17T17:56:20.658062",
     "status": "completed"
    },
    "tags": []
   },
   "outputs": [],
   "source": [
    "def manipulate_labels_to_common_class(y, fraction):\n",
    "    \"\"\"\n",
    "    Manipulate labels to maximize confusion by flipping a fraction of labels to the most common class.\n",
    "    \"\"\"\n",
    "    # Identify the most common class\n",
    "    most_common_class = np.argmax(np.sum(y, axis=0))\n",
    "    \n",
    "    # Determine number of labels to manipulate\n",
    "    n_samples = int(len(y) * fraction)\n",
    "    \n",
    "    # Randomly select samples to manipulate\n",
    "    indices_to_manipulate = np.random.choice(len(y), n_samples, replace=True)\n",
    "    \n",
    "    # Manipulate selected labels\n",
    "    y_manipulated = y.copy()\n",
    "    for index in indices_to_manipulate:\n",
    "        y_manipulated[index] = np.eye(y.shape[1])[most_common_class]\n",
    "        \n",
    "    return y_manipulated\n",
    "\n"
   ]
  },
  {
   "cell_type": "code",
   "execution_count": 5,
   "id": "4c07bd85",
   "metadata": {
    "execution": {
     "iopub.execute_input": "2024-03-17T17:56:20.684234Z",
     "iopub.status.busy": "2024-03-17T17:56:20.683813Z",
     "iopub.status.idle": "2024-03-17T18:01:30.593823Z",
     "shell.execute_reply": "2024-03-17T18:01:30.592879Z"
    },
    "papermill": {
     "duration": 309.919,
     "end_time": "2024-03-17T18:01:30.596131",
     "exception": false,
     "start_time": "2024-03-17T17:56:20.677131",
     "status": "completed"
    },
    "tags": []
   },
   "outputs": [
    {
     "name": "stdout",
     "output_type": "stream",
     "text": [
      "Fraction manipulated: 0.001, Test accuracy: 0.8788999915122986\n",
      "Fraction manipulated: 1.87, Test accuracy: 0.10050000250339508\n",
      "Fraction manipulated: 20.5, Test accuracy: 0.10000000149011612\n",
      "Fraction manipulated: 30.9, Test accuracy: 0.10000000149011612\n",
      "Fraction manipulated: 50.2, Test accuracy: 0.10000000149011612\n",
      "Fraction manipulated: 60.5, Test accuracy: 0.10000000149011612\n",
      "Fraction manipulated: 70.76, Test accuracy: 0.10000000149011612\n"
     ]
    },
    {
     "data": {
      "image/png": "[encoded data removed]",
      "text/plain": [
       "<Figure size 640x480 with 1 Axes>"
      ]
     },
     "metadata": {},
     "output_type": "display_data"
    }
   ],
   "source": [
    "fractions = [0.001, 1.87, 20.5, 30.9, 50.2, 60.5, 70.76]\n",
    "accuracies = []\n",
    "\n",
    "for fraction in fractions:\n",
    "    # Manipulate labels\n",
    "    y_train_manipulated = manipulate_labels_to_common_class(y_train, fraction)\n",
    "    \n",
    "    # Reinitialize the model \n",
    "    model = Sequential([\n",
    "        Flatten(input_shape=(28, 28)),\n",
    "        Dense(128, activation='relu'),\n",
    "        Dense(10, activation='softmax')\n",
    "    ])\n",
    "    model.compile(optimizer='adam', loss='categorical_crossentropy', metrics=['accuracy'])\n",
    "    \n",
    "    # Train the model with manipulated labels\n",
    "    history = model.fit(X_train, y_train_manipulated, epochs=10, validation_split=0.2, verbose=0)\n",
    "    \n",
    "    # Evaluate the model\n",
    "    test_loss, test_acc = model.evaluate(X_test, y_test, verbose=0)\n",
    "    accuracies.append(test_acc)\n",
    "    print(f\"Fraction manipulated: {fraction}, Test accuracy: {test_acc}\")\n",
    "\n",
    "# Plotting\n",
    "plt.plot(fractions, accuracies, marker='o', linestyle='-', color='red')\n",
    "plt.title('Model Performance vs Label Manipulation Fraction')\n",
    "plt.xlabel('Fraction of Labels Manipulated')\n",
    "plt.ylabel('Test Accuracy')\n",
    "plt.grid(True)\n",
    "plt.show()\n",
    "\n"
   ]
  },
  {
   "cell_type": "code",
   "execution_count": null,
   "id": "d0bd9b14",
   "metadata": {
    "papermill": {
     "duration": 0.007076,
     "end_time": "2024-03-17T18:01:30.610675",
     "exception": false,
     "start_time": "2024-03-17T18:01:30.603599",
     "status": "completed"
    },
    "tags": []
   },
   "outputs": [],
   "source": []
  },
  {
   "cell_type": "code",
   "execution_count": null,
   "id": "95419a79",
   "metadata": {
    "papermill": {
     "duration": 0.006679,
     "end_time": "2024-03-17T18:01:30.624178",
     "exception": false,
     "start_time": "2024-03-17T18:01:30.617499",
     "status": "completed"
    },
    "tags": []
   },
   "outputs": [],
   "source": []
  },
  {
   "cell_type": "code",
   "execution_count": 6,
   "id": "bb9034ef",
   "metadata": {
    "execution": {
     "iopub.execute_input": "2024-03-17T18:01:30.640198Z",
     "iopub.status.busy": "2024-03-17T18:01:30.639232Z",
     "iopub.status.idle": "2024-03-17T18:01:33.625289Z",
     "shell.execute_reply": "2024-03-17T18:01:33.624168Z"
    },
    "papermill": {
     "duration": 2.996437,
     "end_time": "2024-03-17T18:01:33.627631",
     "exception": false,
     "start_time": "2024-03-17T18:01:30.631194",
     "status": "completed"
    },
    "tags": []
   },
   "outputs": [
    {
     "name": "stderr",
     "output_type": "stream",
     "text": [
      "/opt/conda/lib/python3.10/site-packages/keras/src/layers/core/dense.py:85: UserWarning: Do not pass an `input_shape`/`input_dim` argument to a layer. When using Sequential models, prefer using an `Input(shape)` object as the first layer in the model instead.\n",
      "  super().__init__(activity_regularizer=activity_regularizer, **kwargs)\n"
     ]
    },
    {
     "name": "stdout",
     "output_type": "stream",
     "text": [
      "Baseline Accuracy: 0.90\n"
     ]
    }
   ],
   "source": [
    "import numpy as np\n",
    "from sklearn.datasets import make_classification\n",
    "from sklearn.model_selection import train_test_split\n",
    "from tensorflow.keras.models import Sequential\n",
    "from tensorflow.keras.layers import Dense\n",
    "from tensorflow.keras.utils import to_categorical\n",
    "\n",
    "# Create a synthetic dataset\n",
    "X, y = make_classification(n_samples=1000, n_features=20, n_classes=3, n_informative=10, random_state=42)\n",
    "y = to_categorical(y)\n",
    "\n",
    "# Split the dataset into training and test sets\n",
    "X_train, X_test, y_train, y_test = train_test_split(X, y, test_size=0.2, random_state=42)\n",
    "\n",
    "# Build a simple neural network model\n",
    "model = Sequential([\n",
    "    Dense(64, activation='relu', input_shape=(X_train.shape[1],)),\n",
    "    Dense(64, activation='relu'),\n",
    "    Dense(y_train.shape[1], activation='softmax')\n",
    "])\n",
    "\n",
    "model.compile(optimizer='adam', loss='categorical_crossentropy', metrics=['accuracy'])\n",
    "\n",
    "# Train the model on the original dataset\n",
    "history = model.fit(X_train, y_train, epochs=20, validation_split=0.1, verbose=0)\n",
    "\n",
    "# Evaluate the model on the test set\n",
    "loss, accuracy = model.evaluate(X_test, y_test, verbose=0)\n",
    "print(f'Baseline Accuracy: {accuracy:.2f}')\n"
   ]
  },
  {
   "cell_type": "code",
   "execution_count": 7,
   "id": "b1db44f0",
   "metadata": {
    "execution": {
     "iopub.execute_input": "2024-03-17T18:01:33.644442Z",
     "iopub.status.busy": "2024-03-17T18:01:33.644076Z",
     "iopub.status.idle": "2024-03-17T18:01:35.970892Z",
     "shell.execute_reply": "2024-03-17T18:01:35.969834Z"
    },
    "papermill": {
     "duration": 2.337682,
     "end_time": "2024-03-17T18:01:35.973050",
     "exception": false,
     "start_time": "2024-03-17T18:01:33.635368",
     "status": "completed"
    },
    "tags": []
   },
   "outputs": [
    {
     "name": "stdout",
     "output_type": "stream",
     "text": [
      "Manipulated Accuracy (90% flipped): 0.1200\n"
     ]
    }
   ],
   "source": [
    "def manipulate_labels(y_train, percentage=10):\n",
    "    \"\"\"Manipulate labels within the training set by a given percentage.\"\"\"\n",
    "    np.random.seed(42)\n",
    "    manipulated_indices = np.random.choice(np.arange(len(y_train)), replace=False, \n",
    "                                            size=int(len(y_train) * (percentage / 100)))\n",
    "    \n",
    "    for idx in manipulated_indices:\n",
    "        current_label = np.argmax(y_train[idx])\n",
    "        possible_labels = list(range(y_train.shape[1]))\n",
    "        possible_labels.remove(current_label)\n",
    "        new_label = np.random.choice(possible_labels)\n",
    "        y_train[idx] = to_categorical(new_label, num_classes=y_train.shape[1])\n",
    "    return y_train\n",
    "\n",
    "\n",
    "# Example of manipulating 90% of the labels\n",
    "y_train_manipulated = manipulate_labels(np.copy(y_train), percentage=90)\n",
    "\n",
    "# Re-train the model with manipulated labels and compare performance\n",
    "model_manipulated = Sequential([\n",
    "    Dense(64, activation='relu', input_shape=(X_train.shape[1],)),\n",
    "    Dense(64, activation='relu'),\n",
    "    Dense(y_train.shape[1], activation='softmax')\n",
    "])\n",
    "\n",
    "model_manipulated.compile(optimizer='adam', loss='categorical_crossentropy', metrics=['accuracy'])\n",
    "\n",
    "history_manipulated = model_manipulated.fit(X_train, y_train_manipulated, epochs=20, validation_split=0.1, verbose=0)\n",
    "\n",
    "loss_manipulated, accuracy_manipulated = model_manipulated.evaluate(X_test, y_test, verbose=0)\n",
    "print(f'Manipulated Accuracy (90% flipped): {accuracy_manipulated:.4f}')\n"
   ]
  },
  {
   "cell_type": "code",
   "execution_count": null,
   "id": "25a9c906",
   "metadata": {
    "papermill": {
     "duration": 0.007848,
     "end_time": "2024-03-17T18:01:35.988909",
     "exception": false,
     "start_time": "2024-03-17T18:01:35.981061",
     "status": "completed"
    },
    "tags": []
   },
   "outputs": [],
   "source": []
  },
  {
   "cell_type": "code",
   "execution_count": null,
   "id": "c5554d35",
   "metadata": {
    "papermill": {
     "duration": 0.00703,
     "end_time": "2024-03-17T18:01:36.003305",
     "exception": false,
     "start_time": "2024-03-17T18:01:35.996275",
     "status": "completed"
    },
    "tags": []
   },
   "outputs": [],
   "source": []
  },
  {
   "cell_type": "code",
   "execution_count": null,
   "id": "12eb6350",
   "metadata": {
    "papermill": {
     "duration": 0.006996,
     "end_time": "2024-03-17T18:01:36.017625",
     "exception": false,
     "start_time": "2024-03-17T18:01:36.010629",
     "status": "completed"
    },
    "tags": []
   },
   "outputs": [],
   "source": []
  },
  {
   "cell_type": "code",
   "execution_count": null,
   "id": "ceab7cbb",
   "metadata": {
    "papermill": {
     "duration": 0.007122,
     "end_time": "2024-03-17T18:01:36.031891",
     "exception": false,
     "start_time": "2024-03-17T18:01:36.024769",
     "status": "completed"
    },
    "tags": []
   },
   "outputs": [],
   "source": []
  },
  {
   "cell_type": "code",
   "execution_count": null,
   "id": "b528c601",
   "metadata": {
    "papermill": {
     "duration": 0.007056,
     "end_time": "2024-03-17T18:01:36.046401",
     "exception": false,
     "start_time": "2024-03-17T18:01:36.039345",
     "status": "completed"
    },
    "tags": []
   },
   "outputs": [],
   "source": []
  },
  {
   "cell_type": "code",
   "execution_count": 8,
   "id": "9b38d41b",
   "metadata": {
    "execution": {
     "iopub.execute_input": "2024-03-17T18:01:36.062284Z",
     "iopub.status.busy": "2024-03-17T18:01:36.061939Z",
     "iopub.status.idle": "2024-03-17T18:02:11.891313Z",
     "shell.execute_reply": "2024-03-17T18:02:11.890310Z"
    },
    "papermill": {
     "duration": 35.839297,
     "end_time": "2024-03-17T18:02:11.892934",
     "exception": false,
     "start_time": "2024-03-17T18:01:36.053637",
     "status": "completed"
    },
    "tags": []
   },
   "outputs": [
    {
     "name": "stdout",
     "output_type": "stream",
     "text": [
      "Downloading data from https://storage.googleapis.com/tensorflow/tf-keras-datasets/mnist.npz\n",
      "\u001b[1m11490434/11490434\u001b[0m \u001b[32m━━━━━━━━━━━━━━━━━━━━\u001b[0m\u001b[37m\u001b[0m \u001b[1m0s\u001b[0m 0us/step\n",
      "Epoch 1/10\n"
     ]
    },
    {
     "name": "stderr",
     "output_type": "stream",
     "text": [
      "/opt/conda/lib/python3.10/site-packages/keras/src/layers/reshaping/flatten.py:37: UserWarning: Do not pass an `input_shape`/`input_dim` argument to a layer. When using Sequential models, prefer using an `Input(shape)` object as the first layer in the model instead.\n",
      "  super().__init__(**kwargs)\n"
     ]
    },
    {
     "name": "stdout",
     "output_type": "stream",
     "text": [
      "1500/1500 - 4s - 3ms/step - accuracy: 0.9176 - loss: 0.2894 - val_accuracy: 0.9557 - val_loss: 0.1558\n",
      "Epoch 2/10\n",
      "1500/1500 - 3s - 2ms/step - accuracy: 0.9622 - loss: 0.1278 - val_accuracy: 0.9663 - val_loss: 0.1146\n",
      "Epoch 3/10\n",
      "1500/1500 - 3s - 2ms/step - accuracy: 0.9746 - loss: 0.0864 - val_accuracy: 0.9686 - val_loss: 0.1020\n",
      "Epoch 4/10\n",
      "1500/1500 - 3s - 2ms/step - accuracy: 0.9805 - loss: 0.0642 - val_accuracy: 0.9703 - val_loss: 0.0959\n",
      "Epoch 5/10\n",
      "1500/1500 - 3s - 2ms/step - accuracy: 0.9850 - loss: 0.0492 - val_accuracy: 0.9721 - val_loss: 0.0907\n",
      "Epoch 6/10\n",
      "1500/1500 - 5s - 3ms/step - accuracy: 0.9888 - loss: 0.0382 - val_accuracy: 0.9737 - val_loss: 0.0945\n",
      "Epoch 7/10\n",
      "1500/1500 - 3s - 2ms/step - accuracy: 0.9906 - loss: 0.0302 - val_accuracy: 0.9706 - val_loss: 0.1052\n",
      "Epoch 8/10\n",
      "1500/1500 - 5s - 3ms/step - accuracy: 0.9927 - loss: 0.0243 - val_accuracy: 0.9758 - val_loss: 0.0922\n",
      "Epoch 9/10\n",
      "1500/1500 - 3s - 2ms/step - accuracy: 0.9942 - loss: 0.0193 - val_accuracy: 0.9741 - val_loss: 0.0951\n",
      "Epoch 10/10\n",
      "1500/1500 - 3s - 2ms/step - accuracy: 0.9958 - loss: 0.0152 - val_accuracy: 0.9753 - val_loss: 0.0948\n",
      "Baseline Accuracy: 97.65%\n"
     ]
    }
   ],
   "source": [
    "import tensorflow as tf\n",
    "from tensorflow.keras.datasets import mnist\n",
    "from tensorflow.keras.models import Sequential\n",
    "from tensorflow.keras.layers import Flatten, Dense\n",
    "from tensorflow.keras.utils import to_categorical\n",
    "import numpy as np\n",
    "import matplotlib.pyplot as plt\n",
    "\n",
    "# Load the MNIST dataset\n",
    "(x_train, y_train), (x_test, y_test) = mnist.load_data()\n",
    "\n",
    "# Preprocess the data\n",
    "x_train, x_test = x_train / 255.0, x_test / 255.0  # Normalize the data\n",
    "y_train_cat = to_categorical(y_train)  # One-hot encoding for the labels\n",
    "y_test_cat = to_categorical(y_test)\n",
    "\n",
    "# simple neural network model\n",
    "def create_model():\n",
    "    model = Sequential([\n",
    "        Flatten(input_shape=(28, 28)),\n",
    "        Dense(128, activation='relu'),\n",
    "        Dense(10, activation='softmax')\n",
    "    ])\n",
    "    model.compile(optimizer='adam',\n",
    "                  loss='categorical_crossentropy',\n",
    "                  metrics=['accuracy'])\n",
    "    return model\n",
    "\n",
    "model = create_model()\n",
    "\n",
    "# Train the model\n",
    "history = model.fit(x_train, y_train_cat, epochs=10, validation_split=0.2, verbose=2)\n",
    "\n",
    "# Evaluate the model on the test dataset\n",
    "baseline_accuracy = model.evaluate(x_test, y_test_cat, verbose=0)[1]\n",
    "print(f\"Baseline Accuracy: {baseline_accuracy*100:.2f}%\")\n"
   ]
  },
  {
   "cell_type": "code",
   "execution_count": 9,
   "id": "51609e01",
   "metadata": {
    "execution": {
     "iopub.execute_input": "2024-03-17T18:02:11.912104Z",
     "iopub.status.busy": "2024-03-17T18:02:11.911347Z",
     "iopub.status.idle": "2024-03-17T18:02:12.395206Z",
     "shell.execute_reply": "2024-03-17T18:02:12.394229Z"
    },
    "papermill": {
     "duration": 0.49572,
     "end_time": "2024-03-17T18:02:12.397409",
     "exception": false,
     "start_time": "2024-03-17T18:02:11.901689",
     "status": "completed"
    },
    "tags": []
   },
   "outputs": [],
   "source": [
    "def strategically_flip_labels(y, percentage=0.9):\n",
    "    \"\"\"\n",
    "    Flips labels within the training set to a strategically chosen class to maximize confusion.\n",
    "    `percentage` controls what fraction of the dataset to manipulate.\n",
    "    \"\"\"\n",
    "    np.random.seed(42)  # reproducibility\n",
    "    indices = np.random.choice(np.arange(len(y)), replace=False,\n",
    "                               size=int(len(y) * percentage))\n",
    "    # Mapping designed to maximize confusion\n",
    "    confusion_map = {0: 8, 1: 7, 2: 8, 3: 8, 4: 9, 5: 8, 6: 8, 7: 1, 8: 0, 9: 4}\n",
    "    \n",
    "    y_flipped = y.copy()\n",
    "    for idx in indices:\n",
    "        original_label = y[idx]\n",
    "        y_flipped[idx] = confusion_map[original_label]\n",
    "    \n",
    "    return y_flipped\n",
    "\n",
    "# Percentage of labels to manipulate\n",
    "percentages = [0.1, 0.2, 0.5, 0.7, 0.8, 0.85, 0.9, 0.98]\n",
    "accuracies = []\n",
    "\n",
    "for percentage in percentages:\n",
    "    # Flip labels and convert to categorical\n",
    "    y_train_flipped = strategically_flip_labels(y_train, percentage)\n",
    "    y_train_flipped_cat = to_categorical(y_train_flipped)\n"
   ]
  },
  {
   "cell_type": "code",
   "execution_count": 10,
   "id": "acaec813",
   "metadata": {
    "execution": {
     "iopub.execute_input": "2024-03-17T18:02:12.416405Z",
     "iopub.status.busy": "2024-03-17T18:02:12.416104Z",
     "iopub.status.idle": "2024-03-17T18:07:39.799527Z",
     "shell.execute_reply": "2024-03-17T18:07:39.798513Z"
    },
    "papermill": {
     "duration": 327.394846,
     "end_time": "2024-03-17T18:07:39.801314",
     "exception": false,
     "start_time": "2024-03-17T18:02:12.406468",
     "status": "completed"
    },
    "tags": []
   },
   "outputs": [
    {
     "name": "stdout",
     "output_type": "stream",
     "text": [
      "Epoch 1/10\n",
      "1500/1500 - 4s - 2ms/step - accuracy: 0.8161 - loss: 0.6294 - val_accuracy: 0.8568 - val_loss: 0.4947\n",
      "Epoch 2/10\n",
      "1500/1500 - 3s - 2ms/step - accuracy: 0.8581 - loss: 0.4781 - val_accuracy: 0.8701 - val_loss: 0.4600\n",
      "Epoch 3/10\n",
      "1500/1500 - 5s - 3ms/step - accuracy: 0.8689 - loss: 0.4377 - val_accuracy: 0.8695 - val_loss: 0.4417\n",
      "Epoch 4/10\n",
      "1500/1500 - 5s - 3ms/step - accuracy: 0.8749 - loss: 0.4102 - val_accuracy: 0.8631 - val_loss: 0.4504\n",
      "Epoch 5/10\n",
      "1500/1500 - 3s - 2ms/step - accuracy: 0.8795 - loss: 0.3897 - val_accuracy: 0.8711 - val_loss: 0.4393\n",
      "Epoch 6/10\n",
      "1500/1500 - 3s - 2ms/step - accuracy: 0.8825 - loss: 0.3743 - val_accuracy: 0.8722 - val_loss: 0.4448\n",
      "Epoch 7/10\n",
      "1500/1500 - 3s - 2ms/step - accuracy: 0.8848 - loss: 0.3609 - val_accuracy: 0.8740 - val_loss: 0.4391\n",
      "Epoch 8/10\n",
      "1500/1500 - 5s - 3ms/step - accuracy: 0.8889 - loss: 0.3446 - val_accuracy: 0.8673 - val_loss: 0.4470\n",
      "Epoch 9/10\n",
      "1500/1500 - 3s - 2ms/step - accuracy: 0.8902 - loss: 0.3355 - val_accuracy: 0.8723 - val_loss: 0.4461\n",
      "Epoch 10/10\n",
      "1500/1500 - 5s - 3ms/step - accuracy: 0.8930 - loss: 0.3219 - val_accuracy: 0.8673 - val_loss: 0.4571\n",
      "Accuracy with 10.0% Manipulated Labels: 95.64%\n",
      "Epoch 1/10\n",
      "1500/1500 - 3s - 2ms/step - accuracy: 0.7147 - loss: 0.8027 - val_accuracy: 0.7493 - val_loss: 0.7006\n",
      "Epoch 2/10\n",
      "1500/1500 - 5s - 3ms/step - accuracy: 0.7574 - loss: 0.6528 - val_accuracy: 0.7466 - val_loss: 0.6619\n",
      "Epoch 3/10\n",
      "1500/1500 - 5s - 4ms/step - accuracy: 0.7693 - loss: 0.6080 - val_accuracy: 0.7498 - val_loss: 0.6406\n",
      "Epoch 4/10\n",
      "1500/1500 - 3s - 2ms/step - accuracy: 0.7757 - loss: 0.5825 - val_accuracy: 0.7418 - val_loss: 0.6599\n",
      "Epoch 5/10\n",
      "1500/1500 - 3s - 2ms/step - accuracy: 0.7805 - loss: 0.5608 - val_accuracy: 0.7585 - val_loss: 0.6397\n",
      "Epoch 6/10\n",
      "1500/1500 - 3s - 2ms/step - accuracy: 0.7869 - loss: 0.5428 - val_accuracy: 0.7533 - val_loss: 0.6276\n",
      "Epoch 7/10\n",
      "1500/1500 - 3s - 2ms/step - accuracy: 0.7903 - loss: 0.5294 - val_accuracy: 0.7594 - val_loss: 0.6261\n",
      "Epoch 8/10\n",
      "1500/1500 - 5s - 3ms/step - accuracy: 0.7932 - loss: 0.5147 - val_accuracy: 0.7523 - val_loss: 0.6372\n",
      "Epoch 9/10\n",
      "1500/1500 - 3s - 2ms/step - accuracy: 0.7980 - loss: 0.5012 - val_accuracy: 0.7491 - val_loss: 0.6425\n",
      "Epoch 10/10\n",
      "1500/1500 - 3s - 2ms/step - accuracy: 0.8007 - loss: 0.4881 - val_accuracy: 0.7528 - val_loss: 0.6509\n",
      "Accuracy with 20.0% Manipulated Labels: 93.43%\n",
      "Epoch 1/10\n",
      "1500/1500 - 3s - 2ms/step - accuracy: 0.4783 - loss: 0.9679 - val_accuracy: 0.4902 - val_loss: 0.8514\n",
      "Epoch 2/10\n",
      "1500/1500 - 3s - 2ms/step - accuracy: 0.5039 - loss: 0.8288 - val_accuracy: 0.4890 - val_loss: 0.8205\n",
      "Epoch 3/10\n",
      "1500/1500 - 3s - 2ms/step - accuracy: 0.5193 - loss: 0.7898 - val_accuracy: 0.4960 - val_loss: 0.8111\n",
      "Epoch 4/10\n",
      "1500/1500 - 3s - 2ms/step - accuracy: 0.5276 - loss: 0.7667 - val_accuracy: 0.4890 - val_loss: 0.7942\n",
      "Epoch 5/10\n",
      "1500/1500 - 3s - 2ms/step - accuracy: 0.5418 - loss: 0.7472 - val_accuracy: 0.4968 - val_loss: 0.7939\n",
      "Epoch 6/10\n",
      "1500/1500 - 5s - 3ms/step - accuracy: 0.5518 - loss: 0.7312 - val_accuracy: 0.4903 - val_loss: 0.7948\n",
      "Epoch 7/10\n",
      "1500/1500 - 3s - 2ms/step - accuracy: 0.5645 - loss: 0.7159 - val_accuracy: 0.5036 - val_loss: 0.7985\n",
      "Epoch 8/10\n",
      "1500/1500 - 3s - 2ms/step - accuracy: 0.5761 - loss: 0.7027 - val_accuracy: 0.4994 - val_loss: 0.7994\n",
      "Epoch 9/10\n",
      "1500/1500 - 5s - 3ms/step - accuracy: 0.5882 - loss: 0.6888 - val_accuracy: 0.4958 - val_loss: 0.8098\n",
      "Epoch 10/10\n",
      "1500/1500 - 3s - 2ms/step - accuracy: 0.6008 - loss: 0.6735 - val_accuracy: 0.4936 - val_loss: 0.8136\n",
      "Accuracy with 50.0% Manipulated Labels: 49.74%\n",
      "Epoch 1/10\n",
      "1500/1500 - 3s - 2ms/step - accuracy: 0.6311 - loss: 0.8743 - val_accuracy: 0.6659 - val_loss: 0.7540\n",
      "Epoch 2/10\n",
      "1500/1500 - 5s - 3ms/step - accuracy: 0.6637 - loss: 0.7409 - val_accuracy: 0.6566 - val_loss: 0.7388\n",
      "Epoch 3/10\n",
      "1500/1500 - 5s - 4ms/step - accuracy: 0.6713 - loss: 0.7052 - val_accuracy: 0.6783 - val_loss: 0.7096\n",
      "Epoch 4/10\n",
      "1500/1500 - 3s - 2ms/step - accuracy: 0.6781 - loss: 0.6824 - val_accuracy: 0.6770 - val_loss: 0.7079\n",
      "Epoch 5/10\n",
      "1500/1500 - 3s - 2ms/step - accuracy: 0.6831 - loss: 0.6658 - val_accuracy: 0.6750 - val_loss: 0.6990\n",
      "Epoch 6/10\n",
      "1500/1500 - 3s - 2ms/step - accuracy: 0.6857 - loss: 0.6501 - val_accuracy: 0.6616 - val_loss: 0.7104\n",
      "Epoch 7/10\n",
      "1500/1500 - 5s - 3ms/step - accuracy: 0.6895 - loss: 0.6360 - val_accuracy: 0.6650 - val_loss: 0.7094\n",
      "Epoch 8/10\n",
      "1500/1500 - 5s - 3ms/step - accuracy: 0.6988 - loss: 0.6208 - val_accuracy: 0.6500 - val_loss: 0.7271\n",
      "Epoch 9/10\n",
      "1500/1500 - 5s - 3ms/step - accuracy: 0.7030 - loss: 0.6107 - val_accuracy: 0.6676 - val_loss: 0.7216\n",
      "Epoch 10/10\n",
      "1500/1500 - 5s - 4ms/step - accuracy: 0.7094 - loss: 0.5962 - val_accuracy: 0.6576 - val_loss: 0.7208\n",
      "Accuracy with 70.0% Manipulated Labels: 8.89%\n",
      "Epoch 1/10\n",
      "1500/1500 - 3s - 2ms/step - accuracy: 0.7378 - loss: 0.7599 - val_accuracy: 0.7681 - val_loss: 0.6423\n",
      "Epoch 2/10\n",
      "1500/1500 - 5s - 3ms/step - accuracy: 0.7684 - loss: 0.6288 - val_accuracy: 0.7772 - val_loss: 0.6118\n",
      "Epoch 3/10\n",
      "1500/1500 - 6s - 4ms/step - accuracy: 0.7769 - loss: 0.5917 - val_accuracy: 0.7803 - val_loss: 0.5977\n",
      "Epoch 4/10\n",
      "1500/1500 - 3s - 2ms/step - accuracy: 0.7806 - loss: 0.5694 - val_accuracy: 0.7812 - val_loss: 0.5937\n",
      "Epoch 5/10\n",
      "1500/1500 - 3s - 2ms/step - accuracy: 0.7842 - loss: 0.5510 - val_accuracy: 0.7828 - val_loss: 0.5833\n",
      "Epoch 6/10\n",
      "1500/1500 - 3s - 2ms/step - accuracy: 0.7872 - loss: 0.5378 - val_accuracy: 0.7783 - val_loss: 0.5984\n",
      "Epoch 7/10\n",
      "1500/1500 - 5s - 3ms/step - accuracy: 0.7896 - loss: 0.5227 - val_accuracy: 0.7753 - val_loss: 0.6006\n",
      "Epoch 8/10\n",
      "1500/1500 - 5s - 3ms/step - accuracy: 0.7933 - loss: 0.5092 - val_accuracy: 0.7692 - val_loss: 0.6045\n",
      "Epoch 9/10\n",
      "1500/1500 - 5s - 3ms/step - accuracy: 0.7965 - loss: 0.4967 - val_accuracy: 0.7780 - val_loss: 0.6121\n",
      "Epoch 10/10\n",
      "1500/1500 - 3s - 2ms/step - accuracy: 0.7996 - loss: 0.4835 - val_accuracy: 0.7689 - val_loss: 0.6100\n",
      "Accuracy with 80.0% Manipulated Labels: 3.85%\n",
      "Epoch 1/10\n",
      "1500/1500 - 4s - 2ms/step - accuracy: 0.7887 - loss: 0.6718 - val_accuracy: 0.8196 - val_loss: 0.5605\n",
      "Epoch 2/10\n",
      "1500/1500 - 5s - 3ms/step - accuracy: 0.8205 - loss: 0.5452 - val_accuracy: 0.8236 - val_loss: 0.5331\n",
      "Epoch 3/10\n",
      "1500/1500 - 5s - 3ms/step - accuracy: 0.8271 - loss: 0.5107 - val_accuracy: 0.8275 - val_loss: 0.5240\n",
      "Epoch 4/10\n",
      "1500/1500 - 5s - 4ms/step - accuracy: 0.8320 - loss: 0.4889 - val_accuracy: 0.8291 - val_loss: 0.5178\n",
      "Epoch 5/10\n",
      "1500/1500 - 5s - 4ms/step - accuracy: 0.8355 - loss: 0.4725 - val_accuracy: 0.8265 - val_loss: 0.5191\n",
      "Epoch 6/10\n",
      "1500/1500 - 3s - 2ms/step - accuracy: 0.8371 - loss: 0.4572 - val_accuracy: 0.8260 - val_loss: 0.5268\n",
      "Epoch 7/10\n",
      "1500/1500 - 5s - 3ms/step - accuracy: 0.8399 - loss: 0.4445 - val_accuracy: 0.8267 - val_loss: 0.5191\n",
      "Epoch 8/10\n",
      "1500/1500 - 5s - 4ms/step - accuracy: 0.8421 - loss: 0.4316 - val_accuracy: 0.8256 - val_loss: 0.5290\n",
      "Epoch 9/10\n",
      "1500/1500 - 5s - 3ms/step - accuracy: 0.8437 - loss: 0.4206 - val_accuracy: 0.8156 - val_loss: 0.5416\n",
      "Epoch 10/10\n",
      "1500/1500 - 5s - 3ms/step - accuracy: 0.8473 - loss: 0.4086 - val_accuracy: 0.8187 - val_loss: 0.5538\n",
      "Accuracy with 85.0% Manipulated Labels: 2.88%\n",
      "Epoch 1/10\n",
      "1500/1500 - 4s - 2ms/step - accuracy: 0.8381 - loss: 0.5666 - val_accuracy: 0.8681 - val_loss: 0.4580\n",
      "Epoch 2/10\n",
      "1500/1500 - 5s - 3ms/step - accuracy: 0.8701 - loss: 0.4427 - val_accuracy: 0.8759 - val_loss: 0.4323\n",
      "Epoch 3/10\n",
      "1500/1500 - 5s - 3ms/step - accuracy: 0.8781 - loss: 0.4100 - val_accuracy: 0.8786 - val_loss: 0.4236\n",
      "Epoch 4/10\n",
      "1500/1500 - 5s - 3ms/step - accuracy: 0.8823 - loss: 0.3877 - val_accuracy: 0.8754 - val_loss: 0.4306\n",
      "Epoch 5/10\n",
      "1500/1500 - 5s - 3ms/step - accuracy: 0.8854 - loss: 0.3704 - val_accuracy: 0.8800 - val_loss: 0.4177\n",
      "Epoch 6/10\n",
      "1500/1500 - 3s - 2ms/step - accuracy: 0.8869 - loss: 0.3565 - val_accuracy: 0.8728 - val_loss: 0.4343\n",
      "Epoch 7/10\n",
      "1500/1500 - 5s - 3ms/step - accuracy: 0.8903 - loss: 0.3436 - val_accuracy: 0.8760 - val_loss: 0.4282\n",
      "Epoch 8/10\n",
      "1500/1500 - 3s - 2ms/step - accuracy: 0.8919 - loss: 0.3317 - val_accuracy: 0.8757 - val_loss: 0.4325\n",
      "Epoch 9/10\n",
      "1500/1500 - 5s - 3ms/step - accuracy: 0.8936 - loss: 0.3212 - val_accuracy: 0.8762 - val_loss: 0.4361\n",
      "Epoch 10/10\n",
      "1500/1500 - 5s - 3ms/step - accuracy: 0.8969 - loss: 0.3099 - val_accuracy: 0.8733 - val_loss: 0.4408\n",
      "Accuracy with 90.0% Manipulated Labels: 1.89%\n",
      "Epoch 1/10\n",
      "1500/1500 - 3s - 2ms/step - accuracy: 0.9168 - loss: 0.3266 - val_accuracy: 0.9478 - val_loss: 0.2228\n",
      "Epoch 2/10\n",
      "1500/1500 - 5s - 4ms/step - accuracy: 0.9516 - loss: 0.2050 - val_accuracy: 0.9540 - val_loss: 0.1906\n",
      "Epoch 3/10\n",
      "1500/1500 - 3s - 2ms/step - accuracy: 0.9590 - loss: 0.1741 - val_accuracy: 0.9573 - val_loss: 0.1851\n",
      "Epoch 4/10\n",
      "1500/1500 - 5s - 3ms/step - accuracy: 0.9632 - loss: 0.1553 - val_accuracy: 0.9578 - val_loss: 0.1807\n",
      "Epoch 5/10\n",
      "1500/1500 - 5s - 3ms/step - accuracy: 0.9667 - loss: 0.1406 - val_accuracy: 0.9560 - val_loss: 0.1891\n",
      "Epoch 6/10\n",
      "1500/1500 - 3s - 2ms/step - accuracy: 0.9695 - loss: 0.1284 - val_accuracy: 0.9600 - val_loss: 0.1802\n",
      "Epoch 7/10\n",
      "1500/1500 - 3s - 2ms/step - accuracy: 0.9710 - loss: 0.1195 - val_accuracy: 0.9592 - val_loss: 0.1864\n",
      "Epoch 8/10\n",
      "1500/1500 - 3s - 2ms/step - accuracy: 0.9731 - loss: 0.1094 - val_accuracy: 0.9588 - val_loss: 0.1906\n",
      "Epoch 9/10\n",
      "1500/1500 - 5s - 4ms/step - accuracy: 0.9739 - loss: 0.1019 - val_accuracy: 0.9609 - val_loss: 0.1856\n",
      "Epoch 10/10\n",
      "1500/1500 - 3s - 2ms/step - accuracy: 0.9754 - loss: 0.0944 - val_accuracy: 0.9593 - val_loss: 0.1944\n",
      "Accuracy with 98.0% Manipulated Labels: 1.06%\n"
     ]
    }
   ],
   "source": [
    "for percentage in percentages:\n",
    "    # Flip labels and convert to categorical\n",
    "    y_train_flipped = strategically_flip_labels(y_train, percentage)\n",
    "    y_train_flipped_cat = to_categorical(y_train_flipped)\n",
    "\n",
    "    # Create a new labels of the model \n",
    "    model_with_flipped_labels = create_model()\n",
    "\n",
    "    # Re-train the model with strategically flipped labels\n",
    "    history_flipped = model_with_flipped_labels.fit(x_train, y_train_flipped_cat, epochs=10, validation_split=0.2, verbose=2)\n",
    "\n",
    "    # Evaluate the model on the test dataset\n",
    "    accuracy_with_flipped = model_with_flipped_labels.evaluate(x_test, y_test_cat, verbose=0)[1]\n",
    "    accuracies.append(accuracy_with_flipped)\n",
    "    print(f\"Accuracy with {percentage*100}% Manipulated Labels: {accuracy_with_flipped*100:.2f}%\")\n"
   ]
  },
  {
   "cell_type": "code",
   "execution_count": 11,
   "id": "65342595",
   "metadata": {
    "execution": {
     "iopub.execute_input": "2024-03-17T18:07:39.838447Z",
     "iopub.status.busy": "2024-03-17T18:07:39.838131Z",
     "iopub.status.idle": "2024-03-17T18:07:40.040127Z",
     "shell.execute_reply": "2024-03-17T18:07:40.039320Z"
    },
    "papermill": {
     "duration": 0.222226,
     "end_time": "2024-03-17T18:07:40.041748",
     "exception": false,
     "start_time": "2024-03-17T18:07:39.819522",
     "status": "completed"
    },
    "tags": []
   },
   "outputs": [
    {
     "data": {
      "image/png": "[encoded data removed]",
      "text/plain": [
       "<Figure size 1000x600 with 1 Axes>"
      ]
     },
     "metadata": {},
     "output_type": "display_data"
    }
   ],
   "source": [
    "# Plotting the impact of label manipulation\n",
    "plt.figure(figsize=(10, 6))\n",
    "plt.plot(percentages, [a*100 for a in accuracies], marker='o', linestyle='-', color='blue')\n",
    "plt.title('Impact of Label Manipulation on Model Accuracy')\n",
    "plt.xlabel('Percentage of Labels Manipulated (%)')\n",
    "plt.ylabel('Accuracy (%)')\n",
    "plt.xticks(percentages, [f\"{p*100:.0f}%\" for p in percentages])\n",
    "plt.grid(True)\n",
    "plt.show()"
   ]
  },
  {
   "cell_type": "code",
   "execution_count": null,
   "id": "d4199e79",
   "metadata": {
    "papermill": {
     "duration": 0.018351,
     "end_time": "2024-03-17T18:07:40.078574",
     "exception": false,
     "start_time": "2024-03-17T18:07:40.060223",
     "status": "completed"
    },
    "tags": []
   },
   "outputs": [],
   "source": []
  },
  {
   "cell_type": "code",
   "execution_count": null,
   "id": "d1feefe2",
   "metadata": {
    "papermill": {
     "duration": 0.017969,
     "end_time": "2024-03-17T18:07:40.114655",
     "exception": false,
     "start_time": "2024-03-17T18:07:40.096686",
     "status": "completed"
    },
    "tags": []
   },
   "outputs": [],
   "source": []
  },
  {
   "cell_type": "code",
   "execution_count": null,
   "id": "beef196b",
   "metadata": {
    "papermill": {
     "duration": 0.017823,
     "end_time": "2024-03-17T18:07:40.150507",
     "exception": false,
     "start_time": "2024-03-17T18:07:40.132684",
     "status": "completed"
    },
    "tags": []
   },
   "outputs": [],
   "source": []
  },
  {
   "cell_type": "code",
   "execution_count": null,
   "id": "18b08118",
   "metadata": {
    "papermill": {
     "duration": 0.017849,
     "end_time": "2024-03-17T18:07:40.186271",
     "exception": false,
     "start_time": "2024-03-17T18:07:40.168422",
     "status": "completed"
    },
    "tags": []
   },
   "outputs": [],
   "source": []
  }
 ],
 "metadata": {
  "kaggle": {
   "accelerator": "none",
   "dataSources": [],
   "dockerImageVersionId": 30665,
   "isGpuEnabled": false,
   "isInternetEnabled": true,
   "language": "python",
   "sourceType": "notebook"
  },
  "kernelspec": {
   "display_name": "Python 3",
   "language": "python",
   "name": "python3"
  },
  "language_info": {
   "codemirror_mode": {
    "name": "ipython",
    "version": 3
   },
   "file_extension": ".py",
   "mimetype": "text/x-python",
   "name": "python",
   "nbconvert_exporter": "python",
   "pygments_lexer": "ipython3",
   "version": "3.10.13"
  },
  "papermill": {
   "default_parameters": {},
   "duration": 722.057641,
   "end_time": "2024-03-17T18:07:41.728438",
   "environment_variables": {},
   "exception": null,
   "input_path": "__notebook__.ipynb",
   "output_path": "__notebook__.ipynb",
   "parameters": {},
   "start_time": "2024-03-17T17:55:39.670797",
   "version": "2.5.0"
  }
 },
 "nbformat": 4,
 "nbformat_minor": 5
}

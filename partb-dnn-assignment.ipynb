{
 "cells": [
  {
   "cell_type": "code",
   "execution_count": 1,
   "id": "62733c15",
   "metadata": {
    "_cell_guid": "b1076dfc-b9ad-4769-8c92-a6c4dae69d19",
    "_uuid": "8f2839f25d086af736a60e9eeb907d3b93b6e0e5",
    "execution": {
     "iopub.execute_input": "2024-03-17T18:48:24.731125Z",
     "iopub.status.busy": "2024-03-17T18:48:24.730374Z",
     "iopub.status.idle": "2024-03-17T18:48:24.736719Z",
     "shell.execute_reply": "2024-03-17T18:48:24.735849Z"
    },
    "papermill": {
     "duration": 0.016073,
     "end_time": "2024-03-17T18:48:24.739388",
     "exception": false,
     "start_time": "2024-03-17T18:48:24.723315",
     "status": "completed"
    },
    "tags": []
   },
   "outputs": [],
   "source": [
    "# This Python 3 environment comes with many helpful analytics libraries installed\n",
    "# It is defined by the kaggle/python Docker image: https://github.com/kaggle/docker-python\n",
    "# For example, here's several helpful packages to load\n",
    "\n",
    "# import numpy as np # linear algebra\n",
    "# import pandas as pd # data processing, CSV file I/O (e.g. pd.read_csv)\n",
    "\n",
    "# # Input data files are available in the read-only \"../input/\" directory\n",
    "# # For example, running this (by clicking run or pressing Shift+Enter) will list all files under the input directory\n",
    "\n",
    "# import os\n",
    "# for dirname, _, filenames in os.walk('/kaggle/input'):\n",
    "#     for filename in filenames:\n",
    "#         print(os.path.join(dirname, filename))\n",
    "\n",
    "# You can write up to 20GB to the current directory (/kaggle/working/) that gets preserved as output when you create a version using \"Save & Run All\" \n",
    "# You can also write temporary files to /kaggle/temp/, but they won't be saved outside of the current session"
   ]
  },
  {
   "cell_type": "code",
   "execution_count": null,
   "id": "6d7d727a",
   "metadata": {
    "papermill": {
     "duration": 0.003851,
     "end_time": "2024-03-17T18:48:24.747781",
     "exception": false,
     "start_time": "2024-03-17T18:48:24.743930",
     "status": "completed"
    },
    "tags": []
   },
   "outputs": [],
   "source": []
  },
  {
   "cell_type": "code",
   "execution_count": 2,
   "id": "43a78bcd",
   "metadata": {
    "execution": {
     "iopub.execute_input": "2024-03-17T18:48:24.759072Z",
     "iopub.status.busy": "2024-03-17T18:48:24.757962Z",
     "iopub.status.idle": "2024-03-17T18:50:04.529201Z",
     "shell.execute_reply": "2024-03-17T18:50:04.526580Z"
    },
    "papermill": {
     "duration": 99.780256,
     "end_time": "2024-03-17T18:50:04.532530",
     "exception": false,
     "start_time": "2024-03-17T18:48:24.752274",
     "status": "completed"
    },
    "tags": []
   },
   "outputs": [
    {
     "name": "stderr",
     "output_type": "stream",
     "text": [
      "2024-03-17 18:48:27.429962: E external/local_xla/xla/stream_executor/cuda/cuda_dnn.cc:9261] Unable to register cuDNN factory: Attempting to register factory for plugin cuDNN when one has already been registered\n",
      "2024-03-17 18:48:27.430149: E external/local_xla/xla/stream_executor/cuda/cuda_fft.cc:607] Unable to register cuFFT factory: Attempting to register factory for plugin cuFFT when one has already been registered\n",
      "2024-03-17 18:48:27.640065: E external/local_xla/xla/stream_executor/cuda/cuda_blas.cc:1515] Unable to register cuBLAS factory: Attempting to register factory for plugin cuBLAS when one has already been registered\n"
     ]
    },
    {
     "name": "stdout",
     "output_type": "stream",
     "text": [
      "Downloading data from https://storage.googleapis.com/tensorflow/tf-keras-datasets/mnist.npz\n",
      "\u001b[1m11490434/11490434\u001b[0m \u001b[32m━━━━━━━━━━━━━━━━━━━━\u001b[0m\u001b[37m\u001b[0m \u001b[1m1s\u001b[0m 0us/step\n"
     ]
    },
    {
     "name": "stderr",
     "output_type": "stream",
     "text": [
      "/opt/conda/lib/python3.10/site-packages/keras/src/layers/reshaping/flatten.py:37: UserWarning: Do not pass an `input_shape`/`input_dim` argument to a layer. When using Sequential models, prefer using an `Input(shape)` object as the first layer in the model instead.\n",
      "  super().__init__(**kwargs)\n"
     ]
    },
    {
     "name": "stdout",
     "output_type": "stream",
     "text": [
      "Epoch 1/10\n",
      "1500/1500 - 7s - 5ms/step - accuracy: 0.9164 - loss: 0.2940 - val_accuracy: 0.9542 - val_loss: 0.1603\n",
      "Epoch 2/10\n",
      "1500/1500 - 9s - 6ms/step - accuracy: 0.9614 - loss: 0.1327 - val_accuracy: 0.9617 - val_loss: 0.1228\n",
      "Epoch 3/10\n",
      "1500/1500 - 5s - 4ms/step - accuracy: 0.9727 - loss: 0.0905 - val_accuracy: 0.9682 - val_loss: 0.1049\n",
      "Epoch 4/10\n",
      "1500/1500 - 5s - 3ms/step - accuracy: 0.9806 - loss: 0.0663 - val_accuracy: 0.9743 - val_loss: 0.0878\n",
      "Epoch 5/10\n",
      "1500/1500 - 5s - 4ms/step - accuracy: 0.9847 - loss: 0.0507 - val_accuracy: 0.9726 - val_loss: 0.0911\n",
      "Epoch 6/10\n",
      "1500/1500 - 10s - 7ms/step - accuracy: 0.9885 - loss: 0.0391 - val_accuracy: 0.9741 - val_loss: 0.0853\n",
      "Epoch 7/10\n",
      "1500/1500 - 10s - 7ms/step - accuracy: 0.9905 - loss: 0.0312 - val_accuracy: 0.9757 - val_loss: 0.0881\n",
      "Epoch 8/10\n",
      "1500/1500 - 10s - 7ms/step - accuracy: 0.9929 - loss: 0.0242 - val_accuracy: 0.9741 - val_loss: 0.0946\n",
      "Epoch 9/10\n",
      "1500/1500 - 5s - 3ms/step - accuracy: 0.9938 - loss: 0.0202 - val_accuracy: 0.9770 - val_loss: 0.0901\n",
      "Epoch 10/10\n",
      "1500/1500 - 11s - 7ms/step - accuracy: 0.9954 - loss: 0.0153 - val_accuracy: 0.9752 - val_loss: 0.1001\n",
      "Baseline Accuracy: 97.71%\n"
     ]
    }
   ],
   "source": [
    "import tensorflow as tf\n",
    "from tensorflow.keras.datasets import mnist\n",
    "from tensorflow.keras.models import Sequential\n",
    "from tensorflow.keras.layers import Flatten, Dense\n",
    "from tensorflow.keras.utils import to_categorical\n",
    "import numpy as np\n",
    "import matplotlib.pyplot as plt\n",
    "\n",
    "# Load the MNIST dataset\n",
    "(x_train, y_train), (x_test, y_test) = mnist.load_data()\n",
    "\n",
    "# Preprocess the data\n",
    "x_train, x_test = x_train / 255.0, x_test / 255.0  # Normalize the data\n",
    "y_train_cat = to_categorical(y_train)  # One-hot encoding for the labels\n",
    "y_test_cat = to_categorical(y_test)\n",
    "\n",
    "# simple neural network model\n",
    "def create_model():\n",
    "    model = Sequential([\n",
    "        Flatten(input_shape=(28, 28)),\n",
    "        Dense(128, activation='relu'),\n",
    "        Dense(10, activation='softmax')\n",
    "    ])\n",
    "    model.compile(optimizer='adam',\n",
    "                  loss='categorical_crossentropy',\n",
    "                  metrics=['accuracy'])\n",
    "    return model\n",
    "\n",
    "model = create_model()\n",
    "\n",
    "# Train the model\n",
    "history = model.fit(x_train, y_train_cat, epochs=10, validation_split=0.2, verbose=2)\n",
    "\n",
    "# Evaluate the model on the test dataset\n",
    "baseline_accuracy = model.evaluate(x_test, y_test_cat, verbose=0)[1]\n",
    "print(f\"Baseline Accuracy: {baseline_accuracy*100:.2f}%\")\n"
   ]
  },
  {
   "cell_type": "code",
   "execution_count": 3,
   "id": "036dac27",
   "metadata": {
    "execution": {
     "iopub.execute_input": "2024-03-17T18:50:04.550937Z",
     "iopub.status.busy": "2024-03-17T18:50:04.550468Z",
     "iopub.status.idle": "2024-03-17T18:50:05.818787Z",
     "shell.execute_reply": "2024-03-17T18:50:05.817330Z"
    },
    "papermill": {
     "duration": 1.281816,
     "end_time": "2024-03-17T18:50:05.822541",
     "exception": false,
     "start_time": "2024-03-17T18:50:04.540725",
     "status": "completed"
    },
    "tags": []
   },
   "outputs": [],
   "source": [
    "def strategically_flip_labels(y, percentage=0.9):\n",
    "    \"\"\"\n",
    "    Flips labels within the training set to a strategically chosen class to maximize confusion.\n",
    "    `percentage` controls what fraction of the dataset to manipulate.\n",
    "    \"\"\"\n",
    "    np.random.seed(42)  # reproducibility\n",
    "    indices = np.random.choice(np.arange(len(y)), replace=False,\n",
    "                               size=int(len(y) * percentage))\n",
    "    # Mapping designed to maximize confusion\n",
    "    confusion_map = {0: 8, 1: 7, 2: 8, 3: 8, 4: 9, 5: 8, 6: 8, 7: 1, 8: 0, 9: 4}\n",
    "    \n",
    "    y_flipped = y.copy()\n",
    "    for idx in indices:\n",
    "        original_label = y[idx]\n",
    "        y_flipped[idx] = confusion_map[original_label]\n",
    "    \n",
    "    return y_flipped\n",
    "\n",
    "# Percentage of labels to manipulate\n",
    "percentages = [0.1, 0.2, 0.5, 0.7, 0.8, 0.85, 0.9, 0.98]\n",
    "accuracies = []\n",
    "\n",
    "for percentage in percentages:\n",
    "    # Flip labels and convert to categorical\n",
    "    y_train_flipped = strategically_flip_labels(y_train, percentage)\n",
    "    y_train_flipped_cat = to_categorical(y_train_flipped)\n"
   ]
  },
  {
   "cell_type": "code",
   "execution_count": 4,
   "id": "d756f07a",
   "metadata": {
    "execution": {
     "iopub.execute_input": "2024-03-17T18:50:05.841692Z",
     "iopub.status.busy": "2024-03-17T18:50:05.840474Z",
     "iopub.status.idle": "2024-03-17T18:59:20.387664Z",
     "shell.execute_reply": "2024-03-17T18:59:20.385791Z"
    },
    "papermill": {
     "duration": 554.560153,
     "end_time": "2024-03-17T18:59:20.390875",
     "exception": false,
     "start_time": "2024-03-17T18:50:05.830722",
     "status": "completed"
    },
    "tags": []
   },
   "outputs": [
    {
     "name": "stdout",
     "output_type": "stream",
     "text": [
      "Epoch 1/10\n",
      "1500/1500 - 7s - 4ms/step - accuracy: 0.8123 - loss: 0.6376 - val_accuracy: 0.8616 - val_loss: 0.4992\n",
      "Epoch 2/10\n",
      "1500/1500 - 10s - 7ms/step - accuracy: 0.8560 - loss: 0.4849 - val_accuracy: 0.8698 - val_loss: 0.4629\n",
      "Epoch 3/10\n",
      "1500/1500 - 10s - 7ms/step - accuracy: 0.8671 - loss: 0.4396 - val_accuracy: 0.8658 - val_loss: 0.4497\n",
      "Epoch 4/10\n",
      "1500/1500 - 10s - 7ms/step - accuracy: 0.8744 - loss: 0.4120 - val_accuracy: 0.8734 - val_loss: 0.4367\n",
      "Epoch 5/10\n",
      "1500/1500 - 10s - 7ms/step - accuracy: 0.8789 - loss: 0.3914 - val_accuracy: 0.8701 - val_loss: 0.4404\n",
      "Epoch 6/10\n",
      "1500/1500 - 11s - 7ms/step - accuracy: 0.8824 - loss: 0.3747 - val_accuracy: 0.8725 - val_loss: 0.4506\n",
      "Epoch 7/10\n",
      "1500/1500 - 10s - 6ms/step - accuracy: 0.8861 - loss: 0.3585 - val_accuracy: 0.8711 - val_loss: 0.4377\n",
      "Epoch 8/10\n",
      "1500/1500 - 5s - 4ms/step - accuracy: 0.8879 - loss: 0.3452 - val_accuracy: 0.8730 - val_loss: 0.4415\n",
      "Epoch 9/10\n",
      "1500/1500 - 5s - 4ms/step - accuracy: 0.8913 - loss: 0.3326 - val_accuracy: 0.8658 - val_loss: 0.4496\n",
      "Epoch 10/10\n",
      "1500/1500 - 5s - 4ms/step - accuracy: 0.8941 - loss: 0.3221 - val_accuracy: 0.8703 - val_loss: 0.4574\n",
      "Accuracy with 10.0% Manipulated Labels: 96.19%\n",
      "Epoch 1/10\n",
      "1500/1500 - 6s - 4ms/step - accuracy: 0.7137 - loss: 0.8033 - val_accuracy: 0.7502 - val_loss: 0.6866\n",
      "Epoch 2/10\n",
      "1500/1500 - 5s - 4ms/step - accuracy: 0.7541 - loss: 0.6542 - val_accuracy: 0.7446 - val_loss: 0.6591\n",
      "Epoch 3/10\n",
      "1500/1500 - 6s - 4ms/step - accuracy: 0.7661 - loss: 0.6117 - val_accuracy: 0.7540 - val_loss: 0.6366\n",
      "Epoch 4/10\n",
      "1500/1500 - 6s - 4ms/step - accuracy: 0.7744 - loss: 0.5853 - val_accuracy: 0.7652 - val_loss: 0.6323\n",
      "Epoch 5/10\n",
      "1500/1500 - 10s - 7ms/step - accuracy: 0.7787 - loss: 0.5645 - val_accuracy: 0.7677 - val_loss: 0.6289\n",
      "Epoch 6/10\n",
      "1500/1500 - 5s - 4ms/step - accuracy: 0.7831 - loss: 0.5472 - val_accuracy: 0.7597 - val_loss: 0.6290\n",
      "Epoch 7/10\n",
      "1500/1500 - 11s - 7ms/step - accuracy: 0.7875 - loss: 0.5329 - val_accuracy: 0.7546 - val_loss: 0.6426\n",
      "Epoch 8/10\n",
      "1500/1500 - 10s - 6ms/step - accuracy: 0.7907 - loss: 0.5179 - val_accuracy: 0.7602 - val_loss: 0.6308\n",
      "Epoch 9/10\n",
      "1500/1500 - 5s - 3ms/step - accuracy: 0.7950 - loss: 0.5064 - val_accuracy: 0.7612 - val_loss: 0.6410\n",
      "Epoch 10/10\n",
      "1500/1500 - 5s - 3ms/step - accuracy: 0.7992 - loss: 0.4926 - val_accuracy: 0.7556 - val_loss: 0.6521\n",
      "Accuracy with 20.0% Manipulated Labels: 93.54%\n",
      "Epoch 1/10\n",
      "1500/1500 - 7s - 4ms/step - accuracy: 0.4737 - loss: 0.9732 - val_accuracy: 0.4872 - val_loss: 0.8495\n",
      "Epoch 2/10\n",
      "1500/1500 - 5s - 4ms/step - accuracy: 0.5017 - loss: 0.8320 - val_accuracy: 0.4893 - val_loss: 0.8108\n",
      "Epoch 3/10\n",
      "1500/1500 - 6s - 4ms/step - accuracy: 0.5157 - loss: 0.7926 - val_accuracy: 0.4844 - val_loss: 0.8100\n",
      "Epoch 4/10\n",
      "1500/1500 - 10s - 7ms/step - accuracy: 0.5299 - loss: 0.7679 - val_accuracy: 0.4879 - val_loss: 0.7967\n",
      "Epoch 5/10\n",
      "1500/1500 - 5s - 4ms/step - accuracy: 0.5429 - loss: 0.7492 - val_accuracy: 0.4932 - val_loss: 0.7988\n",
      "Epoch 6/10\n",
      "1500/1500 - 6s - 4ms/step - accuracy: 0.5495 - loss: 0.7340 - val_accuracy: 0.4930 - val_loss: 0.8040\n",
      "Epoch 7/10\n",
      "1500/1500 - 5s - 4ms/step - accuracy: 0.5658 - loss: 0.7185 - val_accuracy: 0.4959 - val_loss: 0.8013\n",
      "Epoch 8/10\n",
      "1500/1500 - 6s - 4ms/step - accuracy: 0.5762 - loss: 0.7044 - val_accuracy: 0.4922 - val_loss: 0.8083\n",
      "Epoch 9/10\n",
      "1500/1500 - 10s - 7ms/step - accuracy: 0.5842 - loss: 0.6920 - val_accuracy: 0.4894 - val_loss: 0.8127\n",
      "Epoch 10/10\n",
      "1500/1500 - 5s - 4ms/step - accuracy: 0.5986 - loss: 0.6795 - val_accuracy: 0.4932 - val_loss: 0.8366\n",
      "Accuracy with 50.0% Manipulated Labels: 47.47%\n",
      "Epoch 1/10\n",
      "1500/1500 - 6s - 4ms/step - accuracy: 0.6329 - loss: 0.8720 - val_accuracy: 0.6524 - val_loss: 0.7632\n",
      "Epoch 2/10\n",
      "1500/1500 - 6s - 4ms/step - accuracy: 0.6643 - loss: 0.7399 - val_accuracy: 0.6745 - val_loss: 0.7293\n",
      "Epoch 3/10\n",
      "1500/1500 - 5s - 4ms/step - accuracy: 0.6729 - loss: 0.7049 - val_accuracy: 0.6767 - val_loss: 0.7139\n",
      "Epoch 4/10\n",
      "1500/1500 - 5s - 4ms/step - accuracy: 0.6785 - loss: 0.6820 - val_accuracy: 0.6812 - val_loss: 0.7043\n",
      "Epoch 5/10\n",
      "1500/1500 - 5s - 4ms/step - accuracy: 0.6836 - loss: 0.6642 - val_accuracy: 0.6702 - val_loss: 0.7015\n",
      "Epoch 6/10\n",
      "1500/1500 - 5s - 4ms/step - accuracy: 0.6871 - loss: 0.6496 - val_accuracy: 0.6719 - val_loss: 0.7061\n",
      "Epoch 7/10\n",
      "1500/1500 - 6s - 4ms/step - accuracy: 0.6910 - loss: 0.6356 - val_accuracy: 0.6742 - val_loss: 0.7033\n",
      "Epoch 8/10\n",
      "1500/1500 - 6s - 4ms/step - accuracy: 0.6983 - loss: 0.6219 - val_accuracy: 0.6626 - val_loss: 0.7132\n",
      "Epoch 9/10\n",
      "1500/1500 - 10s - 7ms/step - accuracy: 0.7024 - loss: 0.6107 - val_accuracy: 0.6687 - val_loss: 0.7224\n",
      "Epoch 10/10\n",
      "1500/1500 - 5s - 3ms/step - accuracy: 0.7064 - loss: 0.5973 - val_accuracy: 0.6643 - val_loss: 0.7340\n",
      "Accuracy with 70.0% Manipulated Labels: 7.69%\n",
      "Epoch 1/10\n",
      "1500/1500 - 8s - 5ms/step - accuracy: 0.7374 - loss: 0.7583 - val_accuracy: 0.7752 - val_loss: 0.6391\n",
      "Epoch 2/10\n",
      "1500/1500 - 5s - 4ms/step - accuracy: 0.7682 - loss: 0.6290 - val_accuracy: 0.7723 - val_loss: 0.6124\n",
      "Epoch 3/10\n",
      "1500/1500 - 6s - 4ms/step - accuracy: 0.7765 - loss: 0.5928 - val_accuracy: 0.7819 - val_loss: 0.5924\n",
      "Epoch 4/10\n",
      "1500/1500 - 6s - 4ms/step - accuracy: 0.7803 - loss: 0.5688 - val_accuracy: 0.7835 - val_loss: 0.5941\n",
      "Epoch 5/10\n",
      "1500/1500 - 6s - 4ms/step - accuracy: 0.7834 - loss: 0.5522 - val_accuracy: 0.7784 - val_loss: 0.5922\n",
      "Epoch 6/10\n",
      "1500/1500 - 6s - 4ms/step - accuracy: 0.7876 - loss: 0.5361 - val_accuracy: 0.7803 - val_loss: 0.5966\n",
      "Epoch 7/10\n",
      "1500/1500 - 10s - 6ms/step - accuracy: 0.7899 - loss: 0.5232 - val_accuracy: 0.7752 - val_loss: 0.5936\n",
      "Epoch 8/10\n",
      "1500/1500 - 5s - 4ms/step - accuracy: 0.7923 - loss: 0.5101 - val_accuracy: 0.7806 - val_loss: 0.5960\n",
      "Epoch 9/10\n",
      "1500/1500 - 5s - 3ms/step - accuracy: 0.7959 - loss: 0.4976 - val_accuracy: 0.7785 - val_loss: 0.6053\n",
      "Epoch 10/10\n",
      "1500/1500 - 10s - 7ms/step - accuracy: 0.7987 - loss: 0.4867 - val_accuracy: 0.7672 - val_loss: 0.6198\n",
      "Accuracy with 80.0% Manipulated Labels: 4.01%\n",
      "Epoch 1/10\n",
      "1500/1500 - 6s - 4ms/step - accuracy: 0.7876 - loss: 0.6766 - val_accuracy: 0.8158 - val_loss: 0.5640\n",
      "Epoch 2/10\n",
      "1500/1500 - 5s - 3ms/step - accuracy: 0.8188 - loss: 0.5493 - val_accuracy: 0.8238 - val_loss: 0.5515\n",
      "Epoch 3/10\n",
      "1500/1500 - 5s - 3ms/step - accuracy: 0.8276 - loss: 0.5149 - val_accuracy: 0.8227 - val_loss: 0.5231\n",
      "Epoch 4/10\n",
      "1500/1500 - 5s - 3ms/step - accuracy: 0.8311 - loss: 0.4934 - val_accuracy: 0.8269 - val_loss: 0.5218\n",
      "Epoch 5/10\n",
      "1500/1500 - 5s - 3ms/step - accuracy: 0.8343 - loss: 0.4758 - val_accuracy: 0.8313 - val_loss: 0.5131\n",
      "Epoch 6/10\n",
      "1500/1500 - 6s - 4ms/step - accuracy: 0.8373 - loss: 0.4620 - val_accuracy: 0.8279 - val_loss: 0.5159\n",
      "Epoch 7/10\n",
      "1500/1500 - 10s - 6ms/step - accuracy: 0.8395 - loss: 0.4478 - val_accuracy: 0.8257 - val_loss: 0.5206\n",
      "Epoch 8/10\n",
      "1500/1500 - 5s - 4ms/step - accuracy: 0.8415 - loss: 0.4353 - val_accuracy: 0.8264 - val_loss: 0.5254\n",
      "Epoch 9/10\n",
      "1500/1500 - 5s - 4ms/step - accuracy: 0.8454 - loss: 0.4221 - val_accuracy: 0.8296 - val_loss: 0.5263\n",
      "Epoch 10/10\n",
      "1500/1500 - 5s - 4ms/step - accuracy: 0.8483 - loss: 0.4112 - val_accuracy: 0.8163 - val_loss: 0.5340\n",
      "Accuracy with 85.0% Manipulated Labels: 3.29%\n",
      "Epoch 1/10\n",
      "1500/1500 - 7s - 4ms/step - accuracy: 0.8367 - loss: 0.5676 - val_accuracy: 0.8686 - val_loss: 0.4556\n",
      "Epoch 2/10\n",
      "1500/1500 - 5s - 4ms/step - accuracy: 0.8706 - loss: 0.4440 - val_accuracy: 0.8742 - val_loss: 0.4422\n",
      "Epoch 3/10\n",
      "1500/1500 - 5s - 4ms/step - accuracy: 0.8778 - loss: 0.4096 - val_accuracy: 0.8759 - val_loss: 0.4253\n",
      "Epoch 4/10\n",
      "1500/1500 - 5s - 3ms/step - accuracy: 0.8825 - loss: 0.3877 - val_accuracy: 0.8774 - val_loss: 0.4216\n",
      "Epoch 5/10\n",
      "1500/1500 - 5s - 3ms/step - accuracy: 0.8863 - loss: 0.3701 - val_accuracy: 0.8766 - val_loss: 0.4175\n",
      "Epoch 6/10\n",
      "1500/1500 - 5s - 4ms/step - accuracy: 0.8877 - loss: 0.3573 - val_accuracy: 0.8795 - val_loss: 0.4160\n",
      "Epoch 7/10\n",
      "1500/1500 - 5s - 4ms/step - accuracy: 0.8900 - loss: 0.3448 - val_accuracy: 0.8783 - val_loss: 0.4241\n",
      "Epoch 8/10\n",
      "1500/1500 - 5s - 3ms/step - accuracy: 0.8925 - loss: 0.3327 - val_accuracy: 0.8722 - val_loss: 0.4350\n",
      "Epoch 9/10\n",
      "1500/1500 - 5s - 3ms/step - accuracy: 0.8942 - loss: 0.3216 - val_accuracy: 0.8802 - val_loss: 0.4387\n",
      "Epoch 10/10\n",
      "1500/1500 - 5s - 3ms/step - accuracy: 0.8966 - loss: 0.3118 - val_accuracy: 0.8763 - val_loss: 0.4335\n",
      "Accuracy with 90.0% Manipulated Labels: 1.35%\n",
      "Epoch 1/10\n",
      "1500/1500 - 7s - 5ms/step - accuracy: 0.9188 - loss: 0.3190 - val_accuracy: 0.9460 - val_loss: 0.2258\n",
      "Epoch 2/10\n",
      "1500/1500 - 6s - 4ms/step - accuracy: 0.9518 - loss: 0.2014 - val_accuracy: 0.9542 - val_loss: 0.1976\n",
      "Epoch 3/10\n",
      "1500/1500 - 5s - 4ms/step - accuracy: 0.9593 - loss: 0.1719 - val_accuracy: 0.9553 - val_loss: 0.1901\n",
      "Epoch 4/10\n",
      "1500/1500 - 5s - 4ms/step - accuracy: 0.9647 - loss: 0.1510 - val_accuracy: 0.9565 - val_loss: 0.1833\n",
      "Epoch 5/10\n",
      "1500/1500 - 5s - 4ms/step - accuracy: 0.9674 - loss: 0.1383 - val_accuracy: 0.9592 - val_loss: 0.1815\n",
      "Epoch 6/10\n",
      "1500/1500 - 11s - 7ms/step - accuracy: 0.9689 - loss: 0.1276 - val_accuracy: 0.9582 - val_loss: 0.1809\n",
      "Epoch 7/10\n",
      "1500/1500 - 9s - 6ms/step - accuracy: 0.9715 - loss: 0.1172 - val_accuracy: 0.9590 - val_loss: 0.1823\n",
      "Epoch 8/10\n",
      "1500/1500 - 10s - 7ms/step - accuracy: 0.9729 - loss: 0.1088 - val_accuracy: 0.9592 - val_loss: 0.1866\n",
      "Epoch 9/10\n",
      "1500/1500 - 5s - 3ms/step - accuracy: 0.9751 - loss: 0.0998 - val_accuracy: 0.9534 - val_loss: 0.2011\n",
      "Epoch 10/10\n",
      "1500/1500 - 5s - 3ms/step - accuracy: 0.9765 - loss: 0.0925 - val_accuracy: 0.9580 - val_loss: 0.1937\n",
      "Accuracy with 98.0% Manipulated Labels: 0.94%\n"
     ]
    }
   ],
   "source": [
    "for percentage in percentages:\n",
    "    # Flip labels and convert to categorical\n",
    "    y_train_flipped = strategically_flip_labels(y_train, percentage)\n",
    "    y_train_flipped_cat = to_categorical(y_train_flipped)\n",
    "\n",
    "    # Create a new labels of the model \n",
    "    model_with_flipped_labels = create_model()\n",
    "\n",
    "    # Re-train the model with strategically flipped labels\n",
    "    history_flipped = model_with_flipped_labels.fit(x_train, y_train_flipped_cat, epochs=10, validation_split=0.2, verbose=2)\n",
    "\n",
    "    # Evaluate the model on the test dataset\n",
    "    accuracy_with_flipped = model_with_flipped_labels.evaluate(x_test, y_test_cat, verbose=0)[1]\n",
    "    accuracies.append(accuracy_with_flipped)\n",
    "    print(f\"Accuracy with {percentage*100}% Manipulated Labels: {accuracy_with_flipped*100:.2f}%\")\n"
   ]
  },
  {
   "cell_type": "code",
   "execution_count": 5,
   "id": "3c7b93fe",
   "metadata": {
    "execution": {
     "iopub.execute_input": "2024-03-17T18:59:20.442178Z",
     "iopub.status.busy": "2024-03-17T18:59:20.441637Z",
     "iopub.status.idle": "2024-03-17T18:59:20.821645Z",
     "shell.execute_reply": "2024-03-17T18:59:20.820404Z"
    },
    "papermill": {
     "duration": 0.409285,
     "end_time": "2024-03-17T18:59:20.824811",
     "exception": false,
     "start_time": "2024-03-17T18:59:20.415526",
     "status": "completed"
    },
    "tags": []
   },
   "outputs": [
    {
     "data": {
      "image/png": "[encoded data removed]",
      "text/plain": [
       "<Figure size 1000x600 with 1 Axes>"
      ]
     },
     "metadata": {},
     "output_type": "display_data"
    }
   ],
   "source": [
    "# Plotting the impact of label manipulation\n",
    "plt.figure(figsize=(10, 6))\n",
    "plt.plot(percentages, [a*100 for a in accuracies], marker='o', linestyle='-', color='blue')\n",
    "plt.title('Impact of Label Manipulation on Model Accuracy')\n",
    "plt.xlabel('Percentage of Labels Manipulated (%)')\n",
    "plt.ylabel('Accuracy (%)')\n",
    "plt.xticks(percentages, [f\"{p*100:.0f}%\" for p in percentages])\n",
    "plt.grid(True)\n",
    "plt.show()"
   ]
  },
  {
   "cell_type": "code",
   "execution_count": null,
   "id": "b0e3a824",
   "metadata": {
    "papermill": {
     "duration": 0.024478,
     "end_time": "2024-03-17T18:59:20.875265",
     "exception": false,
     "start_time": "2024-03-17T18:59:20.850787",
     "status": "completed"
    },
    "tags": []
   },
   "outputs": [],
   "source": []
  },
  {
   "cell_type": "code",
   "execution_count": null,
   "id": "c214fe01",
   "metadata": {
    "papermill": {
     "duration": 0.024048,
     "end_time": "2024-03-17T18:59:20.923750",
     "exception": false,
     "start_time": "2024-03-17T18:59:20.899702",
     "status": "completed"
    },
    "tags": []
   },
   "outputs": [],
   "source": []
  },
  {
   "cell_type": "code",
   "execution_count": null,
   "id": "8dc7160b",
   "metadata": {
    "papermill": {
     "duration": 0.028351,
     "end_time": "2024-03-17T18:59:20.976763",
     "exception": false,
     "start_time": "2024-03-17T18:59:20.948412",
     "status": "completed"
    },
    "tags": []
   },
   "outputs": [],
   "source": []
  },
  {
   "cell_type": "code",
   "execution_count": null,
   "id": "3f21cb16",
   "metadata": {
    "papermill": {
     "duration": 0.028093,
     "end_time": "2024-03-17T18:59:21.029993",
     "exception": false,
     "start_time": "2024-03-17T18:59:21.001900",
     "status": "completed"
    },
    "tags": []
   },
   "outputs": [],
   "source": []
  }
 ],
 "metadata": {
  "kaggle": {
   "accelerator": "none",
   "dataSources": [],
   "dockerImageVersionId": 30665,
   "isGpuEnabled": false,
   "isInternetEnabled": true,
   "language": "python",
   "sourceType": "notebook"
  },
  "kernelspec": {
   "display_name": "Python 3",
   "language": "python",
   "name": "python3"
  },
  "language_info": {
   "codemirror_mode": {
    "name": "ipython",
    "version": 3
   },
   "file_extension": ".py",
   "mimetype": "text/x-python",
   "name": "python",
   "nbconvert_exporter": "python",
   "pygments_lexer": "ipython3",
   "version": "3.10.13"
  },
  "papermill": {
   "default_parameters": {},
   "duration": 663.177862,
   "end_time": "2024-03-17T18:59:23.889531",
   "environment_variables": {},
   "exception": null,
   "input_path": "__notebook__.ipynb",
   "output_path": "__notebook__.ipynb",
   "parameters": {},
   "start_time": "2024-03-17T18:48:20.711669",
   "version": "2.5.0"
  }
 },
 "nbformat": 4,
 "nbformat_minor": 5
}
